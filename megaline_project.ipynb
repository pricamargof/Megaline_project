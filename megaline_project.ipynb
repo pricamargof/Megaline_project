{
 "cells": [
  {
   "cell_type": "markdown",
   "metadata": {},
   "source": [
    "## Project Description\n",
    "\n",
    "You work as an analyst for the telecommunications company Megaline, which offers customers two prepaid plans: Surf and Ultimate. The commercial department wants to know which plan generates more revenue in order to adjust the advertising budget.\n",
    "\n",
    "You will perform a preliminary analysis of the plans based on a small sample of customers. The dataset includes 500 Megaline clients: who they are, where they live, which plan they use, and the number of calls and messages they made in 2018. Your task is to analyze customer behavior and determine which prepaid plan generates more revenue. Later in the project instructions, you will see exactly which aspects of customer behavior need to be analyzed. Determining which plan, on average, generates more revenue is a task that can be solved using statistical tests.\n",
    "\n",
    "## Plan Description\n",
    "\n",
    "Note: Megaline rounds seconds to minutes and megabytes to gigabytes. For calls, each individual call is rounded up: even if a call lasted only one second, it will be counted as one full minute. For web traffic, individual sessions are not rounded up. Instead, the monthly total is rounded up. For example, if someone uses 1,025 MB in a month, they are billed for 2 GB.\n",
    "\n",
    "Here are the details of the plans:\n",
    "\n",
    "Surf\n",
    "\n",
    "Monthly fee: $20\n",
    "\n",
    "500 monthly minutes, 50 text messages, and 15 GB of data included\n",
    "\n",
    "After exceeding the package limits:\n",
    "\n",
    "1 minute: $0.03\n",
    "\n",
    "1 text message: $0.03\n",
    "\n",
    "1 GB of data: $10\n",
    "\n",
    "Ultimate\n",
    "\n",
    "Monthly fee: $70\n",
    "\n",
    "3,000 monthly minutes, 1,000 text messages, and 30 GB of data included\n",
    "\n",
    "After exceeding the package limits:\n",
    "\n",
    "1 minute: $0.01\n",
    "\n",
    "1 text message: $0.01\n",
    "\n",
    "1 GB of data: $7"
   ]
  },
  {
   "cell_type": "markdown",
   "metadata": {
    "id": "eAkbw7Ueuj8X"
   },
   "source": [
    "# 1. Which Plan Performs Better?\n",
    "\n"
   ]
  },
  {
   "cell_type": "markdown",
   "metadata": {
    "id": "lnomf-3Xuj8b"
   },
   "source": [
    "## Introduction"
   ]
  },
  {
   "cell_type": "code",
   "execution_count": 1,
   "metadata": {
    "id": "JdJusn5ouj8c"
   },
   "outputs": [],
   "source": [
    "# Libraries for Data Manipulation\n",
    "import pandas as pd\n",
    "import numpy as np\n",
    "\n",
    "# Libraries for Data Visualization\n",
    "import matplotlib.pyplot as plt\n",
    "import seaborn as sns\n",
    "\n",
    "# Libraries for Statistical Testing\n",
    "from scipy import stats\n",
    "from scipy.stats import ttest_ind\n",
    "\n",
    "pd.set_option('display.max_columns',None)"
   ]
  },
  {
   "cell_type": "markdown",
   "metadata": {
    "id": "rzqsCrgquj8d"
   },
   "source": [
    "# Load the Data"
   ]
  },
  {
   "cell_type": "code",
   "execution_count": 2,
   "metadata": {
    "id": "HmzmQRXIuj8e"
   },
   "outputs": [],
   "source": [
    "# Load Data Files into Separate DataFrames\n",
    "calls = pd.read_csv('/datasets/megaline_calls.csv')\n",
    "internet = pd.read_csv('/datasets/megaline_internet.csv')\n",
    "messages = pd.read_csv('/datasets/megaline_messages.csv')\n",
    "plans = pd.read_csv('/datasets/megaline_plans.csv')\n",
    "users = pd.read_csv('/datasets/megaline_users.csv')\n"
   ]
  },
  {
   "cell_type": "markdown",
   "metadata": {
    "id": "XQh-EeiIuj8e"
   },
   "source": [
    " ## 1.3 Prepare the Data"
   ]
  },
  {
   "cell_type": "markdown",
   "metadata": {},
   "source": [
    "The data in this project is divided into several tables. Each table was explored to gain an initial understanding of the dataset. Necessary corrections were applied individually to ensure accuracy and consistency before proceeding with furth"
   ]
  },
  {
   "cell_type": "markdown",
   "metadata": {
    "id": "TlZUw_Cyuj8f"
   },
   "source": [
    "# 1.4. Plans"
   ]
  },
  {
   "cell_type": "code",
   "execution_count": 3,
   "metadata": {
    "id": "x9qB5mAOuj8f"
   },
   "outputs": [
    {
     "name": "stdout",
     "output_type": "stream",
     "text": [
      "<class 'pandas.core.frame.DataFrame'>\n",
      "RangeIndex: 2 entries, 0 to 1\n",
      "Data columns (total 8 columns):\n",
      " #   Column                 Non-Null Count  Dtype  \n",
      "---  ------                 --------------  -----  \n",
      " 0   messages_included      2 non-null      int64  \n",
      " 1   mb_per_month_included  2 non-null      int64  \n",
      " 2   minutes_included       2 non-null      int64  \n",
      " 3   usd_monthly_pay        2 non-null      int64  \n",
      " 4   usd_per_gb             2 non-null      int64  \n",
      " 5   usd_per_message        2 non-null      float64\n",
      " 6   usd_per_minute         2 non-null      float64\n",
      " 7   plan_name              2 non-null      object \n",
      "dtypes: float64(2), int64(5), object(1)\n",
      "memory usage: 256.0+ bytes\n",
      "None\n",
      "\n",
      "Resumo estatístico:\n",
      "       messages_included  mb_per_month_included  minutes_included  \\\n",
      "count           2.000000               2.000000          2.000000   \n",
      "mean          525.000000           23040.000000       1750.000000   \n",
      "std           671.751442           10861.160159       1767.766953   \n",
      "min            50.000000           15360.000000        500.000000   \n",
      "25%           287.500000           19200.000000       1125.000000   \n",
      "50%           525.000000           23040.000000       1750.000000   \n",
      "75%           762.500000           26880.000000       2375.000000   \n",
      "max          1000.000000           30720.000000       3000.000000   \n",
      "\n",
      "       usd_monthly_pay  usd_per_gb  usd_per_message  usd_per_minute  \n",
      "count         2.000000     2.00000         2.000000        2.000000  \n",
      "mean         45.000000     8.50000         0.020000        0.020000  \n",
      "std          35.355339     2.12132         0.014142        0.014142  \n",
      "min          20.000000     7.00000         0.010000        0.010000  \n",
      "25%          32.500000     7.75000         0.015000        0.015000  \n",
      "50%          45.000000     8.50000         0.020000        0.020000  \n",
      "75%          57.500000     9.25000         0.025000        0.025000  \n",
      "max          70.000000    10.00000         0.030000        0.030000  \n",
      "\n",
      "Visualização das primeiras linhas:\n",
      "   messages_included  mb_per_month_included  minutes_included  \\\n",
      "0                 50                  15360               500   \n",
      "1               1000                  30720              3000   \n",
      "\n",
      "   usd_monthly_pay  usd_per_gb  usd_per_message  usd_per_minute plan_name  \n",
      "0               20          10             0.03            0.03      surf  \n",
      "1               70           7             0.01            0.01  ultimate  \n"
     ]
    }
   ],
   "source": [
    "#Print General Information / Summary of the Plans DataFrame\n",
    "print(plans.info())\n",
    "print(\"\\nResumo estatístico:\")\n",
    "print(plans.describe())\n",
    "\n",
    "print(\"\\nVisualização das primeiras linhas:\")\n",
    "print(plans.head())"
   ]
  },
  {
   "cell_type": "code",
   "execution_count": 4,
   "metadata": {
    "id": "9MRo7tyVuj8f"
   },
   "outputs": [
    {
     "name": "stdout",
     "output_type": "stream",
     "text": [
      "   messages_included  mb_per_month_included  minutes_included  \\\n",
      "0                 50                  15360               500   \n",
      "1               1000                  30720              3000   \n",
      "\n",
      "   usd_monthly_pay  usd_per_gb  usd_per_message  usd_per_minute plan_name  \n",
      "0               20          10             0.03            0.03      surf  \n",
      "1               70           7             0.01            0.01  ultimate  \n"
     ]
    }
   ],
   "source": [
    "#Print a Sample of the Plans Data\n",
    "plans.sample(frac=1)\n",
    "print(plans)"
   ]
  },
  {
   "cell_type": "markdown",
   "metadata": {
    "id": "P8hzr-lquj8f"
   },
   "source": [
    "Data Quality Check – Plans Table\n",
    "\n",
    "There are no missing values in the dataset, and the column plan_name contains the correct values “surf” and “ultimate,” which match the project description. The numeric columns are also consistent: usd_monthly_pay equals $20 and $70, while minutes_included, messages_included, and mb_per_month_included align with the described package limits. The additional pricing values are correct as well.\n",
    "\n",
    "Some improvements could be made for clarity and consistency. The column usd_monthly_pay should be renamed to usd_monthly_fee, the values in plan_name should be standardized to lowercase, and the units in mb_per_month_included should be converted from megabytes to gigabytes."
   ]
  },
  {
   "cell_type": "markdown",
   "metadata": {
    "id": "KXtaxmKsuj8f"
   },
   "source": [
    "##  Correct the Data"
   ]
  },
  {
   "cell_type": "code",
   "execution_count": 5,
   "metadata": {
    "id": "Hen8bhG1uj8g"
   },
   "outputs": [
    {
     "name": "stdout",
     "output_type": "stream",
     "text": [
      "   messages_included  mb_per_month_included  minutes_included  \\\n",
      "0                 50                   15.0               500   \n",
      "1               1000                   30.0              3000   \n",
      "\n",
      "   usd_monthly_fee  usd_per_gb  usd_per_message  usd_per_minute plan_name  \n",
      "0               20          10             0.03            0.03      surf  \n",
      "1               70           7             0.01            0.01  ultimate  \n"
     ]
    }
   ],
   "source": [
    "#Renaming the column to match the data dictionary\n",
    "plans.rename(columns={'usd_monthly_pay': 'usd_monthly_fee'}, inplace=True)\n",
    "\n",
    "#Converting values from megabytes to gigabytes (1 GB = 1024 MB)\n",
    "plans['mb_per_month_included'] = plans['mb_per_month_included'] / 1024\n",
    "\n",
    "print(plans)"
   ]
  },
  {
   "cell_type": "markdown",
   "metadata": {
    "id": "kLcdKu6Duj8g"
   },
   "source": [
    "## Enrich the Data"
   ]
  },
  {
   "cell_type": "code",
   "execution_count": 6,
   "metadata": {
    "id": "6j4XA9_ruj8g"
   },
   "outputs": [
    {
     "name": "stdout",
     "output_type": "stream",
     "text": [
      "   messages_included  mb_per_month_included  minutes_included  \\\n",
      "0                 50                   15.0               500   \n",
      "1               1000                   30.0              3000   \n",
      "\n",
      "   usd_monthly_fee  usd_per_gb  usd_per_message  usd_per_minute plan_name  \n",
      "0               20          10             0.03            0.03      surf  \n",
      "1               70           7             0.01            0.01  ultimate  \n"
     ]
    }
   ],
   "source": [
    "plans['plan_name'] = plans['plan_name'].str.lower()\n",
    "print(plans)"
   ]
  },
  {
   "cell_type": "markdown",
   "metadata": {
    "id": "YJg2O9qjuj8g"
   },
   "source": [
    "## Users"
   ]
  },
  {
   "cell_type": "code",
   "execution_count": 7,
   "metadata": {
    "id": "7JzxwD2juj8g"
   },
   "outputs": [
    {
     "name": "stdout",
     "output_type": "stream",
     "text": [
      "<class 'pandas.core.frame.DataFrame'>\n",
      "RangeIndex: 500 entries, 0 to 499\n",
      "Data columns (total 8 columns):\n",
      " #   Column      Non-Null Count  Dtype \n",
      "---  ------      --------------  ----- \n",
      " 0   user_id     500 non-null    int64 \n",
      " 1   first_name  500 non-null    object\n",
      " 2   last_name   500 non-null    object\n",
      " 3   age         500 non-null    int64 \n",
      " 4   city        500 non-null    object\n",
      " 5   reg_date    500 non-null    object\n",
      " 6   plan        500 non-null    object\n",
      " 7   churn_date  34 non-null     object\n",
      "dtypes: int64(2), object(6)\n",
      "memory usage: 31.4+ KB\n",
      "None\n",
      "\n",
      "Amostra de dados:\n",
      "   user_id first_name  last_name  age                                   city  \\\n",
      "0     1000   Anamaria      Bauer   45  Atlanta-Sandy Springs-Roswell, GA MSA   \n",
      "1     1001     Mickey  Wilkerson   28        Seattle-Tacoma-Bellevue, WA MSA   \n",
      "2     1002     Carlee    Hoffman   36   Las Vegas-Henderson-Paradise, NV MSA   \n",
      "3     1003   Reynaldo    Jenkins   52                          Tulsa, OK MSA   \n",
      "4     1004    Leonila   Thompson   40        Seattle-Tacoma-Bellevue, WA MSA   \n",
      "\n",
      "     reg_date      plan churn_date  \n",
      "0  2018-12-24  ultimate        NaN  \n",
      "1  2018-08-13      surf        NaN  \n",
      "2  2018-10-21      surf        NaN  \n",
      "3  2018-01-28      surf        NaN  \n",
      "4  2018-05-23      surf        NaN  \n",
      "\n",
      "Planos disponíveis:\n",
      "['ultimate' 'surf']\n",
      "\n",
      "Cidades representadas:\n",
      "['Atlanta-Sandy Springs-Roswell, GA MSA' 'Seattle-Tacoma-Bellevue, WA MSA'\n",
      " 'Las Vegas-Henderson-Paradise, NV MSA' 'Tulsa, OK MSA'\n",
      " 'Dallas-Fort Worth-Arlington, TX MSA'\n",
      " 'San Francisco-Oakland-Berkeley, CA MSA' 'Grand Rapids-Kentwood, MI MSA'\n",
      " 'Orlando-Kissimmee-Sanford, FL MSA'\n",
      " 'San Jose-Sunnyvale-Santa Clara, CA MSA' 'Cleveland-Elyria, OH MSA'\n",
      " 'Chicago-Naperville-Elgin, IL-IN-WI MSA' 'Knoxville, TN MSA'\n",
      " 'New York-Newark-Jersey City, NY-NJ-PA MSA' 'Pittsburgh, PA MSA'\n",
      " 'Fresno, CA MSA' 'Washington-Arlington-Alexandria, DC-VA-MD-WV MSA'\n",
      " 'Indianapolis-Carmel-Anderson, IN MSA' 'Jacksonville, FL MSA'\n",
      " 'Los Angeles-Long Beach-Anaheim, CA MSA'\n",
      " 'Omaha-Council Bluffs, NE-IA MSA'\n",
      " 'Houston-The Woodlands-Sugar Land, TX MSA'\n",
      " 'Philadelphia-Camden-Wilmington, PA-NJ-DE-MD MSA'\n",
      " 'Tampa-St. Petersburg-Clearwater, FL MSA' 'Birmingham-Hoover, AL MSA'\n",
      " 'Oklahoma City, OK MSA' 'Charlotte-Concord-Gastonia, NC-SC MSA'\n",
      " 'Denver-Aurora-Lakewood, CO MSA'\n",
      " 'Nashville-Davidson–Murfreesboro–Franklin, TN MSA' 'Columbus, OH MSA'\n",
      " 'Albuquerque, NM MSA' 'Boston-Cambridge-Newton, MA-NH MSA'\n",
      " 'Miami-Fort Lauderdale-West Palm Beach, FL MSA'\n",
      " 'San Diego-Chula Vista-Carlsbad, CA MSA' 'Phoenix-Mesa-Chandler, AZ MSA'\n",
      " 'Portland-Vancouver-Hillsboro, OR-WA MSA' 'Cincinnati, OH-KY-IN MSA'\n",
      " 'Columbia, SC MSA' 'San Antonio-New Braunfels, TX MSA'\n",
      " 'Buffalo-Cheektowaga, NY MSA' 'Memphis, TN-MS-AR MSA'\n",
      " 'Riverside-San Bernardino-Ontario, CA MSA'\n",
      " 'Louisville/Jefferson County, KY-IN MSA'\n",
      " 'Albany-Schenectady-Troy, NY MSA' 'Providence-Warwick, RI-MA MSA'\n",
      " 'Salt Lake City, UT MSA' 'Urban Honolulu, HI MSA' 'El Paso, TX MSA'\n",
      " 'New Haven-Milford, CT MSA' 'North Port-Sarasota-Bradenton, FL MSA'\n",
      " 'Baton Rouge, LA MSA' 'New Orleans-Metairie, LA MSA'\n",
      " 'Bridgeport-Stamford-Norwalk, CT MSA'\n",
      " 'Virginia Beach-Norfolk-Newport News, VA-NC MSA'\n",
      " 'Baltimore-Columbia-Towson, MD MSA' 'Milwaukee-Waukesha, WI MSA'\n",
      " 'Oxnard-Thousand Oaks-Ventura, CA MSA'\n",
      " 'Sacramento–Roseville–Folsom, CA MSA'\n",
      " 'Austin-Round Rock-Georgetown, TX MSA' 'Richmond, VA MSA'\n",
      " 'St. Louis, MO-IL MSA' 'Minneapolis-St. Paul-Bloomington, MN-WI MSA'\n",
      " 'Dayton-Kettering, OH MSA' 'Bakersfield, CA MSA'\n",
      " 'Detroit-Warren-Dearborn, MI MSA' 'Kansas City, MO-KS MSA'\n",
      " 'Charleston-North Charleston, SC MSA' 'Rochester, NY MSA'\n",
      " 'Raleigh-Cary, NC MSA' 'Colorado Springs, CO MSA'\n",
      " 'Greensboro-High Point, NC MSA' 'Tucson, AZ MSA' 'Stockton, CA MSA'\n",
      " 'Cape Coral-Fort Myers, FL MSA']\n"
     ]
    }
   ],
   "source": [
    "#General Information about the 'users' DataFrame\n",
    "print(users.info())\n",
    "\n",
    "# Displaying the first rows to understand the structure of the data\n",
    "print(\"\\nAmostra de dados:\")\n",
    "print(users.head())\n",
    "\n",
    "#Checking unique values for plans and cities\n",
    "print(\"\\nPlanos disponíveis:\")\n",
    "print(users['plan'].unique())\n",
    "\n",
    "print(\"\\nCidades representadas:\")\n",
    "print(users['city'].unique())\n"
   ]
  },
  {
   "cell_type": "code",
   "execution_count": 8,
   "metadata": {
    "id": "5KZ8XmD8uj8g"
   },
   "outputs": [
    {
     "name": "stdout",
     "output_type": "stream",
     "text": [
      "     user_id first_name   last_name  age  \\\n",
      "0       1000   Anamaria       Bauer   45   \n",
      "1       1001     Mickey   Wilkerson   28   \n",
      "2       1002     Carlee     Hoffman   36   \n",
      "3       1003   Reynaldo     Jenkins   52   \n",
      "4       1004    Leonila    Thompson   40   \n",
      "..       ...        ...         ...  ...   \n",
      "495     1495      Fidel      Sharpe   67   \n",
      "496     1496      Ariel    Shepherd   49   \n",
      "497     1497      Donte     Barrera   49   \n",
      "498     1498       Scot  Williamson   51   \n",
      "499     1499      Shena     Dickson   37   \n",
      "\n",
      "                                          city    reg_date      plan  \\\n",
      "0        Atlanta-Sandy Springs-Roswell, GA MSA  2018-12-24  ultimate   \n",
      "1              Seattle-Tacoma-Bellevue, WA MSA  2018-08-13      surf   \n",
      "2         Las Vegas-Henderson-Paradise, NV MSA  2018-10-21      surf   \n",
      "3                                Tulsa, OK MSA  2018-01-28      surf   \n",
      "4              Seattle-Tacoma-Bellevue, WA MSA  2018-05-23      surf   \n",
      "..                                         ...         ...       ...   \n",
      "495  New York-Newark-Jersey City, NY-NJ-PA MSA  2018-09-04      surf   \n",
      "496               New Orleans-Metairie, LA MSA  2018-02-20      surf   \n",
      "497     Los Angeles-Long Beach-Anaheim, CA MSA  2018-12-10  ultimate   \n",
      "498  New York-Newark-Jersey City, NY-NJ-PA MSA  2018-02-04      surf   \n",
      "499          Orlando-Kissimmee-Sanford, FL MSA  2018-05-06      surf   \n",
      "\n",
      "    churn_date  \n",
      "0          NaN  \n",
      "1          NaN  \n",
      "2          NaN  \n",
      "3          NaN  \n",
      "4          NaN  \n",
      "..         ...  \n",
      "495        NaN  \n",
      "496        NaN  \n",
      "497        NaN  \n",
      "498        NaN  \n",
      "499        NaN  \n",
      "\n",
      "[500 rows x 8 columns]\n"
     ]
    }
   ],
   "source": [
    "# Print a sample of the users data\n",
    "users.sample(5)\n",
    "print(users)\n"
   ]
  },
  {
   "cell_type": "markdown",
   "metadata": {
    "id": "XGCgkfLvuj8h"
   },
   "source": [
    "The columns reg_date and churn_date are stored as objects, but since they represent dates, they should be converted to the datetime format. The column churn_date contains many missing values (NaN), which indicates that most users are still active. This is consistent with the data dictionary, so no correction is required."
   ]
  },
  {
   "cell_type": "markdown",
   "metadata": {
    "id": "ppiEfe3luj8i"
   },
   "source": [
    "### Correct the Data"
   ]
  },
  {
   "cell_type": "markdown",
   "metadata": {
    "id": "f4uSIMuuuj8j"
   },
   "source": [
    "## Calls"
   ]
  },
  {
   "cell_type": "code",
   "execution_count": 9,
   "metadata": {
    "id": "hkY01fJnuj8j"
   },
   "outputs": [
    {
     "name": "stdout",
     "output_type": "stream",
     "text": [
      "<class 'pandas.core.frame.DataFrame'>\n",
      "RangeIndex: 137735 entries, 0 to 137734\n",
      "Data columns (total 6 columns):\n",
      " #   Column      Non-Null Count   Dtype         \n",
      "---  ------      --------------   -----         \n",
      " 0   id          137735 non-null  object        \n",
      " 1   user_id     137735 non-null  int64         \n",
      " 2   call_date   137735 non-null  datetime64[ns]\n",
      " 3   duration    137735 non-null  float64       \n",
      " 4   month       137735 non-null  period[M]     \n",
      " 5   call_month  137735 non-null  object        \n",
      "dtypes: datetime64[ns](1), float64(1), int64(1), object(2), period[M](1)\n",
      "memory usage: 6.3+ MB\n",
      "None\n"
     ]
    }
   ],
   "source": [
    "#Print General Information / Summary of the Calls DataFrame\n",
    "print(calls.info())\n",
    "\n"
   ]
  },
  {
   "cell_type": "code",
   "execution_count": 10,
   "metadata": {
    "id": "wdBwJG5Yuj8k"
   },
   "outputs": [
    {
     "name": "stdout",
     "output_type": "stream",
     "text": [
      "\n",
      "Amostra de dados:\n",
      "         id  user_id  call_date  duration    month call_month\n",
      "0   1000_93     1000 2018-12-27      8.52  2018-12    2018-12\n",
      "1  1000_145     1000 2018-12-27     13.66  2018-12    2018-12\n",
      "2  1000_247     1000 2018-12-27     14.48  2018-12    2018-12\n",
      "3  1000_309     1000 2018-12-28      5.76  2018-12    2018-12\n",
      "4  1000_380     1000 2018-12-30      4.22  2018-12    2018-12\n"
     ]
    }
   ],
   "source": [
    "#Print a sample of the calls data\n",
    "print(\"\\nAmostra de dados:\")\n",
    "print(calls.head())"
   ]
  },
  {
   "cell_type": "markdown",
   "metadata": {
    "id": "x5a99U4xuj8k"
   },
   "source": [
    "### Correct the Data"
   ]
  },
  {
   "cell_type": "code",
   "execution_count": 11,
   "metadata": {
    "id": "lBjdw0Bnuj8l"
   },
   "outputs": [
    {
     "name": "stdout",
     "output_type": "stream",
     "text": [
      "              id  user_id  call_date  duration\n",
      "0        1000_93     1000 2018-12-27      8.52\n",
      "1       1000_145     1000 2018-12-27     13.66\n",
      "2       1000_247     1000 2018-12-27     14.48\n",
      "3       1000_309     1000 2018-12-28      5.76\n",
      "4       1000_380     1000 2018-12-30      4.22\n",
      "...          ...      ...        ...       ...\n",
      "137730  1499_199     1499 2018-11-21      8.72\n",
      "137731  1499_200     1499 2018-10-20     10.89\n",
      "137732  1499_201     1499 2018-09-21      8.12\n",
      "137733  1499_202     1499 2018-10-10      0.37\n",
      "137734  1499_203     1499 2018-12-29     13.86\n",
      "\n",
      "[137735 rows x 4 columns]\n"
     ]
    }
   ],
   "source": [
    "calls['call_date'] = pd.to_datetime(calls['call_date'])\n",
    "print(calls)"
   ]
  },
  {
   "cell_type": "code",
   "execution_count": 12,
   "metadata": {
    "id": "nwOKTgfluj8l"
   },
   "outputs": [
    {
     "name": "stdout",
     "output_type": "stream",
     "text": [
      "      Plano  Quantidade de Usuários\n",
      "0      surf                     339\n",
      "1  ultimate                     161\n"
     ]
    }
   ],
   "source": [
    "# Contagem de users por plano\n",
    "plan_counts = users['plan'].value_counts().reset_index()\n",
    "plan_counts.columns = ['Plano', 'Quantidade de Usuários']\n",
    "\n",
    "print(plan_counts)"
   ]
  },
  {
   "cell_type": "markdown",
   "metadata": {
    "id": "qLz4FkyRuj8l"
   },
   "source": [
    "## Messages"
   ]
  },
  {
   "cell_type": "code",
   "execution_count": 13,
   "metadata": {
    "id": "nFA9DFkCuj8l"
   },
   "outputs": [
    {
     "name": "stdout",
     "output_type": "stream",
     "text": [
      "<class 'pandas.core.frame.DataFrame'>\n",
      "RangeIndex: 76051 entries, 0 to 76050\n",
      "Data columns (total 3 columns):\n",
      " #   Column        Non-Null Count  Dtype \n",
      "---  ------        --------------  ----- \n",
      " 0   id            76051 non-null  object\n",
      " 1   user_id       76051 non-null  int64 \n",
      " 2   message_date  76051 non-null  object\n",
      "dtypes: int64(1), object(2)\n",
      "memory usage: 1.7+ MB\n",
      "None\n"
     ]
    }
   ],
   "source": [
    "# Print General Information / Summary of the Messages DataFrame\n",
    "print(messages.info())"
   ]
  },
  {
   "cell_type": "code",
   "execution_count": 14,
   "metadata": {
    "id": "ysEFBZWxuj8m"
   },
   "outputs": [
    {
     "name": "stdout",
     "output_type": "stream",
     "text": [
      "         id  user_id message_date  message_count message_month\n",
      "0  1000_125     1000   2018-12-27             11       2018-12\n",
      "1  1000_160     1000   2018-12-31             11       2018-12\n",
      "2  1000_223     1000   2018-12-31             11       2018-12\n",
      "3  1000_251     1000   2018-12-27             11       2018-12\n",
      "4  1000_255     1000   2018-12-26             11       2018-12\n"
     ]
    }
   ],
   "source": [
    "# Print a sample of the messages data\n",
    "print(messages.head()) "
   ]
  },
  {
   "cell_type": "code",
   "execution_count": 15,
   "metadata": {
    "id": "SpBqbQHCuj8m"
   },
   "outputs": [
    {
     "name": "stdout",
     "output_type": "stream",
     "text": [
      "             id  user_id message_date\n",
      "0      1000_125     1000   2018-12-27\n",
      "1      1000_160     1000   2018-12-31\n",
      "2      1000_223     1000   2018-12-31\n",
      "3      1000_251     1000   2018-12-27\n",
      "4      1000_255     1000   2018-12-26\n",
      "...         ...      ...          ...\n",
      "76046  1497_526     1497   2018-12-24\n",
      "76047  1497_536     1497   2018-12-24\n",
      "76048  1497_547     1497   2018-12-31\n",
      "76049  1497_558     1497   2018-12-24\n",
      "76050  1497_613     1497   2018-12-23\n",
      "\n",
      "[76051 rows x 3 columns]\n"
     ]
    }
   ],
   "source": [
    "messages['message_date'] = pd.to_datetime(messages['message_date'])\n",
    "print(messages)"
   ]
  },
  {
   "cell_type": "code",
   "execution_count": 16,
   "metadata": {
    "id": "SkuCXcLJuj8n"
   },
   "outputs": [
    {
     "name": "stdout",
     "output_type": "stream",
     "text": [
      "             id  user_id message_date  message_count\n",
      "0      1000_125     1000   2018-12-27             11\n",
      "1      1000_160     1000   2018-12-31             11\n",
      "2      1000_223     1000   2018-12-31             11\n",
      "3      1000_251     1000   2018-12-27             11\n",
      "4      1000_255     1000   2018-12-26             11\n",
      "...         ...      ...          ...            ...\n",
      "76046  1497_526     1497   2018-12-24             50\n",
      "76047  1497_536     1497   2018-12-24             50\n",
      "76048  1497_547     1497   2018-12-31             50\n",
      "76049  1497_558     1497   2018-12-24             50\n",
      "76050  1497_613     1497   2018-12-23             50\n",
      "\n",
      "[76051 rows x 4 columns]\n"
     ]
    }
   ],
   "source": [
    "messages['message_count'] = messages.groupby('user_id')['id'].transform('count')\n",
    "print(messages)"
   ]
  },
  {
   "cell_type": "markdown",
   "metadata": {
    "id": "ZRFaOWzGuj8n"
   },
   "source": [
    "## internet"
   ]
  },
  {
   "cell_type": "code",
   "execution_count": 17,
   "metadata": {
    "id": "ob3-qv4nuj8n"
   },
   "outputs": [
    {
     "name": "stdout",
     "output_type": "stream",
     "text": [
      "<class 'pandas.core.frame.DataFrame'>\n",
      "RangeIndex: 104825 entries, 0 to 104824\n",
      "Data columns (total 4 columns):\n",
      " #   Column        Non-Null Count   Dtype  \n",
      "---  ------        --------------   -----  \n",
      " 0   id            104825 non-null  object \n",
      " 1   user_id       104825 non-null  int64  \n",
      " 2   session_date  104825 non-null  object \n",
      " 3   mb_used       104825 non-null  float64\n",
      "dtypes: float64(1), int64(1), object(2)\n",
      "memory usage: 3.2+ MB\n",
      "None\n"
     ]
    }
   ],
   "source": [
    "# Print General Information / Summary of the internet DataFrame\n",
    "print(internet.info())"
   ]
  },
  {
   "cell_type": "code",
   "execution_count": 18,
   "metadata": {
    "id": "iIHK4fZsuj8n"
   },
   "outputs": [
    {
     "name": "stdout",
     "output_type": "stream",
     "text": [
      "         id  user_id session_date  mb_used   gb_used  day_of_week  \\\n",
      "0   1000_13     1000   2018-12-29    89.86  0.087754            5   \n",
      "1  1000_204     1000   2018-12-31     0.00  0.000000            0   \n",
      "2  1000_379     1000   2018-12-28   660.40  0.644922            4   \n",
      "3  1000_413     1000   2018-12-26   270.99  0.264639            2   \n",
      "4  1000_442     1000   2018-12-27   880.22  0.859590            3   \n",
      "\n",
      "  session_month  \n",
      "0       2018-12  \n",
      "1       2018-12  \n",
      "2       2018-12  \n",
      "3       2018-12  \n",
      "4       2018-12  \n"
     ]
    }
   ],
   "source": [
    "#Print a sample of the internet traffic data\n",
    "print(internet.head())"
   ]
  },
  {
   "cell_type": "code",
   "execution_count": 19,
   "metadata": {
    "id": "GCoX7kbmuj8o"
   },
   "outputs": [
    {
     "name": "stdout",
     "output_type": "stream",
     "text": [
      "              id  user_id session_date  mb_used   gb_used\n",
      "0        1000_13     1000   2018-12-29    89.86  0.087754\n",
      "1       1000_204     1000   2018-12-31     0.00  0.000000\n",
      "2       1000_379     1000   2018-12-28   660.40  0.644922\n",
      "3       1000_413     1000   2018-12-26   270.99  0.264639\n",
      "4       1000_442     1000   2018-12-27   880.22  0.859590\n",
      "...          ...      ...          ...      ...       ...\n",
      "104820  1499_215     1499   2018-10-20   218.06  0.212949\n",
      "104821  1499_216     1499   2018-12-30   304.72  0.297578\n",
      "104822  1499_217     1499   2018-09-22   292.75  0.285889\n",
      "104823  1499_218     1499   2018-12-07     0.00  0.000000\n",
      "104824  1499_219     1499   2018-12-24   758.31  0.740537\n",
      "\n",
      "[104825 rows x 5 columns]\n"
     ]
    }
   ],
   "source": [
    "internet['session_date'] = pd.to_datetime(internet['session_date'])\n",
    "internet['gb_used'] = internet['mb_used'] / 1024 \n",
    "print(internet)"
   ]
  },
  {
   "cell_type": "code",
   "execution_count": 20,
   "metadata": {
    "id": "f1PoZ3Ukuj8p"
   },
   "outputs": [
    {
     "name": "stdout",
     "output_type": "stream",
     "text": [
      "              id  user_id session_date  mb_used   gb_used  day_of_week\n",
      "0        1000_13     1000   2018-12-29    89.86  0.087754            5\n",
      "1       1000_204     1000   2018-12-31     0.00  0.000000            0\n",
      "2       1000_379     1000   2018-12-28   660.40  0.644922            4\n",
      "3       1000_413     1000   2018-12-26   270.99  0.264639            2\n",
      "4       1000_442     1000   2018-12-27   880.22  0.859590            3\n",
      "...          ...      ...          ...      ...       ...          ...\n",
      "104820  1499_215     1499   2018-10-20   218.06  0.212949            5\n",
      "104821  1499_216     1499   2018-12-30   304.72  0.297578            6\n",
      "104822  1499_217     1499   2018-09-22   292.75  0.285889            5\n",
      "104823  1499_218     1499   2018-12-07     0.00  0.000000            4\n",
      "104824  1499_219     1499   2018-12-24   758.31  0.740537            0\n",
      "\n",
      "[104825 rows x 6 columns]\n"
     ]
    }
   ],
   "source": [
    "internet['day_of_week'] = internet['session_date'].dt.dayofweek\n",
    "print(internet)"
   ]
  },
  {
   "cell_type": "markdown",
   "metadata": {
    "id": "bnOX4ARJuj8p"
   },
   "source": [
    "## Study the plan conditions"
   ]
  },
  {
   "cell_type": "code",
   "execution_count": 21,
   "metadata": {
    "id": "vMXVndWEuj8p"
   },
   "outputs": [
    {
     "name": "stdout",
     "output_type": "stream",
     "text": [
      "   messages_included  mb_per_month_included  minutes_included  \\\n",
      "0                 50                   15.0               500   \n",
      "1               1000                   30.0              3000   \n",
      "\n",
      "   usd_monthly_fee  usd_per_gb  usd_per_message  usd_per_minute plan_name  \n",
      "0               20          10             0.03            0.03      surf  \n",
      "1               70           7             0.01            0.01  ultimate  \n"
     ]
    }
   ],
   "source": [
    "#Print the plan conditions and make sure they are consistent\n",
    "print(plans)"
   ]
  },
  {
   "cell_type": "markdown",
   "metadata": {
    "id": "1v1EshDmuj8q"
   },
   "source": [
    "## Aggregate the data by user\n",
    "\n"
   ]
  },
  {
   "cell_type": "code",
   "execution_count": 22,
   "metadata": {
    "id": "4hmb2pSPuj8q"
   },
   "outputs": [
    {
     "name": "stdout",
     "output_type": "stream",
     "text": [
      "   user_id    month  num_calls\n",
      "0     1000  2018-12         16\n",
      "1     1001  2018-08         27\n",
      "2     1001  2018-09         49\n",
      "3     1001  2018-10         65\n",
      "4     1001  2018-11         64\n"
     ]
    }
   ],
   "source": [
    "# Calculate the number of calls made by each user per month and save the result\n",
    "\n",
    "# 1. Make sure the 'call_date' column is in datetime format\n",
    "calls['call_date'] = pd.to_datetime(calls['call_date'])\n",
    "\n",
    "# 2. Create a 'month' column to extract the month and year from 'call_date'\n",
    "calls['month'] = calls['call_date'].dt.to_period('M')\n",
    "\n",
    "# 3. Aggregate the data to count the number of calls per user per month\n",
    "calls_per_user_month = calls.groupby(['user_id', 'month']).size().reset_index(name='num_calls')\n",
    "\n",
    "# 4. Save the result to a CSV file\n",
    "calls_per_user_month.to_csv('calls_per_user_month.csv', index=False)\n",
    "\n",
    "# 5. Print the result\n",
    "print(calls_per_user_month.head())\n"
   ]
  },
  {
   "cell_type": "code",
   "execution_count": 23,
   "metadata": {
    "id": "yHgBWCJJuj8q"
   },
   "outputs": [
    {
     "name": "stdout",
     "output_type": "stream",
     "text": [
      "   user_id    month  duration\n",
      "0     1000  2018-12    116.83\n",
      "1     1001  2018-08    171.14\n",
      "2     1001  2018-09    297.69\n",
      "3     1001  2018-10    374.11\n",
      "4     1001  2018-11    404.59\n"
     ]
    }
   ],
   "source": [
    "#Calculate the number of minutes spent by each user per month and save the result\n",
    "\n",
    "# Convert the date to datetime\n",
    "calls['call_date'] = pd.to_datetime(calls['call_date'])\n",
    "\n",
    "# Create a month column\n",
    "calls['call_month'] = calls['call_date'].dt.to_period('M').astype(str)\n",
    "\n",
    "# Group by user and month, summing the minutes used\n",
    "minutes_per_user_month = calls.groupby(['user_id', 'call_month'])['duration'].sum().reset_index()\n",
    "\n",
    "#Rename the month column to maintain consistency\n",
    "minutes_per_user_month.rename(columns={'call_month': 'month'}, inplace=True)\n",
    "\n",
    "# Print the result\n",
    "print(minutes_per_user_month.head())\n"
   ]
  },
  {
   "cell_type": "code",
   "execution_count": 24,
   "metadata": {
    "id": "MaM_cPxauj8q"
   },
   "outputs": [
    {
     "name": "stdout",
     "output_type": "stream",
     "text": [
      "   user_id message_month  id\n",
      "0     1000       2018-12  11\n",
      "1     1001       2018-08  30\n",
      "2     1001       2018-09  44\n",
      "3     1001       2018-10  53\n",
      "4     1001       2018-11  36\n"
     ]
    }
   ],
   "source": [
    "# Calculate the number of messages sent by each user per month and save the result\n",
    "messages['message_date'] = pd.to_datetime(messages['message_date'])\n",
    "\n",
    "# Create a Month Column\n",
    "messages['message_month'] = messages['message_date'].dt.to_period('M').astype(str)\n",
    "\n",
    "# Group por usuário e month, contando a quantidade de messages\n",
    "messages_per_user_month = messages.groupby(['user_id', 'message_month'])['id'].count().reset_index()\n",
    "\n",
    "# Display the Result\n",
    "print(messages_per_user_month.head())"
   ]
  },
  {
   "cell_type": "code",
   "execution_count": 25,
   "metadata": {
    "id": "WsCEZJ_xuj8q"
   },
   "outputs": [
    {
     "name": "stdout",
     "output_type": "stream",
     "text": [
      "   user_id session_month    gb_used\n",
      "0     1000       2018-12   1.856904\n",
      "1     1001       2018-08   6.756982\n",
      "2     1001       2018-09  13.002754\n",
      "3     1001       2018-10  21.807119\n",
      "4     1001       2018-11  18.070605\n"
     ]
    }
   ],
   "source": [
    "# Calculate o volume de traffic de internet usado por cada usuário por month. Salve o resultado.\n",
    "\n",
    "# Convert the Date to Datetime\n",
    "internet['session_date'] = pd.to_datetime(internet['session_date'])\n",
    "\n",
    "# Create a Month Column\n",
    "internet['session_month'] = internet['session_date'].dt.to_period('M').astype(str)\n",
    "\n",
    "# Group por usuário e month, somando o uso de Data\n",
    "internet_for_month_sum = internet.groupby(['user_id', 'session_month'])['gb_used'].sum().reset_index()\n",
    "\n",
    "# Display the Result\n",
    "print(internet_for_month_sum.head())"
   ]
  },
  {
   "cell_type": "code",
   "execution_count": 26,
   "metadata": {
    "id": "BYDTkxOauj8r"
   },
   "outputs": [],
   "source": [
    "# Junte os Data de calls, minutes, messages e internet com base em user_id e month\n",
    "\n",
    "minutes_per_user_month = minutes_per_user_month.rename(columns={\n",
    "    'call_month': 'month',\n",
    "    'minutes': 'minutes_used'\n",
    "})\n",
    "\n",
    "messages_per_user_month = messages_per_user_month.rename(columns={\n",
    "    'message_month': 'month',\n",
    "    'id': 'messages_sent'\n",
    "})\n",
    "\n",
    "internet_for_month_sum = internet_for_month_sum.rename(columns={\n",
    "    'session_month': 'month',\n",
    "    \n",
    "})\n"
   ]
  },
  {
   "cell_type": "code",
   "execution_count": 27,
   "metadata": {},
   "outputs": [
    {
     "data": {
      "text/html": [
       "<div>\n",
       "<style scoped>\n",
       "    .dataframe tbody tr th:only-of-type {\n",
       "        vertical-align: middle;\n",
       "    }\n",
       "\n",
       "    .dataframe tbody tr th {\n",
       "        vertical-align: top;\n",
       "    }\n",
       "\n",
       "    .dataframe thead th {\n",
       "        text-align: right;\n",
       "    }\n",
       "</style>\n",
       "<table border=\"1\" class=\"dataframe\">\n",
       "  <thead>\n",
       "    <tr style=\"text-align: right;\">\n",
       "      <th></th>\n",
       "      <th>user_id</th>\n",
       "      <th>month</th>\n",
       "      <th>duration</th>\n",
       "      <th>messages_sent</th>\n",
       "      <th>gb_used</th>\n",
       "      <th>plan_name</th>\n",
       "    </tr>\n",
       "  </thead>\n",
       "  <tbody>\n",
       "    <tr>\n",
       "      <th>0</th>\n",
       "      <td>1000</td>\n",
       "      <td>2018-12</td>\n",
       "      <td>116.83</td>\n",
       "      <td>11.0</td>\n",
       "      <td>1.856904</td>\n",
       "      <td>ultimate</td>\n",
       "    </tr>\n",
       "    <tr>\n",
       "      <th>1</th>\n",
       "      <td>1001</td>\n",
       "      <td>2018-08</td>\n",
       "      <td>171.14</td>\n",
       "      <td>30.0</td>\n",
       "      <td>6.756982</td>\n",
       "      <td>surf</td>\n",
       "    </tr>\n",
       "    <tr>\n",
       "      <th>2</th>\n",
       "      <td>1001</td>\n",
       "      <td>2018-09</td>\n",
       "      <td>297.69</td>\n",
       "      <td>44.0</td>\n",
       "      <td>13.002754</td>\n",
       "      <td>surf</td>\n",
       "    </tr>\n",
       "    <tr>\n",
       "      <th>3</th>\n",
       "      <td>1001</td>\n",
       "      <td>2018-10</td>\n",
       "      <td>374.11</td>\n",
       "      <td>53.0</td>\n",
       "      <td>21.807119</td>\n",
       "      <td>surf</td>\n",
       "    </tr>\n",
       "    <tr>\n",
       "      <th>4</th>\n",
       "      <td>1001</td>\n",
       "      <td>2018-11</td>\n",
       "      <td>404.59</td>\n",
       "      <td>36.0</td>\n",
       "      <td>18.070605</td>\n",
       "      <td>surf</td>\n",
       "    </tr>\n",
       "  </tbody>\n",
       "</table>\n",
       "</div>"
      ],
      "text/plain": [
       "   user_id    month  duration  messages_sent    gb_used plan_name\n",
       "0     1000  2018-12    116.83           11.0   1.856904  ultimate\n",
       "1     1001  2018-08    171.14           30.0   6.756982      surf\n",
       "2     1001  2018-09    297.69           44.0  13.002754      surf\n",
       "3     1001  2018-10    374.11           53.0  21.807119      surf\n",
       "4     1001  2018-11    404.59           36.0  18.070605      surf"
      ]
     },
     "execution_count": 91,
     "metadata": {},
     "output_type": "execute_result"
    }
   ],
   "source": [
    "dados_uso = minutes_per_user_month \\\n",
    "    .merge(messages_per_user_month, on=['user_id', 'month'], how='outer') \\\n",
    "    .merge(internet_for_month_sum, on=['user_id', 'month'], how='outer') \\\n",
    "    .merge(users[['user_id', 'plan']], on='user_id', how='left')\n",
    "\n",
    "dados_uso = dados_uso.rename(columns={'plan':'plan_name'})\n",
    "dados_uso.head()"
   ]
  },
  {
   "cell_type": "code",
   "execution_count": 28,
   "metadata": {},
   "outputs": [
    {
     "name": "stdout",
     "output_type": "stream",
     "text": [
      "user_id            0\n",
      "month              0\n",
      "duration          35\n",
      "messages_sent    487\n",
      "gb_used           16\n",
      "plan_name          0\n",
      "dtype: int64\n",
      "user_id          0\n",
      "month            0\n",
      "duration         0\n",
      "messages_sent    0\n",
      "gb_used          0\n",
      "plan_name        0\n",
      "dtype: int64\n"
     ]
    }
   ],
   "source": [
    "print(dados_uso.isna().sum())\n",
    "dados_uso['duration'] = dados_uso['duration'].fillna(0)\n",
    "dados_uso['messages_sent'] = dados_uso['messages_sent'].fillna(0)\n",
    "dados_uso['gb_used'] = dados_uso['gb_used'].fillna(0)\n",
    "print(dados_uso.isna().sum())"
   ]
  },
  {
   "cell_type": "code",
   "execution_count": 29,
   "metadata": {},
   "outputs": [
    {
     "data": {
      "text/html": [
       "<div>\n",
       "<style scoped>\n",
       "    .dataframe tbody tr th:only-of-type {\n",
       "        vertical-align: middle;\n",
       "    }\n",
       "\n",
       "    .dataframe tbody tr th {\n",
       "        vertical-align: top;\n",
       "    }\n",
       "\n",
       "    .dataframe thead th {\n",
       "        text-align: right;\n",
       "    }\n",
       "</style>\n",
       "<table border=\"1\" class=\"dataframe\">\n",
       "  <thead>\n",
       "    <tr style=\"text-align: right;\">\n",
       "      <th></th>\n",
       "      <th>user_id</th>\n",
       "      <th>month</th>\n",
       "      <th>duration</th>\n",
       "      <th>messages_sent</th>\n",
       "      <th>gb_used</th>\n",
       "      <th>plan_name</th>\n",
       "      <th>messages_included</th>\n",
       "      <th>mb_per_month_included</th>\n",
       "      <th>minutes_included</th>\n",
       "      <th>usd_monthly_fee</th>\n",
       "      <th>usd_per_gb</th>\n",
       "      <th>usd_per_message</th>\n",
       "      <th>usd_per_minute</th>\n",
       "      <th>gb_per_month_included</th>\n",
       "    </tr>\n",
       "  </thead>\n",
       "  <tbody>\n",
       "    <tr>\n",
       "      <th>0</th>\n",
       "      <td>1000</td>\n",
       "      <td>2018-12</td>\n",
       "      <td>116.83</td>\n",
       "      <td>11.0</td>\n",
       "      <td>1.856904</td>\n",
       "      <td>ultimate</td>\n",
       "      <td>1000</td>\n",
       "      <td>30.0</td>\n",
       "      <td>3000</td>\n",
       "      <td>70</td>\n",
       "      <td>7</td>\n",
       "      <td>0.01</td>\n",
       "      <td>0.01</td>\n",
       "      <td>0.029297</td>\n",
       "    </tr>\n",
       "    <tr>\n",
       "      <th>1</th>\n",
       "      <td>1001</td>\n",
       "      <td>2018-08</td>\n",
       "      <td>171.14</td>\n",
       "      <td>30.0</td>\n",
       "      <td>6.756982</td>\n",
       "      <td>surf</td>\n",
       "      <td>50</td>\n",
       "      <td>15.0</td>\n",
       "      <td>500</td>\n",
       "      <td>20</td>\n",
       "      <td>10</td>\n",
       "      <td>0.03</td>\n",
       "      <td>0.03</td>\n",
       "      <td>0.014648</td>\n",
       "    </tr>\n",
       "    <tr>\n",
       "      <th>2</th>\n",
       "      <td>1001</td>\n",
       "      <td>2018-09</td>\n",
       "      <td>297.69</td>\n",
       "      <td>44.0</td>\n",
       "      <td>13.002754</td>\n",
       "      <td>surf</td>\n",
       "      <td>50</td>\n",
       "      <td>15.0</td>\n",
       "      <td>500</td>\n",
       "      <td>20</td>\n",
       "      <td>10</td>\n",
       "      <td>0.03</td>\n",
       "      <td>0.03</td>\n",
       "      <td>0.014648</td>\n",
       "    </tr>\n",
       "    <tr>\n",
       "      <th>3</th>\n",
       "      <td>1001</td>\n",
       "      <td>2018-10</td>\n",
       "      <td>374.11</td>\n",
       "      <td>53.0</td>\n",
       "      <td>21.807119</td>\n",
       "      <td>surf</td>\n",
       "      <td>50</td>\n",
       "      <td>15.0</td>\n",
       "      <td>500</td>\n",
       "      <td>20</td>\n",
       "      <td>10</td>\n",
       "      <td>0.03</td>\n",
       "      <td>0.03</td>\n",
       "      <td>0.014648</td>\n",
       "    </tr>\n",
       "    <tr>\n",
       "      <th>4</th>\n",
       "      <td>1001</td>\n",
       "      <td>2018-11</td>\n",
       "      <td>404.59</td>\n",
       "      <td>36.0</td>\n",
       "      <td>18.070605</td>\n",
       "      <td>surf</td>\n",
       "      <td>50</td>\n",
       "      <td>15.0</td>\n",
       "      <td>500</td>\n",
       "      <td>20</td>\n",
       "      <td>10</td>\n",
       "      <td>0.03</td>\n",
       "      <td>0.03</td>\n",
       "      <td>0.014648</td>\n",
       "    </tr>\n",
       "  </tbody>\n",
       "</table>\n",
       "</div>"
      ],
      "text/plain": [
       "   user_id    month  duration  messages_sent    gb_used plan_name  \\\n",
       "0     1000  2018-12    116.83           11.0   1.856904  ultimate   \n",
       "1     1001  2018-08    171.14           30.0   6.756982      surf   \n",
       "2     1001  2018-09    297.69           44.0  13.002754      surf   \n",
       "3     1001  2018-10    374.11           53.0  21.807119      surf   \n",
       "4     1001  2018-11    404.59           36.0  18.070605      surf   \n",
       "\n",
       "   messages_included  mb_per_month_included  minutes_included  \\\n",
       "0               1000                   30.0              3000   \n",
       "1                 50                   15.0               500   \n",
       "2                 50                   15.0               500   \n",
       "3                 50                   15.0               500   \n",
       "4                 50                   15.0               500   \n",
       "\n",
       "   usd_monthly_fee  usd_per_gb  usd_per_message  usd_per_minute  \\\n",
       "0               70           7             0.01            0.01   \n",
       "1               20          10             0.03            0.03   \n",
       "2               20          10             0.03            0.03   \n",
       "3               20          10             0.03            0.03   \n",
       "4               20          10             0.03            0.03   \n",
       "\n",
       "   gb_per_month_included  \n",
       "0               0.029297  \n",
       "1               0.014648  \n",
       "2               0.014648  \n",
       "3               0.014648  \n",
       "4               0.014648  "
      ]
     },
     "execution_count": 93,
     "metadata": {},
     "output_type": "execute_result"
    }
   ],
   "source": [
    "dados_uso = dados_uso.merge(plans,on='plan_name',how='left')\n",
    "dados_uso['gb_per_month_included'] = dados_uso['mb_per_month_included'] / 1024\n",
    "dados_uso.head()"
   ]
  },
  {
   "cell_type": "code",
   "execution_count": 30,
   "metadata": {},
   "outputs": [
    {
     "data": {
      "text/html": [
       "<div>\n",
       "<style scoped>\n",
       "    .dataframe tbody tr th:only-of-type {\n",
       "        vertical-align: middle;\n",
       "    }\n",
       "\n",
       "    .dataframe tbody tr th {\n",
       "        vertical-align: top;\n",
       "    }\n",
       "\n",
       "    .dataframe thead th {\n",
       "        text-align: right;\n",
       "    }\n",
       "</style>\n",
       "<table border=\"1\" class=\"dataframe\">\n",
       "  <thead>\n",
       "    <tr style=\"text-align: right;\">\n",
       "      <th></th>\n",
       "      <th>user_id</th>\n",
       "      <th>month</th>\n",
       "      <th>duration</th>\n",
       "      <th>messages_sent</th>\n",
       "      <th>gb_used</th>\n",
       "      <th>plan_name</th>\n",
       "      <th>messages_included</th>\n",
       "      <th>mb_per_month_included</th>\n",
       "      <th>minutes_included</th>\n",
       "      <th>usd_monthly_fee</th>\n",
       "      <th>usd_per_gb</th>\n",
       "      <th>usd_per_message</th>\n",
       "      <th>usd_per_minute</th>\n",
       "      <th>gb_per_month_included</th>\n",
       "      <th>messages_exceeded</th>\n",
       "      <th>messages_exceeded_price</th>\n",
       "    </tr>\n",
       "  </thead>\n",
       "  <tbody>\n",
       "    <tr>\n",
       "      <th>0</th>\n",
       "      <td>1000</td>\n",
       "      <td>2018-12</td>\n",
       "      <td>116.83</td>\n",
       "      <td>11.0</td>\n",
       "      <td>1.856904</td>\n",
       "      <td>ultimate</td>\n",
       "      <td>1000</td>\n",
       "      <td>30.0</td>\n",
       "      <td>3000</td>\n",
       "      <td>70</td>\n",
       "      <td>7</td>\n",
       "      <td>0.01</td>\n",
       "      <td>0.01</td>\n",
       "      <td>0.029297</td>\n",
       "      <td>0.0</td>\n",
       "      <td>0.00</td>\n",
       "    </tr>\n",
       "    <tr>\n",
       "      <th>1</th>\n",
       "      <td>1001</td>\n",
       "      <td>2018-08</td>\n",
       "      <td>171.14</td>\n",
       "      <td>30.0</td>\n",
       "      <td>6.756982</td>\n",
       "      <td>surf</td>\n",
       "      <td>50</td>\n",
       "      <td>15.0</td>\n",
       "      <td>500</td>\n",
       "      <td>20</td>\n",
       "      <td>10</td>\n",
       "      <td>0.03</td>\n",
       "      <td>0.03</td>\n",
       "      <td>0.014648</td>\n",
       "      <td>0.0</td>\n",
       "      <td>0.00</td>\n",
       "    </tr>\n",
       "    <tr>\n",
       "      <th>2</th>\n",
       "      <td>1001</td>\n",
       "      <td>2018-09</td>\n",
       "      <td>297.69</td>\n",
       "      <td>44.0</td>\n",
       "      <td>13.002754</td>\n",
       "      <td>surf</td>\n",
       "      <td>50</td>\n",
       "      <td>15.0</td>\n",
       "      <td>500</td>\n",
       "      <td>20</td>\n",
       "      <td>10</td>\n",
       "      <td>0.03</td>\n",
       "      <td>0.03</td>\n",
       "      <td>0.014648</td>\n",
       "      <td>0.0</td>\n",
       "      <td>0.00</td>\n",
       "    </tr>\n",
       "    <tr>\n",
       "      <th>3</th>\n",
       "      <td>1001</td>\n",
       "      <td>2018-10</td>\n",
       "      <td>374.11</td>\n",
       "      <td>53.0</td>\n",
       "      <td>21.807119</td>\n",
       "      <td>surf</td>\n",
       "      <td>50</td>\n",
       "      <td>15.0</td>\n",
       "      <td>500</td>\n",
       "      <td>20</td>\n",
       "      <td>10</td>\n",
       "      <td>0.03</td>\n",
       "      <td>0.03</td>\n",
       "      <td>0.014648</td>\n",
       "      <td>3.0</td>\n",
       "      <td>0.09</td>\n",
       "    </tr>\n",
       "    <tr>\n",
       "      <th>4</th>\n",
       "      <td>1001</td>\n",
       "      <td>2018-11</td>\n",
       "      <td>404.59</td>\n",
       "      <td>36.0</td>\n",
       "      <td>18.070605</td>\n",
       "      <td>surf</td>\n",
       "      <td>50</td>\n",
       "      <td>15.0</td>\n",
       "      <td>500</td>\n",
       "      <td>20</td>\n",
       "      <td>10</td>\n",
       "      <td>0.03</td>\n",
       "      <td>0.03</td>\n",
       "      <td>0.014648</td>\n",
       "      <td>0.0</td>\n",
       "      <td>0.00</td>\n",
       "    </tr>\n",
       "  </tbody>\n",
       "</table>\n",
       "</div>"
      ],
      "text/plain": [
       "   user_id    month  duration  messages_sent    gb_used plan_name  \\\n",
       "0     1000  2018-12    116.83           11.0   1.856904  ultimate   \n",
       "1     1001  2018-08    171.14           30.0   6.756982      surf   \n",
       "2     1001  2018-09    297.69           44.0  13.002754      surf   \n",
       "3     1001  2018-10    374.11           53.0  21.807119      surf   \n",
       "4     1001  2018-11    404.59           36.0  18.070605      surf   \n",
       "\n",
       "   messages_included  mb_per_month_included  minutes_included  \\\n",
       "0               1000                   30.0              3000   \n",
       "1                 50                   15.0               500   \n",
       "2                 50                   15.0               500   \n",
       "3                 50                   15.0               500   \n",
       "4                 50                   15.0               500   \n",
       "\n",
       "   usd_monthly_fee  usd_per_gb  usd_per_message  usd_per_minute  \\\n",
       "0               70           7             0.01            0.01   \n",
       "1               20          10             0.03            0.03   \n",
       "2               20          10             0.03            0.03   \n",
       "3               20          10             0.03            0.03   \n",
       "4               20          10             0.03            0.03   \n",
       "\n",
       "   gb_per_month_included  messages_exceeded  messages_exceeded_price  \n",
       "0               0.029297                0.0                     0.00  \n",
       "1               0.014648                0.0                     0.00  \n",
       "2               0.014648                0.0                     0.00  \n",
       "3               0.014648                3.0                     0.09  \n",
       "4               0.014648                0.0                     0.00  "
      ]
     },
     "execution_count": 94,
     "metadata": {},
     "output_type": "execute_result"
    }
   ],
   "source": [
    "dados_uso['messages_exceeded'] = np.maximum(0, (dados_uso['messages_sent'] - dados_uso['messages_included']))\n",
    "dados_uso['messages_exceeded_price'] = dados_uso['messages_exceeded'] * dados_uso['usd_per_message']\n",
    "dados_uso.head()"
   ]
  },
  {
   "cell_type": "code",
   "execution_count": 31,
   "metadata": {},
   "outputs": [
    {
     "data": {
      "text/html": [
       "<div>\n",
       "<style scoped>\n",
       "    .dataframe tbody tr th:only-of-type {\n",
       "        vertical-align: middle;\n",
       "    }\n",
       "\n",
       "    .dataframe tbody tr th {\n",
       "        vertical-align: top;\n",
       "    }\n",
       "\n",
       "    .dataframe thead th {\n",
       "        text-align: right;\n",
       "    }\n",
       "</style>\n",
       "<table border=\"1\" class=\"dataframe\">\n",
       "  <thead>\n",
       "    <tr style=\"text-align: right;\">\n",
       "      <th></th>\n",
       "      <th>user_id</th>\n",
       "      <th>month</th>\n",
       "      <th>duration</th>\n",
       "      <th>messages_sent</th>\n",
       "      <th>gb_used</th>\n",
       "      <th>plan_name</th>\n",
       "      <th>messages_included</th>\n",
       "      <th>mb_per_month_included</th>\n",
       "      <th>minutes_included</th>\n",
       "      <th>usd_monthly_fee</th>\n",
       "      <th>usd_per_gb</th>\n",
       "      <th>usd_per_message</th>\n",
       "      <th>usd_per_minute</th>\n",
       "      <th>gb_per_month_included</th>\n",
       "      <th>messages_exceeded</th>\n",
       "      <th>messages_exceeded_price</th>\n",
       "      <th>minutes_exceeded</th>\n",
       "      <th>minutes_exceeded_price</th>\n",
       "    </tr>\n",
       "  </thead>\n",
       "  <tbody>\n",
       "    <tr>\n",
       "      <th>0</th>\n",
       "      <td>1000</td>\n",
       "      <td>2018-12</td>\n",
       "      <td>116.83</td>\n",
       "      <td>11.0</td>\n",
       "      <td>1.856904</td>\n",
       "      <td>ultimate</td>\n",
       "      <td>1000</td>\n",
       "      <td>30.0</td>\n",
       "      <td>3000</td>\n",
       "      <td>70</td>\n",
       "      <td>7</td>\n",
       "      <td>0.01</td>\n",
       "      <td>0.01</td>\n",
       "      <td>0.029297</td>\n",
       "      <td>0.0</td>\n",
       "      <td>0.00</td>\n",
       "      <td>0.0</td>\n",
       "      <td>0.0</td>\n",
       "    </tr>\n",
       "    <tr>\n",
       "      <th>1</th>\n",
       "      <td>1001</td>\n",
       "      <td>2018-08</td>\n",
       "      <td>171.14</td>\n",
       "      <td>30.0</td>\n",
       "      <td>6.756982</td>\n",
       "      <td>surf</td>\n",
       "      <td>50</td>\n",
       "      <td>15.0</td>\n",
       "      <td>500</td>\n",
       "      <td>20</td>\n",
       "      <td>10</td>\n",
       "      <td>0.03</td>\n",
       "      <td>0.03</td>\n",
       "      <td>0.014648</td>\n",
       "      <td>0.0</td>\n",
       "      <td>0.00</td>\n",
       "      <td>0.0</td>\n",
       "      <td>0.0</td>\n",
       "    </tr>\n",
       "    <tr>\n",
       "      <th>2</th>\n",
       "      <td>1001</td>\n",
       "      <td>2018-09</td>\n",
       "      <td>297.69</td>\n",
       "      <td>44.0</td>\n",
       "      <td>13.002754</td>\n",
       "      <td>surf</td>\n",
       "      <td>50</td>\n",
       "      <td>15.0</td>\n",
       "      <td>500</td>\n",
       "      <td>20</td>\n",
       "      <td>10</td>\n",
       "      <td>0.03</td>\n",
       "      <td>0.03</td>\n",
       "      <td>0.014648</td>\n",
       "      <td>0.0</td>\n",
       "      <td>0.00</td>\n",
       "      <td>0.0</td>\n",
       "      <td>0.0</td>\n",
       "    </tr>\n",
       "    <tr>\n",
       "      <th>3</th>\n",
       "      <td>1001</td>\n",
       "      <td>2018-10</td>\n",
       "      <td>374.11</td>\n",
       "      <td>53.0</td>\n",
       "      <td>21.807119</td>\n",
       "      <td>surf</td>\n",
       "      <td>50</td>\n",
       "      <td>15.0</td>\n",
       "      <td>500</td>\n",
       "      <td>20</td>\n",
       "      <td>10</td>\n",
       "      <td>0.03</td>\n",
       "      <td>0.03</td>\n",
       "      <td>0.014648</td>\n",
       "      <td>3.0</td>\n",
       "      <td>0.09</td>\n",
       "      <td>0.0</td>\n",
       "      <td>0.0</td>\n",
       "    </tr>\n",
       "    <tr>\n",
       "      <th>4</th>\n",
       "      <td>1001</td>\n",
       "      <td>2018-11</td>\n",
       "      <td>404.59</td>\n",
       "      <td>36.0</td>\n",
       "      <td>18.070605</td>\n",
       "      <td>surf</td>\n",
       "      <td>50</td>\n",
       "      <td>15.0</td>\n",
       "      <td>500</td>\n",
       "      <td>20</td>\n",
       "      <td>10</td>\n",
       "      <td>0.03</td>\n",
       "      <td>0.03</td>\n",
       "      <td>0.014648</td>\n",
       "      <td>0.0</td>\n",
       "      <td>0.00</td>\n",
       "      <td>0.0</td>\n",
       "      <td>0.0</td>\n",
       "    </tr>\n",
       "  </tbody>\n",
       "</table>\n",
       "</div>"
      ],
      "text/plain": [
       "   user_id    month  duration  messages_sent    gb_used plan_name  \\\n",
       "0     1000  2018-12    116.83           11.0   1.856904  ultimate   \n",
       "1     1001  2018-08    171.14           30.0   6.756982      surf   \n",
       "2     1001  2018-09    297.69           44.0  13.002754      surf   \n",
       "3     1001  2018-10    374.11           53.0  21.807119      surf   \n",
       "4     1001  2018-11    404.59           36.0  18.070605      surf   \n",
       "\n",
       "   messages_included  mb_per_month_included  minutes_included  \\\n",
       "0               1000                   30.0              3000   \n",
       "1                 50                   15.0               500   \n",
       "2                 50                   15.0               500   \n",
       "3                 50                   15.0               500   \n",
       "4                 50                   15.0               500   \n",
       "\n",
       "   usd_monthly_fee  usd_per_gb  usd_per_message  usd_per_minute  \\\n",
       "0               70           7             0.01            0.01   \n",
       "1               20          10             0.03            0.03   \n",
       "2               20          10             0.03            0.03   \n",
       "3               20          10             0.03            0.03   \n",
       "4               20          10             0.03            0.03   \n",
       "\n",
       "   gb_per_month_included  messages_exceeded  messages_exceeded_price  \\\n",
       "0               0.029297                0.0                     0.00   \n",
       "1               0.014648                0.0                     0.00   \n",
       "2               0.014648                0.0                     0.00   \n",
       "3               0.014648                3.0                     0.09   \n",
       "4               0.014648                0.0                     0.00   \n",
       "\n",
       "   minutes_exceeded  minutes_exceeded_price  \n",
       "0               0.0                     0.0  \n",
       "1               0.0                     0.0  \n",
       "2               0.0                     0.0  \n",
       "3               0.0                     0.0  \n",
       "4               0.0                     0.0  "
      ]
     },
     "execution_count": 95,
     "metadata": {},
     "output_type": "execute_result"
    }
   ],
   "source": [
    "dados_uso['minutes_exceeded'] = np.maximum(0, (dados_uso['duration'] - dados_uso['minutes_included']))\n",
    "dados_uso['minutes_exceeded_price'] = dados_uso['minutes_exceeded'] * dados_uso['usd_per_minute']\n",
    "dados_uso.head()"
   ]
  },
  {
   "cell_type": "code",
   "execution_count": 32,
   "metadata": {},
   "outputs": [
    {
     "data": {
      "text/html": [
       "<div>\n",
       "<style scoped>\n",
       "    .dataframe tbody tr th:only-of-type {\n",
       "        vertical-align: middle;\n",
       "    }\n",
       "\n",
       "    .dataframe tbody tr th {\n",
       "        vertical-align: top;\n",
       "    }\n",
       "\n",
       "    .dataframe thead th {\n",
       "        text-align: right;\n",
       "    }\n",
       "</style>\n",
       "<table border=\"1\" class=\"dataframe\">\n",
       "  <thead>\n",
       "    <tr style=\"text-align: right;\">\n",
       "      <th></th>\n",
       "      <th>user_id</th>\n",
       "      <th>month</th>\n",
       "      <th>duration</th>\n",
       "      <th>messages_sent</th>\n",
       "      <th>gb_used</th>\n",
       "      <th>plan_name</th>\n",
       "      <th>messages_included</th>\n",
       "      <th>mb_per_month_included</th>\n",
       "      <th>minutes_included</th>\n",
       "      <th>usd_monthly_fee</th>\n",
       "      <th>usd_per_gb</th>\n",
       "      <th>usd_per_message</th>\n",
       "      <th>usd_per_minute</th>\n",
       "      <th>gb_per_month_included</th>\n",
       "      <th>messages_exceeded</th>\n",
       "      <th>messages_exceeded_price</th>\n",
       "      <th>minutes_exceeded</th>\n",
       "      <th>minutes_exceeded_price</th>\n",
       "      <th>internet_exceeded</th>\n",
       "      <th>internet_exceeded_price</th>\n",
       "    </tr>\n",
       "  </thead>\n",
       "  <tbody>\n",
       "    <tr>\n",
       "      <th>0</th>\n",
       "      <td>1000</td>\n",
       "      <td>2018-12</td>\n",
       "      <td>116.83</td>\n",
       "      <td>11.0</td>\n",
       "      <td>1.856904</td>\n",
       "      <td>ultimate</td>\n",
       "      <td>1000</td>\n",
       "      <td>30.0</td>\n",
       "      <td>3000</td>\n",
       "      <td>70</td>\n",
       "      <td>7</td>\n",
       "      <td>0.01</td>\n",
       "      <td>0.01</td>\n",
       "      <td>0.029297</td>\n",
       "      <td>0.0</td>\n",
       "      <td>0.00</td>\n",
       "      <td>0.0</td>\n",
       "      <td>0.0</td>\n",
       "      <td>1.827607</td>\n",
       "      <td>12.793252</td>\n",
       "    </tr>\n",
       "    <tr>\n",
       "      <th>1</th>\n",
       "      <td>1001</td>\n",
       "      <td>2018-08</td>\n",
       "      <td>171.14</td>\n",
       "      <td>30.0</td>\n",
       "      <td>6.756982</td>\n",
       "      <td>surf</td>\n",
       "      <td>50</td>\n",
       "      <td>15.0</td>\n",
       "      <td>500</td>\n",
       "      <td>20</td>\n",
       "      <td>10</td>\n",
       "      <td>0.03</td>\n",
       "      <td>0.03</td>\n",
       "      <td>0.014648</td>\n",
       "      <td>0.0</td>\n",
       "      <td>0.00</td>\n",
       "      <td>0.0</td>\n",
       "      <td>0.0</td>\n",
       "      <td>6.742334</td>\n",
       "      <td>67.423340</td>\n",
       "    </tr>\n",
       "    <tr>\n",
       "      <th>2</th>\n",
       "      <td>1001</td>\n",
       "      <td>2018-09</td>\n",
       "      <td>297.69</td>\n",
       "      <td>44.0</td>\n",
       "      <td>13.002754</td>\n",
       "      <td>surf</td>\n",
       "      <td>50</td>\n",
       "      <td>15.0</td>\n",
       "      <td>500</td>\n",
       "      <td>20</td>\n",
       "      <td>10</td>\n",
       "      <td>0.03</td>\n",
       "      <td>0.03</td>\n",
       "      <td>0.014648</td>\n",
       "      <td>0.0</td>\n",
       "      <td>0.00</td>\n",
       "      <td>0.0</td>\n",
       "      <td>0.0</td>\n",
       "      <td>12.988105</td>\n",
       "      <td>129.881055</td>\n",
       "    </tr>\n",
       "    <tr>\n",
       "      <th>3</th>\n",
       "      <td>1001</td>\n",
       "      <td>2018-10</td>\n",
       "      <td>374.11</td>\n",
       "      <td>53.0</td>\n",
       "      <td>21.807119</td>\n",
       "      <td>surf</td>\n",
       "      <td>50</td>\n",
       "      <td>15.0</td>\n",
       "      <td>500</td>\n",
       "      <td>20</td>\n",
       "      <td>10</td>\n",
       "      <td>0.03</td>\n",
       "      <td>0.03</td>\n",
       "      <td>0.014648</td>\n",
       "      <td>3.0</td>\n",
       "      <td>0.09</td>\n",
       "      <td>0.0</td>\n",
       "      <td>0.0</td>\n",
       "      <td>21.792471</td>\n",
       "      <td>217.924707</td>\n",
       "    </tr>\n",
       "    <tr>\n",
       "      <th>4</th>\n",
       "      <td>1001</td>\n",
       "      <td>2018-11</td>\n",
       "      <td>404.59</td>\n",
       "      <td>36.0</td>\n",
       "      <td>18.070605</td>\n",
       "      <td>surf</td>\n",
       "      <td>50</td>\n",
       "      <td>15.0</td>\n",
       "      <td>500</td>\n",
       "      <td>20</td>\n",
       "      <td>10</td>\n",
       "      <td>0.03</td>\n",
       "      <td>0.03</td>\n",
       "      <td>0.014648</td>\n",
       "      <td>0.0</td>\n",
       "      <td>0.00</td>\n",
       "      <td>0.0</td>\n",
       "      <td>0.0</td>\n",
       "      <td>18.055957</td>\n",
       "      <td>180.559570</td>\n",
       "    </tr>\n",
       "  </tbody>\n",
       "</table>\n",
       "</div>"
      ],
      "text/plain": [
       "   user_id    month  duration  messages_sent    gb_used plan_name  \\\n",
       "0     1000  2018-12    116.83           11.0   1.856904  ultimate   \n",
       "1     1001  2018-08    171.14           30.0   6.756982      surf   \n",
       "2     1001  2018-09    297.69           44.0  13.002754      surf   \n",
       "3     1001  2018-10    374.11           53.0  21.807119      surf   \n",
       "4     1001  2018-11    404.59           36.0  18.070605      surf   \n",
       "\n",
       "   messages_included  mb_per_month_included  minutes_included  \\\n",
       "0               1000                   30.0              3000   \n",
       "1                 50                   15.0               500   \n",
       "2                 50                   15.0               500   \n",
       "3                 50                   15.0               500   \n",
       "4                 50                   15.0               500   \n",
       "\n",
       "   usd_monthly_fee  usd_per_gb  usd_per_message  usd_per_minute  \\\n",
       "0               70           7             0.01            0.01   \n",
       "1               20          10             0.03            0.03   \n",
       "2               20          10             0.03            0.03   \n",
       "3               20          10             0.03            0.03   \n",
       "4               20          10             0.03            0.03   \n",
       "\n",
       "   gb_per_month_included  messages_exceeded  messages_exceeded_price  \\\n",
       "0               0.029297                0.0                     0.00   \n",
       "1               0.014648                0.0                     0.00   \n",
       "2               0.014648                0.0                     0.00   \n",
       "3               0.014648                3.0                     0.09   \n",
       "4               0.014648                0.0                     0.00   \n",
       "\n",
       "   minutes_exceeded  minutes_exceeded_price  internet_exceeded  \\\n",
       "0               0.0                     0.0           1.827607   \n",
       "1               0.0                     0.0           6.742334   \n",
       "2               0.0                     0.0          12.988105   \n",
       "3               0.0                     0.0          21.792471   \n",
       "4               0.0                     0.0          18.055957   \n",
       "\n",
       "   internet_exceeded_price  \n",
       "0                12.793252  \n",
       "1                67.423340  \n",
       "2               129.881055  \n",
       "3               217.924707  \n",
       "4               180.559570  "
      ]
     },
     "execution_count": 96,
     "metadata": {},
     "output_type": "execute_result"
    }
   ],
   "source": [
    "dados_uso['internet_exceeded'] = np.maximum(0, (dados_uso['gb_used'] - dados_uso['gb_per_month_included']))\n",
    "dados_uso['internet_exceeded_price'] = dados_uso['internet_exceeded'] * dados_uso['usd_per_gb']\n",
    "dados_uso.head()"
   ]
  },
  {
   "cell_type": "code",
   "execution_count": 33,
   "metadata": {},
   "outputs": [
    {
     "data": {
      "text/html": [
       "<div>\n",
       "<style scoped>\n",
       "    .dataframe tbody tr th:only-of-type {\n",
       "        vertical-align: middle;\n",
       "    }\n",
       "\n",
       "    .dataframe tbody tr th {\n",
       "        vertical-align: top;\n",
       "    }\n",
       "\n",
       "    .dataframe thead th {\n",
       "        text-align: right;\n",
       "    }\n",
       "</style>\n",
       "<table border=\"1\" class=\"dataframe\">\n",
       "  <thead>\n",
       "    <tr style=\"text-align: right;\">\n",
       "      <th></th>\n",
       "      <th>user_id</th>\n",
       "      <th>month</th>\n",
       "      <th>duration</th>\n",
       "      <th>messages_sent</th>\n",
       "      <th>gb_used</th>\n",
       "      <th>plan_name</th>\n",
       "      <th>messages_included</th>\n",
       "      <th>mb_per_month_included</th>\n",
       "      <th>minutes_included</th>\n",
       "      <th>usd_monthly_fee</th>\n",
       "      <th>usd_per_gb</th>\n",
       "      <th>usd_per_message</th>\n",
       "      <th>usd_per_minute</th>\n",
       "      <th>gb_per_month_included</th>\n",
       "      <th>messages_exceeded</th>\n",
       "      <th>messages_exceeded_price</th>\n",
       "      <th>minutes_exceeded</th>\n",
       "      <th>minutes_exceeded_price</th>\n",
       "      <th>internet_exceeded</th>\n",
       "      <th>internet_exceeded_price</th>\n",
       "      <th>receita</th>\n",
       "    </tr>\n",
       "  </thead>\n",
       "  <tbody>\n",
       "    <tr>\n",
       "      <th>0</th>\n",
       "      <td>1000</td>\n",
       "      <td>2018-12</td>\n",
       "      <td>116.83</td>\n",
       "      <td>11.0</td>\n",
       "      <td>1.856904</td>\n",
       "      <td>ultimate</td>\n",
       "      <td>1000</td>\n",
       "      <td>30.0</td>\n",
       "      <td>3000</td>\n",
       "      <td>70</td>\n",
       "      <td>7</td>\n",
       "      <td>0.01</td>\n",
       "      <td>0.01</td>\n",
       "      <td>0.029297</td>\n",
       "      <td>0.0</td>\n",
       "      <td>0.00</td>\n",
       "      <td>0.0</td>\n",
       "      <td>0.0</td>\n",
       "      <td>1.827607</td>\n",
       "      <td>12.793252</td>\n",
       "      <td>82.793252</td>\n",
       "    </tr>\n",
       "    <tr>\n",
       "      <th>1</th>\n",
       "      <td>1001</td>\n",
       "      <td>2018-08</td>\n",
       "      <td>171.14</td>\n",
       "      <td>30.0</td>\n",
       "      <td>6.756982</td>\n",
       "      <td>surf</td>\n",
       "      <td>50</td>\n",
       "      <td>15.0</td>\n",
       "      <td>500</td>\n",
       "      <td>20</td>\n",
       "      <td>10</td>\n",
       "      <td>0.03</td>\n",
       "      <td>0.03</td>\n",
       "      <td>0.014648</td>\n",
       "      <td>0.0</td>\n",
       "      <td>0.00</td>\n",
       "      <td>0.0</td>\n",
       "      <td>0.0</td>\n",
       "      <td>6.742334</td>\n",
       "      <td>67.423340</td>\n",
       "      <td>87.423340</td>\n",
       "    </tr>\n",
       "    <tr>\n",
       "      <th>2</th>\n",
       "      <td>1001</td>\n",
       "      <td>2018-09</td>\n",
       "      <td>297.69</td>\n",
       "      <td>44.0</td>\n",
       "      <td>13.002754</td>\n",
       "      <td>surf</td>\n",
       "      <td>50</td>\n",
       "      <td>15.0</td>\n",
       "      <td>500</td>\n",
       "      <td>20</td>\n",
       "      <td>10</td>\n",
       "      <td>0.03</td>\n",
       "      <td>0.03</td>\n",
       "      <td>0.014648</td>\n",
       "      <td>0.0</td>\n",
       "      <td>0.00</td>\n",
       "      <td>0.0</td>\n",
       "      <td>0.0</td>\n",
       "      <td>12.988105</td>\n",
       "      <td>129.881055</td>\n",
       "      <td>149.881055</td>\n",
       "    </tr>\n",
       "    <tr>\n",
       "      <th>3</th>\n",
       "      <td>1001</td>\n",
       "      <td>2018-10</td>\n",
       "      <td>374.11</td>\n",
       "      <td>53.0</td>\n",
       "      <td>21.807119</td>\n",
       "      <td>surf</td>\n",
       "      <td>50</td>\n",
       "      <td>15.0</td>\n",
       "      <td>500</td>\n",
       "      <td>20</td>\n",
       "      <td>10</td>\n",
       "      <td>0.03</td>\n",
       "      <td>0.03</td>\n",
       "      <td>0.014648</td>\n",
       "      <td>3.0</td>\n",
       "      <td>0.09</td>\n",
       "      <td>0.0</td>\n",
       "      <td>0.0</td>\n",
       "      <td>21.792471</td>\n",
       "      <td>217.924707</td>\n",
       "      <td>238.014707</td>\n",
       "    </tr>\n",
       "    <tr>\n",
       "      <th>4</th>\n",
       "      <td>1001</td>\n",
       "      <td>2018-11</td>\n",
       "      <td>404.59</td>\n",
       "      <td>36.0</td>\n",
       "      <td>18.070605</td>\n",
       "      <td>surf</td>\n",
       "      <td>50</td>\n",
       "      <td>15.0</td>\n",
       "      <td>500</td>\n",
       "      <td>20</td>\n",
       "      <td>10</td>\n",
       "      <td>0.03</td>\n",
       "      <td>0.03</td>\n",
       "      <td>0.014648</td>\n",
       "      <td>0.0</td>\n",
       "      <td>0.00</td>\n",
       "      <td>0.0</td>\n",
       "      <td>0.0</td>\n",
       "      <td>18.055957</td>\n",
       "      <td>180.559570</td>\n",
       "      <td>200.559570</td>\n",
       "    </tr>\n",
       "  </tbody>\n",
       "</table>\n",
       "</div>"
      ],
      "text/plain": [
       "   user_id    month  duration  messages_sent    gb_used plan_name  \\\n",
       "0     1000  2018-12    116.83           11.0   1.856904  ultimate   \n",
       "1     1001  2018-08    171.14           30.0   6.756982      surf   \n",
       "2     1001  2018-09    297.69           44.0  13.002754      surf   \n",
       "3     1001  2018-10    374.11           53.0  21.807119      surf   \n",
       "4     1001  2018-11    404.59           36.0  18.070605      surf   \n",
       "\n",
       "   messages_included  mb_per_month_included  minutes_included  \\\n",
       "0               1000                   30.0              3000   \n",
       "1                 50                   15.0               500   \n",
       "2                 50                   15.0               500   \n",
       "3                 50                   15.0               500   \n",
       "4                 50                   15.0               500   \n",
       "\n",
       "   usd_monthly_fee  usd_per_gb  usd_per_message  usd_per_minute  \\\n",
       "0               70           7             0.01            0.01   \n",
       "1               20          10             0.03            0.03   \n",
       "2               20          10             0.03            0.03   \n",
       "3               20          10             0.03            0.03   \n",
       "4               20          10             0.03            0.03   \n",
       "\n",
       "   gb_per_month_included  messages_exceeded  messages_exceeded_price  \\\n",
       "0               0.029297                0.0                     0.00   \n",
       "1               0.014648                0.0                     0.00   \n",
       "2               0.014648                0.0                     0.00   \n",
       "3               0.014648                3.0                     0.09   \n",
       "4               0.014648                0.0                     0.00   \n",
       "\n",
       "   minutes_exceeded  minutes_exceeded_price  internet_exceeded  \\\n",
       "0               0.0                     0.0           1.827607   \n",
       "1               0.0                     0.0           6.742334   \n",
       "2               0.0                     0.0          12.988105   \n",
       "3               0.0                     0.0          21.792471   \n",
       "4               0.0                     0.0          18.055957   \n",
       "\n",
       "   internet_exceeded_price     receita  \n",
       "0                12.793252   82.793252  \n",
       "1                67.423340   87.423340  \n",
       "2               129.881055  149.881055  \n",
       "3               217.924707  238.014707  \n",
       "4               180.559570  200.559570  "
      ]
     },
     "execution_count": 97,
     "metadata": {},
     "output_type": "execute_result"
    }
   ],
   "source": [
    "dados_uso['receita'] = (\n",
    "    dados_uso['messages_exceeded_price'] \n",
    "    + dados_uso['minutes_exceeded_price']\n",
    "    + dados_uso['internet_exceeded_price'] \n",
    "    + dados_uso['usd_monthly_fee']\n",
    ") \n",
    "dados_uso.head()"
   ]
  },
  {
   "cell_type": "code",
   "execution_count": 34,
   "metadata": {},
   "outputs": [
    {
     "data": {
      "text/plain": [
       "0"
      ]
     },
     "execution_count": 98,
     "metadata": {},
     "output_type": "execute_result"
    }
   ],
   "source": [
    "dados_uso['receita'].isna().sum()"
   ]
  },
  {
   "cell_type": "markdown",
   "metadata": {
    "id": "0HFWXKTQuj8r"
   },
   "source": [
    "## Study user behavior"
   ]
  },
  {
   "cell_type": "markdown",
   "metadata": {
    "id": "umaMfSLxuj8s"
   },
   "source": [
    "### Calls"
   ]
  },
  {
   "cell_type": "code",
   "execution_count": 35,
   "metadata": {
    "id": "9sCQ1lP8uj8u"
   },
   "outputs": [
    {
     "data": {
      "image/png": "[encoded data removed]",
      "text/plain": [
       "<Figure size 1400x600 with 1 Axes>"
      ]
     },
     "metadata": {},
     "output_type": "display_data"
    }
   ],
   "source": [
    "# Compare the number of minutes used per month by users of each plan. Build a histogram.\n",
    "\n",
    "# Group by plan and month, and calculate the average minutes used (using 'duration')\n",
    "media_chamadas = dados_uso.groupby(['plan_name', 'month'])['duration'].mean().reset_index()\n",
    "\n",
    "# Plot the chart\n",
    "plt.figure(figsize=(14, 6))\n",
    "sns.barplot(data=media_chamadas, x='month', y='duration', hue='plan_name')\n",
    "\n",
    "plt.title(' Average Call Duration by Plan and Month ')\n",
    "plt.xlabel('Month')\n",
    "plt.ylabel('Average Call Duration (minutes)')\n",
    "plt.xticks(rotation=45)\n",
    "plt.legend(title='Plan')\n",
    "plt.tight_layout()\n",
    "plt.show()"
   ]
  },
  {
   "cell_type": "code",
   "execution_count": 36,
   "metadata": {
    "id": "cIdodPExuj8u"
   },
   "outputs": [
    {
     "name": "stdout",
     "output_type": "stream",
     "text": [
      "   plan_name    month        mean           var\n",
      "0       surf  2018-01  192.840000  14795.440200\n",
      "1       surf  2018-02  280.851111  46959.219961\n",
      "2       surf  2018-03  310.970000  31821.317991\n",
      "3       surf  2018-04  332.380000  45615.666796\n",
      "4       surf  2018-05  377.053247  53282.922217\n",
      "5       surf  2018-06  407.208866  40758.661193\n",
      "6       surf  2018-07  424.523223  54434.184064\n",
      "7       surf  2018-08  387.169630  48616.061790\n",
      "8       surf  2018-09  390.992062  41580.494645\n",
      "9       surf  2018-10  405.692363  46731.430317\n",
      "10      surf  2018-11  399.599823  46105.085924\n",
      "11      surf  2018-12  447.475283  56983.247423\n",
      "12  ultimate  2018-01  183.162500  14991.369958\n",
      "13  ultimate  2018-02  379.861429  68540.288348\n",
      "14  ultimate  2018-03  285.701667  54273.917252\n",
      "15  ultimate  2018-04  316.508095  31057.727496\n",
      "16  ultimate  2018-05  383.664828  39290.610940\n",
      "17  ultimate  2018-06  349.811064  37923.360514\n",
      "18  ultimate  2018-07  403.767288  64844.426958\n",
      "19  ultimate  2018-08  397.274789  47680.189425\n",
      "20  ultimate  2018-09  413.287326  50994.505514\n",
      "21  ultimate  2018-10  425.168019  48371.222127\n",
      "22  ultimate  2018-11  420.477559  54265.152604\n",
      "23  ultimate  2018-12  433.012583  55781.717507\n"
     ]
    }
   ],
   "source": [
    "# Calculate the mean and variance of monthly call duration\n",
    "\n",
    "# Calculate a mean e a variance da duration monthly das calls por plano\n",
    "estatisticas_duracao = dados_uso.groupby(['plan_name', 'month'])['duration'].agg(['mean', 'var']).reset_index()\n",
    "\n",
    "# Display as primeiras linhas do resultado\n",
    "print(estatisticas_duracao)"
   ]
  },
  {
   "cell_type": "code",
   "execution_count": 37,
   "metadata": {
    "id": "DW7vTypxuj8u"
   },
   "outputs": [
    {
     "data": {
      "image/png": "[encoded data removed]",
      "text/plain": [
       "<Figure size 1400x600 with 1 Axes>"
      ]
     },
     "metadata": {},
     "output_type": "display_data"
    }
   ],
   "source": [
    "\n",
    "# Create a Boxplot to Visualize the Distribution of Monthly Call Duration\n",
    "\n",
    "\n",
    "# Create o boxplot para visualizar a distribuição da duration das calls por plano e month\n",
    "plt.figure(figsize=(14, 6))\n",
    "sns.boxplot(data=dados_uso, x='month', y='duration', hue='plan_name')\n",
    "\n",
    "# Ajustar título e rótulos\n",
    "plt.title('Distribuição da Duração das Chamadas por Plano e Mês')\n",
    "plt.xlabel('Mês')\n",
    "plt.ylabel('Duração das Chamadas (minutos)')\n",
    "plt.legend(title='Plano')\n",
    "\n",
    "# Display o gráfico\n",
    "plt.tight_layout()\n",
    "plt.show()"
   ]
  },
  {
   "cell_type": "markdown",
   "metadata": {
    "id": "Uyt3rWn7uj8u"
   },
   "source": [
    "[Formule conclusões sobre como os users se comportam em termos de calls. O comportamento é diferente dependendo do plano?]\n",
    "Os users do plano Surf tendem a usar mais minutes do que o esperado, o que pode resultar em custos extras para eles. Já os users do plano Ultimate têm mais flexibilidade, com o uso de minutes mais estável e menos chances de ultrapassar o limite do plano.\n",
    "\n",
    "Enquanto os users do plano \"Surf\" apresentam um padrão de uso mais variável e imprevisível, os do plano \"Ultimate\" têm um comportamento mais constante e previsível. Além disso, o uso de minutes pode mudar ao longo dos meses, o que pode ser um reflexo das necessidades dos clientes ou de promoções e campanhas."
   ]
  },
  {
   "cell_type": "markdown",
   "metadata": {},
   "source": [
    "\n",
    "<div class=\"alert alert-success\">\n",
    "<strong>Comentário do revisor v1</strong>\n",
    "\n",
    "calls tiveram o seu comportamento investigado conforme solicitado na lição, com gráficos e conclusão apresentados.\n",
    "</div>\n",
    "\n"
   ]
  },
  {
   "cell_type": "markdown",
   "metadata": {
    "id": "2hWSPtrnuj8v"
   },
   "source": [
    "### messages"
   ]
  },
  {
   "cell_type": "code",
   "execution_count": 38,
   "metadata": {
    "id": "9kPlAhOJuj8v"
   },
   "outputs": [
    {
     "data": {
      "image/png": "[encoded data removed]",
      "text/plain": [
       "<Figure size 1400x600 with 1 Axes>"
      ]
     },
     "metadata": {},
     "output_type": "display_data"
    }
   ],
   "source": [
    "# Compare o número de messages que os users de cada plano costumam enviar a cada month\n",
    "# Group por plano e month, e Calculate a mean de messages enviadas\n",
    "media_mensagens = dados_uso.groupby(['plan_name', 'month'])['messages_sent'].mean().reset_index()\n",
    "\n",
    "# Plot the Chart\n",
    "plt.figure(figsize=(14, 6))\n",
    "sns.barplot(data=media_mensagens, x='month', y='messages_sent', hue='plan_name')\n",
    "\n",
    "plt.title('Número Médio de Mensagens Enviadas por Plano e Mês')\n",
    "plt.xlabel('Mês')\n",
    "plt.ylabel('Número Médio de Mensagens Enviadas')\n",
    "plt.xticks(rotation=45)\n",
    "plt.legend(title='Plano')\n",
    "plt.tight_layout()\n",
    "plt.show()\n"
   ]
  },
  {
   "cell_type": "code",
   "execution_count": 39,
   "metadata": {
    "id": "fIVdRuT6uj8v"
   },
   "outputs": [
    {
     "data": {
      "image/png": "[encoded data removed]",
      "text/plain": [
       "<Figure size 1000x600 with 1 Axes>"
      ]
     },
     "metadata": {},
     "output_type": "display_data"
    }
   ],
   "source": [
    "# Compare a quantidade de traffic de internet consumido pelos users por plano\n",
    "\n",
    "# Group por plano e Calculate a mean de Data usados (em MB)\n",
    "media_dados = dados_uso.groupby('plan_name')['gb_used'].mean().reset_index()\n",
    "\n",
    "# Plot the Chart\n",
    "plt.figure(figsize=(10, 6))\n",
    "sns.barplot(data=media_dados, x='plan_name', y='gb_used')\n",
    "\n",
    "plt.title('Quantidade Média de Tráfego de Internet Consumido por Plano')\n",
    "plt.xlabel('Plano')\n",
    "plt.ylabel('Quantidade Média de Dados Consumidos (MB)')\n",
    "plt.tight_layout()\n",
    "plt.show()"
   ]
  },
  {
   "cell_type": "markdown",
   "metadata": {
    "id": "v6QELMtcuj8v"
   },
   "source": [
    "[Formule conclusões sobre como os users costumam consumir o traffic da internet. O comportamento é diferente dependendo do plano?]\n",
    "o comportamento de consumo de Data é bastante diferente entre os plans. users do plano Surf são mais restritos e cuidadosos com seu consumo de Data, enquanto os users do plano Ultimate têm mais liberdade para explorar a internet sem preocupações constantes com limites."
   ]
  },
  {
   "cell_type": "markdown",
   "metadata": {
    "id": "nHUCwAnauj8w"
   },
   "source": [
    "### internet"
   ]
  },
  {
   "cell_type": "code",
   "execution_count": 40,
   "metadata": {
    "id": "EEm27RaRuj8w"
   },
   "outputs": [
    {
     "name": "stdout",
     "output_type": "stream",
     "text": [
      "Média de dados consumidos por plano:\n",
      "  plan_name    gb_used\n",
      "0      surf  16.170199\n",
      "1  ultimate  16.811230\n",
      "\n",
      "Variância de dados consumidos por plano:\n",
      "  plan_name    gb_used\n",
      "0      surf  61.241527\n",
      "1  ultimate  58.796209\n"
     ]
    }
   ],
   "source": [
    "# Calculate a mean e a variance do traffic de Data\n",
    "media_dados = dados_uso.groupby('plan_name')['gb_used'].mean().reset_index()\n",
    "variancia_dados = dados_uso.groupby('plan_name')['gb_used'].var().reset_index()\n",
    "\n",
    "# Display as médias e variâncias\n",
    "print(\"Média de dados consumidos por plano:\")\n",
    "print(media_dados)\n",
    "print(\"\\nVariância de dados consumidos por plano:\")\n",
    "print(variancia_dados)"
   ]
  },
  {
   "cell_type": "code",
   "execution_count": 41,
   "metadata": {
    "id": "Detb0wIZuj8w"
   },
   "outputs": [
    {
     "data": {
      "image/png": "[encoded data removed]",
      "text/plain": [
       "<Figure size 1400x600 with 1 Axes>"
      ]
     },
     "metadata": {},
     "output_type": "display_data"
    }
   ],
   "source": [
    "# Comparar a distribuição de Data consumidos por plano usando boxplot\n",
    "# Group por month e plano, tirando a mean de uso de Data\n",
    "dados_mensais = dados_uso.groupby(['month', 'plan_name'])['gb_used'].mean().reset_index()\n",
    "\n",
    "# Gráfico\n",
    "plt.figure(figsize=(14, 6))\n",
    "sns.lineplot(x='month', y='gb_used', hue='plan_name', data=dados_mensais, marker='o')\n",
    "plt.title('Consumo Médio Mensal de Internet por Plano')\n",
    "plt.xlabel('Mês')\n",
    "plt.ylabel('Média de Dados Consumidos (MB)')\n",
    "plt.xticks(rotation=45)\n",
    "plt.grid(True)\n",
    "plt.tight_layout()\n",
    "plt.show()"
   ]
  },
  {
   "cell_type": "markdown",
   "metadata": {
    "id": "GsHkFpGmuj8w"
   },
   "source": [
    "[Formule conclusões sobre como os users tendem a consumir o traffic da internet. O comportamento é diferente dependendo do plano?]\n",
    "users do plano Surf tendem a ser mais cuidadosos com o consumo de Data devido ao limite mais restrito.\n",
    "users do plano Ultimate têm mais liberdade para consumir Data, o que pode resultar em um uso mais volátil e, em alguns casos, maior do que o plano Surf."
   ]
  },
  {
   "cell_type": "markdown",
   "metadata": {
    "id": "g23qXaYNuj8x"
   },
   "source": [
    "## Receita"
   ]
  },
  {
   "cell_type": "markdown",
   "metadata": {
    "id": "qI9oKXFZuj8y"
   },
   "source": [
    "[Da mesma forma que você estudou o comportamento dos users, descreva estatisticamente as receitas dos plans.]"
   ]
  },
  {
   "cell_type": "code",
   "execution_count": 42,
   "metadata": {},
   "outputs": [],
   "source": [
    "dados_uso['user_id'] = dados_uso['user_id'].astype(int)\n",
    "users['user_id'] = users['user_id'].astype(int)"
   ]
  },
  {
   "cell_type": "code",
   "execution_count": 43,
   "metadata": {},
   "outputs": [
    {
     "name": "stdout",
     "output_type": "stream",
     "text": [
      "Index(['user_id', 'month', 'duration', 'messages_sent', 'gb_used', 'plan_name',\n",
      "       'messages_included', 'mb_per_month_included', 'minutes_included',\n",
      "       'usd_monthly_fee', 'usd_per_gb', 'usd_per_message', 'usd_per_minute',\n",
      "       'gb_per_month_included', 'messages_exceeded', 'messages_exceeded_price',\n",
      "       'minutes_exceeded', 'minutes_exceeded_price', 'internet_exceeded',\n",
      "       'internet_exceeded_price', 'receita'],\n",
      "      dtype='object')\n",
      "Index(['user_id', 'first_name', 'last_name', 'age', 'city', 'reg_date', 'plan',\n",
      "       'churn_date'],\n",
      "      dtype='object')\n"
     ]
    }
   ],
   "source": [
    "# Verificar se o 'user_id' está presente em ambos os dataframes\n",
    "print(dados_uso.columns)\n",
    "print(users.columns)\n",
    "\n",
    "# Merge entre dados_uso e users\n",
    "dados_uso = dados_uso.merge(users[['user_id', 'city']], on='user_id', how='left')"
   ]
  },
  {
   "cell_type": "code",
   "execution_count": 44,
   "metadata": {},
   "outputs": [
    {
     "data": {
      "text/html": [
       "<div>\n",
       "<style scoped>\n",
       "    .dataframe tbody tr th:only-of-type {\n",
       "        vertical-align: middle;\n",
       "    }\n",
       "\n",
       "    .dataframe tbody tr th {\n",
       "        vertical-align: top;\n",
       "    }\n",
       "\n",
       "    .dataframe thead th {\n",
       "        text-align: right;\n",
       "    }\n",
       "</style>\n",
       "<table border=\"1\" class=\"dataframe\">\n",
       "  <thead>\n",
       "    <tr style=\"text-align: right;\">\n",
       "      <th></th>\n",
       "      <th>user_id</th>\n",
       "      <th>month</th>\n",
       "      <th>duration</th>\n",
       "      <th>messages_sent</th>\n",
       "      <th>gb_used</th>\n",
       "      <th>plan_name</th>\n",
       "      <th>messages_included</th>\n",
       "      <th>mb_per_month_included</th>\n",
       "      <th>minutes_included</th>\n",
       "      <th>usd_monthly_fee</th>\n",
       "      <th>usd_per_gb</th>\n",
       "      <th>usd_per_message</th>\n",
       "      <th>usd_per_minute</th>\n",
       "      <th>gb_per_month_included</th>\n",
       "      <th>messages_exceeded</th>\n",
       "      <th>messages_exceeded_price</th>\n",
       "      <th>minutes_exceeded</th>\n",
       "      <th>minutes_exceeded_price</th>\n",
       "      <th>internet_exceeded</th>\n",
       "      <th>internet_exceeded_price</th>\n",
       "      <th>receita</th>\n",
       "      <th>city</th>\n",
       "    </tr>\n",
       "  </thead>\n",
       "  <tbody>\n",
       "    <tr>\n",
       "      <th>1722</th>\n",
       "      <td>1379</td>\n",
       "      <td>2018-12</td>\n",
       "      <td>1045.24</td>\n",
       "      <td>126.0</td>\n",
       "      <td>69.269131</td>\n",
       "      <td>surf</td>\n",
       "      <td>50</td>\n",
       "      <td>15.0</td>\n",
       "      <td>500</td>\n",
       "      <td>20</td>\n",
       "      <td>10</td>\n",
       "      <td>0.03</td>\n",
       "      <td>0.03</td>\n",
       "      <td>0.014648</td>\n",
       "      <td>76.0</td>\n",
       "      <td>2.28</td>\n",
       "      <td>545.24</td>\n",
       "      <td>16.3572</td>\n",
       "      <td>69.254482</td>\n",
       "      <td>692.544824</td>\n",
       "      <td>731.182024</td>\n",
       "      <td>Grand Rapids-Kentwood, MI MSA</td>\n",
       "    </tr>\n",
       "    <tr>\n",
       "      <th>2266</th>\n",
       "      <td>1121</td>\n",
       "      <td>2018-12</td>\n",
       "      <td>0.00</td>\n",
       "      <td>97.0</td>\n",
       "      <td>65.296768</td>\n",
       "      <td>surf</td>\n",
       "      <td>50</td>\n",
       "      <td>15.0</td>\n",
       "      <td>500</td>\n",
       "      <td>20</td>\n",
       "      <td>10</td>\n",
       "      <td>0.03</td>\n",
       "      <td>0.03</td>\n",
       "      <td>0.014648</td>\n",
       "      <td>47.0</td>\n",
       "      <td>1.41</td>\n",
       "      <td>0.00</td>\n",
       "      <td>0.0000</td>\n",
       "      <td>65.282119</td>\n",
       "      <td>652.821191</td>\n",
       "      <td>674.231191</td>\n",
       "      <td>Miami-Fort Lauderdale-West Palm Beach, FL MSA</td>\n",
       "    </tr>\n",
       "    <tr>\n",
       "      <th>1332</th>\n",
       "      <td>1292</td>\n",
       "      <td>2018-12</td>\n",
       "      <td>132.65</td>\n",
       "      <td>0.0</td>\n",
       "      <td>50.815098</td>\n",
       "      <td>surf</td>\n",
       "      <td>50</td>\n",
       "      <td>15.0</td>\n",
       "      <td>500</td>\n",
       "      <td>20</td>\n",
       "      <td>10</td>\n",
       "      <td>0.03</td>\n",
       "      <td>0.03</td>\n",
       "      <td>0.014648</td>\n",
       "      <td>0.0</td>\n",
       "      <td>0.00</td>\n",
       "      <td>0.00</td>\n",
       "      <td>0.0000</td>\n",
       "      <td>50.800449</td>\n",
       "      <td>508.004492</td>\n",
       "      <td>528.004492</td>\n",
       "      <td>Dallas-Fort Worth-Arlington, TX MSA</td>\n",
       "    </tr>\n",
       "    <tr>\n",
       "      <th>1328</th>\n",
       "      <td>1292</td>\n",
       "      <td>2018-08</td>\n",
       "      <td>304.67</td>\n",
       "      <td>0.0</td>\n",
       "      <td>50.595068</td>\n",
       "      <td>surf</td>\n",
       "      <td>50</td>\n",
       "      <td>15.0</td>\n",
       "      <td>500</td>\n",
       "      <td>20</td>\n",
       "      <td>10</td>\n",
       "      <td>0.03</td>\n",
       "      <td>0.03</td>\n",
       "      <td>0.014648</td>\n",
       "      <td>0.0</td>\n",
       "      <td>0.00</td>\n",
       "      <td>0.00</td>\n",
       "      <td>0.0000</td>\n",
       "      <td>50.580420</td>\n",
       "      <td>505.804199</td>\n",
       "      <td>525.804199</td>\n",
       "      <td>Dallas-Fort Worth-Arlington, TX MSA</td>\n",
       "    </tr>\n",
       "    <tr>\n",
       "      <th>1099</th>\n",
       "      <td>1240</td>\n",
       "      <td>2018-08</td>\n",
       "      <td>1038.88</td>\n",
       "      <td>15.0</td>\n",
       "      <td>48.779863</td>\n",
       "      <td>surf</td>\n",
       "      <td>50</td>\n",
       "      <td>15.0</td>\n",
       "      <td>500</td>\n",
       "      <td>20</td>\n",
       "      <td>10</td>\n",
       "      <td>0.03</td>\n",
       "      <td>0.03</td>\n",
       "      <td>0.014648</td>\n",
       "      <td>0.0</td>\n",
       "      <td>0.00</td>\n",
       "      <td>538.88</td>\n",
       "      <td>16.1664</td>\n",
       "      <td>48.765215</td>\n",
       "      <td>487.652148</td>\n",
       "      <td>523.818548</td>\n",
       "      <td>Baton Rouge, LA MSA</td>\n",
       "    </tr>\n",
       "    <tr>\n",
       "      <th>...</th>\n",
       "      <td>...</td>\n",
       "      <td>...</td>\n",
       "      <td>...</td>\n",
       "      <td>...</td>\n",
       "      <td>...</td>\n",
       "      <td>...</td>\n",
       "      <td>...</td>\n",
       "      <td>...</td>\n",
       "      <td>...</td>\n",
       "      <td>...</td>\n",
       "      <td>...</td>\n",
       "      <td>...</td>\n",
       "      <td>...</td>\n",
       "      <td>...</td>\n",
       "      <td>...</td>\n",
       "      <td>...</td>\n",
       "      <td>...</td>\n",
       "      <td>...</td>\n",
       "      <td>...</td>\n",
       "      <td>...</td>\n",
       "      <td>...</td>\n",
       "      <td>...</td>\n",
       "    </tr>\n",
       "    <tr>\n",
       "      <th>2132</th>\n",
       "      <td>1470</td>\n",
       "      <td>2018-08</td>\n",
       "      <td>547.38</td>\n",
       "      <td>141.0</td>\n",
       "      <td>0.000000</td>\n",
       "      <td>surf</td>\n",
       "      <td>50</td>\n",
       "      <td>15.0</td>\n",
       "      <td>500</td>\n",
       "      <td>20</td>\n",
       "      <td>10</td>\n",
       "      <td>0.03</td>\n",
       "      <td>0.03</td>\n",
       "      <td>0.014648</td>\n",
       "      <td>91.0</td>\n",
       "      <td>2.73</td>\n",
       "      <td>47.38</td>\n",
       "      <td>1.4214</td>\n",
       "      <td>0.000000</td>\n",
       "      <td>0.000000</td>\n",
       "      <td>24.151400</td>\n",
       "      <td>Washington-Arlington-Alexandria, DC-VA-MD-WV MSA</td>\n",
       "    </tr>\n",
       "    <tr>\n",
       "      <th>2133</th>\n",
       "      <td>1470</td>\n",
       "      <td>2018-09</td>\n",
       "      <td>441.96</td>\n",
       "      <td>130.0</td>\n",
       "      <td>0.000000</td>\n",
       "      <td>surf</td>\n",
       "      <td>50</td>\n",
       "      <td>15.0</td>\n",
       "      <td>500</td>\n",
       "      <td>20</td>\n",
       "      <td>10</td>\n",
       "      <td>0.03</td>\n",
       "      <td>0.03</td>\n",
       "      <td>0.014648</td>\n",
       "      <td>80.0</td>\n",
       "      <td>2.40</td>\n",
       "      <td>0.00</td>\n",
       "      <td>0.0000</td>\n",
       "      <td>0.000000</td>\n",
       "      <td>0.000000</td>\n",
       "      <td>22.400000</td>\n",
       "      <td>Washington-Arlington-Alexandria, DC-VA-MD-WV MSA</td>\n",
       "    </tr>\n",
       "    <tr>\n",
       "      <th>2134</th>\n",
       "      <td>1470</td>\n",
       "      <td>2018-10</td>\n",
       "      <td>434.68</td>\n",
       "      <td>145.0</td>\n",
       "      <td>0.000000</td>\n",
       "      <td>surf</td>\n",
       "      <td>50</td>\n",
       "      <td>15.0</td>\n",
       "      <td>500</td>\n",
       "      <td>20</td>\n",
       "      <td>10</td>\n",
       "      <td>0.03</td>\n",
       "      <td>0.03</td>\n",
       "      <td>0.014648</td>\n",
       "      <td>95.0</td>\n",
       "      <td>2.85</td>\n",
       "      <td>0.00</td>\n",
       "      <td>0.0000</td>\n",
       "      <td>0.000000</td>\n",
       "      <td>0.000000</td>\n",
       "      <td>22.850000</td>\n",
       "      <td>Washington-Arlington-Alexandria, DC-VA-MD-WV MSA</td>\n",
       "    </tr>\n",
       "    <tr>\n",
       "      <th>2135</th>\n",
       "      <td>1470</td>\n",
       "      <td>2018-11</td>\n",
       "      <td>602.30</td>\n",
       "      <td>156.0</td>\n",
       "      <td>0.000000</td>\n",
       "      <td>surf</td>\n",
       "      <td>50</td>\n",
       "      <td>15.0</td>\n",
       "      <td>500</td>\n",
       "      <td>20</td>\n",
       "      <td>10</td>\n",
       "      <td>0.03</td>\n",
       "      <td>0.03</td>\n",
       "      <td>0.014648</td>\n",
       "      <td>106.0</td>\n",
       "      <td>3.18</td>\n",
       "      <td>102.30</td>\n",
       "      <td>3.0690</td>\n",
       "      <td>0.000000</td>\n",
       "      <td>0.000000</td>\n",
       "      <td>26.249000</td>\n",
       "      <td>Washington-Arlington-Alexandria, DC-VA-MD-WV MSA</td>\n",
       "    </tr>\n",
       "    <tr>\n",
       "      <th>2209</th>\n",
       "      <td>1491</td>\n",
       "      <td>2018-04</td>\n",
       "      <td>40.45</td>\n",
       "      <td>6.0</td>\n",
       "      <td>0.000000</td>\n",
       "      <td>surf</td>\n",
       "      <td>50</td>\n",
       "      <td>15.0</td>\n",
       "      <td>500</td>\n",
       "      <td>20</td>\n",
       "      <td>10</td>\n",
       "      <td>0.03</td>\n",
       "      <td>0.03</td>\n",
       "      <td>0.014648</td>\n",
       "      <td>0.0</td>\n",
       "      <td>0.00</td>\n",
       "      <td>0.00</td>\n",
       "      <td>0.0000</td>\n",
       "      <td>0.000000</td>\n",
       "      <td>0.000000</td>\n",
       "      <td>20.000000</td>\n",
       "      <td>Grand Rapids-Kentwood, MI MSA</td>\n",
       "    </tr>\n",
       "  </tbody>\n",
       "</table>\n",
       "<p>2293 rows × 22 columns</p>\n",
       "</div>"
      ],
      "text/plain": [
       "      user_id    month  duration  messages_sent    gb_used plan_name  \\\n",
       "1722     1379  2018-12   1045.24          126.0  69.269131      surf   \n",
       "2266     1121  2018-12      0.00           97.0  65.296768      surf   \n",
       "1332     1292  2018-12    132.65            0.0  50.815098      surf   \n",
       "1328     1292  2018-08    304.67            0.0  50.595068      surf   \n",
       "1099     1240  2018-08   1038.88           15.0  48.779863      surf   \n",
       "...       ...      ...       ...            ...        ...       ...   \n",
       "2132     1470  2018-08    547.38          141.0   0.000000      surf   \n",
       "2133     1470  2018-09    441.96          130.0   0.000000      surf   \n",
       "2134     1470  2018-10    434.68          145.0   0.000000      surf   \n",
       "2135     1470  2018-11    602.30          156.0   0.000000      surf   \n",
       "2209     1491  2018-04     40.45            6.0   0.000000      surf   \n",
       "\n",
       "      messages_included  mb_per_month_included  minutes_included  \\\n",
       "1722                 50                   15.0               500   \n",
       "2266                 50                   15.0               500   \n",
       "1332                 50                   15.0               500   \n",
       "1328                 50                   15.0               500   \n",
       "1099                 50                   15.0               500   \n",
       "...                 ...                    ...               ...   \n",
       "2132                 50                   15.0               500   \n",
       "2133                 50                   15.0               500   \n",
       "2134                 50                   15.0               500   \n",
       "2135                 50                   15.0               500   \n",
       "2209                 50                   15.0               500   \n",
       "\n",
       "      usd_monthly_fee  usd_per_gb  usd_per_message  usd_per_minute  \\\n",
       "1722               20          10             0.03            0.03   \n",
       "2266               20          10             0.03            0.03   \n",
       "1332               20          10             0.03            0.03   \n",
       "1328               20          10             0.03            0.03   \n",
       "1099               20          10             0.03            0.03   \n",
       "...               ...         ...              ...             ...   \n",
       "2132               20          10             0.03            0.03   \n",
       "2133               20          10             0.03            0.03   \n",
       "2134               20          10             0.03            0.03   \n",
       "2135               20          10             0.03            0.03   \n",
       "2209               20          10             0.03            0.03   \n",
       "\n",
       "      gb_per_month_included  messages_exceeded  messages_exceeded_price  \\\n",
       "1722               0.014648               76.0                     2.28   \n",
       "2266               0.014648               47.0                     1.41   \n",
       "1332               0.014648                0.0                     0.00   \n",
       "1328               0.014648                0.0                     0.00   \n",
       "1099               0.014648                0.0                     0.00   \n",
       "...                     ...                ...                      ...   \n",
       "2132               0.014648               91.0                     2.73   \n",
       "2133               0.014648               80.0                     2.40   \n",
       "2134               0.014648               95.0                     2.85   \n",
       "2135               0.014648              106.0                     3.18   \n",
       "2209               0.014648                0.0                     0.00   \n",
       "\n",
       "      minutes_exceeded  minutes_exceeded_price  internet_exceeded  \\\n",
       "1722            545.24                 16.3572          69.254482   \n",
       "2266              0.00                  0.0000          65.282119   \n",
       "1332              0.00                  0.0000          50.800449   \n",
       "1328              0.00                  0.0000          50.580420   \n",
       "1099            538.88                 16.1664          48.765215   \n",
       "...                ...                     ...                ...   \n",
       "2132             47.38                  1.4214           0.000000   \n",
       "2133              0.00                  0.0000           0.000000   \n",
       "2134              0.00                  0.0000           0.000000   \n",
       "2135            102.30                  3.0690           0.000000   \n",
       "2209              0.00                  0.0000           0.000000   \n",
       "\n",
       "      internet_exceeded_price     receita  \\\n",
       "1722               692.544824  731.182024   \n",
       "2266               652.821191  674.231191   \n",
       "1332               508.004492  528.004492   \n",
       "1328               505.804199  525.804199   \n",
       "1099               487.652148  523.818548   \n",
       "...                       ...         ...   \n",
       "2132                 0.000000   24.151400   \n",
       "2133                 0.000000   22.400000   \n",
       "2134                 0.000000   22.850000   \n",
       "2135                 0.000000   26.249000   \n",
       "2209                 0.000000   20.000000   \n",
       "\n",
       "                                                  city  \n",
       "1722                     Grand Rapids-Kentwood, MI MSA  \n",
       "2266     Miami-Fort Lauderdale-West Palm Beach, FL MSA  \n",
       "1332               Dallas-Fort Worth-Arlington, TX MSA  \n",
       "1328               Dallas-Fort Worth-Arlington, TX MSA  \n",
       "1099                               Baton Rouge, LA MSA  \n",
       "...                                                ...  \n",
       "2132  Washington-Arlington-Alexandria, DC-VA-MD-WV MSA  \n",
       "2133  Washington-Arlington-Alexandria, DC-VA-MD-WV MSA  \n",
       "2134  Washington-Arlington-Alexandria, DC-VA-MD-WV MSA  \n",
       "2135  Washington-Arlington-Alexandria, DC-VA-MD-WV MSA  \n",
       "2209                     Grand Rapids-Kentwood, MI MSA  \n",
       "\n",
       "[2293 rows x 22 columns]"
      ]
     },
     "execution_count": 108,
     "metadata": {},
     "output_type": "execute_result"
    }
   ],
   "source": [
    "dados_uso.sort_values('gb_used',ascending=False)"
   ]
  },
  {
   "cell_type": "code",
   "execution_count": 45,
   "metadata": {
    "id": "qJSyfvUguj8y"
   },
   "outputs": [
    {
     "name": "stdout",
     "output_type": "stream",
     "text": [
      "Média de receita por plano:\n",
      "  plan_name     receita\n",
      "0      surf  183.231989\n",
      "1  ultimate  187.473818\n",
      "\n",
      "Variância de receita por plano:\n",
      "  plan_name      receita\n",
      "0      surf  6250.139307\n",
      "1  ultimate  2880.947154\n"
     ]
    }
   ],
   "source": [
    "# Calculate a mean e a variance da receita por plano\n",
    "media_receita = dados_uso.groupby('plan_name')['receita'].mean().reset_index()\n",
    "variancia_receita = dados_uso.groupby('plan_name')['receita'].var().reset_index()\n",
    "\n",
    "# Display as médias e variâncias\n",
    "print(\"Média de receita por plano:\")\n",
    "print(media_receita)\n",
    "print(\"\\nVariância de receita por plano:\")\n",
    "print(variancia_receita)"
   ]
  },
  {
   "cell_type": "code",
   "execution_count": 46,
   "metadata": {
    "id": "KUSxMW71uj8z"
   },
   "outputs": [
    {
     "data": {
      "image/png": "[encoded data removed]",
      "text/plain": [
       "<Figure size 1400x600 with 1 Axes>"
      ]
     },
     "metadata": {},
     "output_type": "display_data"
    }
   ],
   "source": [
    "    # Comparar a distribuição de receitas mensais por plano usando boxplot\n",
    "    plt.figure(figsize=(14, 6))\n",
    "    sns.boxplot(x='plan_name', y='receita', data=dados_uso)\n",
    "    plt.title('Distribuição da Receita Mensal por Plano')\n",
    "    plt.xlabel('Plano')\n",
    "    plt.ylabel('Receita Mensal')\n",
    "    plt.tight_layout()\n",
    "    plt.show()"
   ]
  },
  {
   "cell_type": "markdown",
   "metadata": {
    "id": "6X34EwHpuj8z"
   },
   "source": [
    "[Formule conclusões sobre como a receita difere entre os plans.]\n",
    "\n",
    "O plano Ultimate rende um pouco mais em mean e tem receitas mais estáveis. Já o plano Surf tem uma mean um pouco menor e variação maior entre os users, o que pode indicar que os clientes do Ultimate têm um perfil mais parecido entre si."
   ]
  },
  {
   "cell_type": "markdown",
   "metadata": {
    "id": "xJ6Mu-KAuj8z"
   },
   "source": [
    "## Teste hipóteses estatísticas"
   ]
  },
  {
   "cell_type": "markdown",
   "metadata": {
    "id": "lop_0j4Duj8z"
   },
   "source": [
    "[Teste a hipótese de que a receita mean dos users dos plans Ultimate e Surf são diferentes.]"
   ]
  },
  {
   "cell_type": "markdown",
   "metadata": {
    "id": "-X2l1R8Luj80"
   },
   "source": [
    "[Formule as hipóteses nula e alternativa, escolha o teste estatístico, escolha o valor alfa.]"
   ]
  },
  {
   "cell_type": "code",
   "execution_count": 47,
   "metadata": {
    "id": "LyGrPhpUuj80"
   },
   "outputs": [
    {
     "name": "stdout",
     "output_type": "stream",
     "text": [
      "Estatística t: -1.5021\n",
      "Valor-p: 0.1332\n",
      "✅ Não rejeitamos a hipótese nula: não há diferença estatisticamente significativa.\n"
     ]
    }
   ],
   "source": [
    "# Teste as hipóteses\n",
    "\n",
    "\n",
    "# Separar os Data por plano\n",
    "surf = dados_uso[dados_uso['plan_name'] == 'surf']['receita']\n",
    "ultimate = dados_uso[dados_uso['plan_name'] == 'ultimate']['receita']\n",
    "\n",
    "# Executar o teste t para amostras independentes\n",
    "t_stat, p_value = stats.ttest_ind(surf, ultimate, equal_var=False)\n",
    "\n",
    "# Mostrar os resultados\n",
    "print(f'Estatística t: {t_stat:.4f}')\n",
    "print(f'Valor-p: {p_value:.4f}')\n",
    "\n",
    "# Verificar a hipótese\n",
    "alpha = 0.05\n",
    "if p_value < alpha:\n",
    "    print(\"❌ Rejeitamos a hipótese nula: as receitas médias são significativamente diferentes.\")\n",
    "else:\n",
    "    print(\"✅ Não rejeitamos a hipótese nula: não há diferença estatisticamente significativa.\")\n"
   ]
  },
  {
   "cell_type": "code",
   "execution_count": 48,
   "metadata": {},
   "outputs": [
    {
     "data": {
      "text/html": [
       "<div>\n",
       "<style scoped>\n",
       "    .dataframe tbody tr th:only-of-type {\n",
       "        vertical-align: middle;\n",
       "    }\n",
       "\n",
       "    .dataframe tbody tr th {\n",
       "        vertical-align: top;\n",
       "    }\n",
       "\n",
       "    .dataframe thead th {\n",
       "        text-align: right;\n",
       "    }\n",
       "</style>\n",
       "<table border=\"1\" class=\"dataframe\">\n",
       "  <thead>\n",
       "    <tr style=\"text-align: right;\">\n",
       "      <th></th>\n",
       "      <th>user_id</th>\n",
       "      <th>duration</th>\n",
       "      <th>messages_sent</th>\n",
       "      <th>gb_used</th>\n",
       "      <th>messages_included</th>\n",
       "      <th>mb_per_month_included</th>\n",
       "      <th>minutes_included</th>\n",
       "      <th>usd_monthly_fee</th>\n",
       "      <th>usd_per_gb</th>\n",
       "      <th>usd_per_message</th>\n",
       "      <th>usd_per_minute</th>\n",
       "      <th>gb_per_month_included</th>\n",
       "      <th>messages_exceeded</th>\n",
       "      <th>messages_exceeded_price</th>\n",
       "      <th>minutes_exceeded</th>\n",
       "      <th>minutes_exceeded_price</th>\n",
       "      <th>internet_exceeded</th>\n",
       "      <th>internet_exceeded_price</th>\n",
       "      <th>receita</th>\n",
       "    </tr>\n",
       "  </thead>\n",
       "  <tbody>\n",
       "    <tr>\n",
       "      <th>count</th>\n",
       "      <td>2293.000000</td>\n",
       "      <td>2293.000000</td>\n",
       "      <td>2293.000000</td>\n",
       "      <td>2293.000000</td>\n",
       "      <td>2293.000000</td>\n",
       "      <td>2293.000000</td>\n",
       "      <td>2293.000000</td>\n",
       "      <td>2293.000000</td>\n",
       "      <td>2293.000000</td>\n",
       "      <td>2293.000000</td>\n",
       "      <td>2293.000000</td>\n",
       "      <td>2293.000000</td>\n",
       "      <td>2293.000000</td>\n",
       "      <td>2293.000000</td>\n",
       "      <td>2293.000000</td>\n",
       "      <td>2293.000000</td>\n",
       "      <td>2293.000000</td>\n",
       "      <td>2293.000000</td>\n",
       "      <td>2293.000000</td>\n",
       "    </tr>\n",
       "    <tr>\n",
       "      <th>mean</th>\n",
       "      <td>1246.075883</td>\n",
       "      <td>405.211627</td>\n",
       "      <td>33.166594</td>\n",
       "      <td>16.371482</td>\n",
       "      <td>348.299171</td>\n",
       "      <td>19.709987</td>\n",
       "      <td>1284.997819</td>\n",
       "      <td>35.699956</td>\n",
       "      <td>9.058003</td>\n",
       "      <td>0.023720</td>\n",
       "      <td>0.023720</td>\n",
       "      <td>0.019248</td>\n",
       "      <td>4.810728</td>\n",
       "      <td>0.144322</td>\n",
       "      <td>33.493031</td>\n",
       "      <td>1.004791</td>\n",
       "      <td>16.352343</td>\n",
       "      <td>147.714850</td>\n",
       "      <td>184.563920</td>\n",
       "    </tr>\n",
       "    <tr>\n",
       "      <th>std</th>\n",
       "      <td>143.051927</td>\n",
       "      <td>223.383523</td>\n",
       "      <td>34.070085</td>\n",
       "      <td>7.780505</td>\n",
       "      <td>441.006389</td>\n",
       "      <td>6.963259</td>\n",
       "      <td>1160.543128</td>\n",
       "      <td>23.210863</td>\n",
       "      <td>1.392652</td>\n",
       "      <td>0.009284</td>\n",
       "      <td>0.009284</td>\n",
       "      <td>0.006800</td>\n",
       "      <td>16.450516</td>\n",
       "      <td>0.493515</td>\n",
       "      <td>93.930560</td>\n",
       "      <td>2.817917</td>\n",
       "      <td>7.780020</td>\n",
       "      <td>74.313918</td>\n",
       "      <td>72.072012</td>\n",
       "    </tr>\n",
       "    <tr>\n",
       "      <th>min</th>\n",
       "      <td>1000.000000</td>\n",
       "      <td>0.000000</td>\n",
       "      <td>0.000000</td>\n",
       "      <td>0.000000</td>\n",
       "      <td>50.000000</td>\n",
       "      <td>15.000000</td>\n",
       "      <td>500.000000</td>\n",
       "      <td>20.000000</td>\n",
       "      <td>7.000000</td>\n",
       "      <td>0.010000</td>\n",
       "      <td>0.010000</td>\n",
       "      <td>0.014648</td>\n",
       "      <td>0.000000</td>\n",
       "      <td>0.000000</td>\n",
       "      <td>0.000000</td>\n",
       "      <td>0.000000</td>\n",
       "      <td>0.000000</td>\n",
       "      <td>0.000000</td>\n",
       "      <td>20.000000</td>\n",
       "    </tr>\n",
       "    <tr>\n",
       "      <th>25%</th>\n",
       "      <td>1122.000000</td>\n",
       "      <td>249.130000</td>\n",
       "      <td>3.000000</td>\n",
       "      <td>11.948984</td>\n",
       "      <td>50.000000</td>\n",
       "      <td>15.000000</td>\n",
       "      <td>500.000000</td>\n",
       "      <td>20.000000</td>\n",
       "      <td>7.000000</td>\n",
       "      <td>0.010000</td>\n",
       "      <td>0.010000</td>\n",
       "      <td>0.014648</td>\n",
       "      <td>0.000000</td>\n",
       "      <td>0.000000</td>\n",
       "      <td>0.000000</td>\n",
       "      <td>0.000000</td>\n",
       "      <td>11.921133</td>\n",
       "      <td>100.347852</td>\n",
       "      <td>144.557520</td>\n",
       "    </tr>\n",
       "    <tr>\n",
       "      <th>50%</th>\n",
       "      <td>1245.000000</td>\n",
       "      <td>400.160000</td>\n",
       "      <td>26.000000</td>\n",
       "      <td>16.436172</td>\n",
       "      <td>50.000000</td>\n",
       "      <td>15.000000</td>\n",
       "      <td>500.000000</td>\n",
       "      <td>20.000000</td>\n",
       "      <td>10.000000</td>\n",
       "      <td>0.030000</td>\n",
       "      <td>0.030000</td>\n",
       "      <td>0.014648</td>\n",
       "      <td>0.000000</td>\n",
       "      <td>0.000000</td>\n",
       "      <td>0.000000</td>\n",
       "      <td>0.000000</td>\n",
       "      <td>16.421523</td>\n",
       "      <td>143.998955</td>\n",
       "      <td>185.241094</td>\n",
       "    </tr>\n",
       "    <tr>\n",
       "      <th>75%</th>\n",
       "      <td>1368.000000</td>\n",
       "      <td>540.450000</td>\n",
       "      <td>51.000000</td>\n",
       "      <td>20.507656</td>\n",
       "      <td>1000.000000</td>\n",
       "      <td>30.000000</td>\n",
       "      <td>3000.000000</td>\n",
       "      <td>70.000000</td>\n",
       "      <td>10.000000</td>\n",
       "      <td>0.030000</td>\n",
       "      <td>0.030000</td>\n",
       "      <td>0.029297</td>\n",
       "      <td>0.000000</td>\n",
       "      <td>0.000000</td>\n",
       "      <td>0.000000</td>\n",
       "      <td>0.000000</td>\n",
       "      <td>20.492783</td>\n",
       "      <td>190.892383</td>\n",
       "      <td>222.728994</td>\n",
       "    </tr>\n",
       "    <tr>\n",
       "      <th>max</th>\n",
       "      <td>1499.000000</td>\n",
       "      <td>1431.220000</td>\n",
       "      <td>266.000000</td>\n",
       "      <td>69.269131</td>\n",
       "      <td>1000.000000</td>\n",
       "      <td>30.000000</td>\n",
       "      <td>3000.000000</td>\n",
       "      <td>70.000000</td>\n",
       "      <td>10.000000</td>\n",
       "      <td>0.030000</td>\n",
       "      <td>0.030000</td>\n",
       "      <td>0.029297</td>\n",
       "      <td>216.000000</td>\n",
       "      <td>6.480000</td>\n",
       "      <td>931.220000</td>\n",
       "      <td>27.936600</td>\n",
       "      <td>69.254482</td>\n",
       "      <td>692.544824</td>\n",
       "      <td>731.182024</td>\n",
       "    </tr>\n",
       "  </tbody>\n",
       "</table>\n",
       "</div>"
      ],
      "text/plain": [
       "           user_id     duration  messages_sent      gb_used  \\\n",
       "count  2293.000000  2293.000000    2293.000000  2293.000000   \n",
       "mean   1246.075883   405.211627      33.166594    16.371482   \n",
       "std     143.051927   223.383523      34.070085     7.780505   \n",
       "min    1000.000000     0.000000       0.000000     0.000000   \n",
       "25%    1122.000000   249.130000       3.000000    11.948984   \n",
       "50%    1245.000000   400.160000      26.000000    16.436172   \n",
       "75%    1368.000000   540.450000      51.000000    20.507656   \n",
       "max    1499.000000  1431.220000     266.000000    69.269131   \n",
       "\n",
       "       messages_included  mb_per_month_included  minutes_included  \\\n",
       "count        2293.000000            2293.000000       2293.000000   \n",
       "mean          348.299171              19.709987       1284.997819   \n",
       "std           441.006389               6.963259       1160.543128   \n",
       "min            50.000000              15.000000        500.000000   \n",
       "25%            50.000000              15.000000        500.000000   \n",
       "50%            50.000000              15.000000        500.000000   \n",
       "75%          1000.000000              30.000000       3000.000000   \n",
       "max          1000.000000              30.000000       3000.000000   \n",
       "\n",
       "       usd_monthly_fee   usd_per_gb  usd_per_message  usd_per_minute  \\\n",
       "count      2293.000000  2293.000000      2293.000000     2293.000000   \n",
       "mean         35.699956     9.058003         0.023720        0.023720   \n",
       "std          23.210863     1.392652         0.009284        0.009284   \n",
       "min          20.000000     7.000000         0.010000        0.010000   \n",
       "25%          20.000000     7.000000         0.010000        0.010000   \n",
       "50%          20.000000    10.000000         0.030000        0.030000   \n",
       "75%          70.000000    10.000000         0.030000        0.030000   \n",
       "max          70.000000    10.000000         0.030000        0.030000   \n",
       "\n",
       "       gb_per_month_included  messages_exceeded  messages_exceeded_price  \\\n",
       "count            2293.000000        2293.000000              2293.000000   \n",
       "mean                0.019248           4.810728                 0.144322   \n",
       "std                 0.006800          16.450516                 0.493515   \n",
       "min                 0.014648           0.000000                 0.000000   \n",
       "25%                 0.014648           0.000000                 0.000000   \n",
       "50%                 0.014648           0.000000                 0.000000   \n",
       "75%                 0.029297           0.000000                 0.000000   \n",
       "max                 0.029297         216.000000                 6.480000   \n",
       "\n",
       "       minutes_exceeded  minutes_exceeded_price  internet_exceeded  \\\n",
       "count       2293.000000             2293.000000        2293.000000   \n",
       "mean          33.493031                1.004791          16.352343   \n",
       "std           93.930560                2.817917           7.780020   \n",
       "min            0.000000                0.000000           0.000000   \n",
       "25%            0.000000                0.000000          11.921133   \n",
       "50%            0.000000                0.000000          16.421523   \n",
       "75%            0.000000                0.000000          20.492783   \n",
       "max          931.220000               27.936600          69.254482   \n",
       "\n",
       "       internet_exceeded_price      receita  \n",
       "count              2293.000000  2293.000000  \n",
       "mean                147.714850   184.563920  \n",
       "std                  74.313918    72.072012  \n",
       "min                   0.000000    20.000000  \n",
       "25%                 100.347852   144.557520  \n",
       "50%                 143.998955   185.241094  \n",
       "75%                 190.892383   222.728994  \n",
       "max                 692.544824   731.182024  "
      ]
     },
     "execution_count": 112,
     "metadata": {},
     "output_type": "execute_result"
    }
   ],
   "source": [
    "dados_uso.describe()"
   ]
  },
  {
   "cell_type": "markdown",
   "metadata": {
    "id": "Cz6rwE56uj80"
   },
   "source": [
    "[Teste a hipótese de que a receita mean dos users da área de NY-NJ difere dos users das demais regiões.]"
   ]
  },
  {
   "cell_type": "code",
   "execution_count": 49,
   "metadata": {},
   "outputs": [
    {
     "name": "stdout",
     "output_type": "stream",
     "text": [
      "NY-NJ: 377 usuários\n",
      "Outras cidades: 1916 usuários\n"
     ]
    }
   ],
   "source": [
    "cidades_ny_nj = ['New York-Newark-Jersey City, NY-NJ-PA MSA']\n",
    "\n",
    "ny_nj = dados_uso[dados_uso['city'].isin(cidades_ny_nj)]['receita']\n",
    "outras_cidades = dados_uso[~dados_uso['city'].isin(cidades_ny_nj)]['receita']\n",
    "\n",
    "# Verificar se os grupos têm Data\n",
    "print(f'NY-NJ: {len(ny_nj)} usuários')\n",
    "print(f'Outras cidades: {len(outras_cidades)} usuários')"
   ]
  },
  {
   "cell_type": "code",
   "execution_count": 50,
   "metadata": {},
   "outputs": [
    {
     "data": {
      "text/plain": [
       "56       31.333887\n",
       "57      112.889870\n",
       "75       67.783984\n",
       "76      248.725391\n",
       "77      116.856934\n",
       "           ...    \n",
       "2260    269.294219\n",
       "2261    314.670098\n",
       "2262    347.586719\n",
       "2263    259.865352\n",
       "2290     70.000000\n",
       "Name: receita, Length: 377, dtype: float64"
      ]
     },
     "execution_count": 114,
     "metadata": {},
     "output_type": "execute_result"
    }
   ],
   "source": [
    "ny_nj"
   ]
  },
  {
   "cell_type": "code",
   "execution_count": 51,
   "metadata": {},
   "outputs": [
    {
     "data": {
      "text/plain": [
       "0        82.793252\n",
       "1        87.423340\n",
       "2       149.881055\n",
       "3       238.014707\n",
       "4       200.559570\n",
       "           ...    \n",
       "2287    187.781680\n",
       "2288    147.526387\n",
       "2289     34.694238\n",
       "2291     71.388857\n",
       "2292     80.040830\n",
       "Name: receita, Length: 1916, dtype: float64"
      ]
     },
     "execution_count": 115,
     "metadata": {},
     "output_type": "execute_result"
    }
   ],
   "source": [
    "outras_cidades"
   ]
  },
  {
   "cell_type": "code",
   "execution_count": 52,
   "metadata": {
    "scrolled": true
   },
   "outputs": [
    {
     "name": "stdout",
     "output_type": "stream",
     "text": [
      "NY-NJ: 377 usuários\n",
      "Outras cidades: 1916 usuários\n"
     ]
    }
   ],
   "source": [
    "cidades_ny_nj = ['New York-Newark-Jersey City, NY-NJ-PA MSA']\n",
    "\n",
    "# Refazendo o filtro\n",
    "ny_nj = dados_uso[dados_uso['city'].isin(cidades_ny_nj)]['receita']\n",
    "outras_cidades = dados_uso[~dados_uso['city'].isin(cidades_ny_nj)]['receita']\n",
    "\n",
    "# Verificar se os grupos têm Data\n",
    "print(f'NY-NJ: {len(ny_nj)} usuários')\n",
    "print(f'Outras cidades: {len(outras_cidades)} usuários')"
   ]
  },
  {
   "cell_type": "code",
   "execution_count": 53,
   "metadata": {},
   "outputs": [
    {
     "name": "stdout",
     "output_type": "stream",
     "text": [
      "Estatística t: 0.05\n",
      "Valor p: 0.9628\n",
      "❌ Não há diferença significativa na receita média entre usuários de NY-NJ e os de outras regiões.\n"
     ]
    }
   ],
   "source": [
    "\n",
    "# Remover values ausentes (por segurança)\n",
    "ny_nj = ny_nj.dropna()\n",
    "outras_cidades = outras_cidades.dropna()\n",
    "\n",
    "# Teste t de Welch (assumindo variâncias diferentes)\n",
    "t_stat, p_value = stats.ttest_ind(ny_nj, outras_cidades, equal_var=False)\n",
    "\n",
    "print(f'Estatística t: {t_stat:.2f}')\n",
    "print(f'Valor p: {p_value:.4f}')\n",
    "\n",
    "# Interpretação\n",
    "if p_value < 0.05:\n",
    "    print(\"✅ Há diferença significativa na receita média entre usuários de NY-NJ e os de outras regiões.\")\n",
    "else:\n",
    "    print(\"❌ Não há diferença significativa na receita média entre usuários de NY-NJ e os de outras regiões.\")"
   ]
  },
  {
   "cell_type": "markdown",
   "metadata": {
    "id": "kMHim5__uj80"
   },
   "source": [
    "[Formule as hipóteses nula e alternativa, escolha o teste estatístico, escolha o valor alfa.]"
   ]
  },
  {
   "cell_type": "code",
   "execution_count": 54,
   "metadata": {
    "id": "98t8iiJyuj80"
   },
   "outputs": [
    {
     "name": "stdout",
     "output_type": "stream",
     "text": [
      "Receitas NY-NJ: (377,)\n",
      "Receitas outras regiões: (1916,)\n",
      "Estatística t: 0.046689843815568004\n",
      "Valor p: 0.9627770880241824\n",
      "Falhamos em rejeitar a hipótese nula: Não há diferença significativa entre as receitas médias.\n"
     ]
    }
   ],
   "source": [
    "\n",
    "# Filtrando os Data com o nome exato da cidade\n",
    "ny_nj = dados_uso[dados_uso['city'] == 'New York-Newark-Jersey City, NY-NJ-PA MSA']['receita'].dropna()\n",
    "outras = dados_uso[dados_uso['city'] != 'New York-Newark-Jersey City, NY-NJ-PA MSA']['receita'].dropna()\n",
    "\n",
    "# Verificando se temos Data suficientes para o teste\n",
    "print(f\"Receitas NY-NJ: {ny_nj.shape}\")\n",
    "print(f\"Receitas outras regiões: {outras.shape}\")\n",
    "\n",
    "# Teste t de Welch (para amostras com variâncias diferentes)\n",
    "if ny_nj.shape[0] > 0 and outras.shape[0] > 0:  # Verificando se existem dados suficientes para realizar o teste\n",
    "    t_stat, p_val = ttest_ind(ny_nj, outras, equal_var=False)\n",
    "    print(\"Estatística t:\", t_stat)\n",
    "    print(\"Valor p:\", p_val)\n",
    "\n",
    "    # Definindo o nível de significância\n",
    "    alpha = 0.05\n",
    "\n",
    "    if p_val < alpha:\n",
    "        print(\"Rejeitamos a hipótese nula: A receita média das duas regiões é significativamente diferente.\")\n",
    "    else:\n",
    "        print(\"Falhamos em rejeitar a hipótese nula: Não há diferença significativa entre as receitas médias.\")\n",
    "else:\n",
    "    print(\"Não há dados suficientes para realizar o teste.\")"
   ]
  },
  {
   "cell_type": "markdown",
   "metadata": {
    "id": "M8WycwWFuj81"
   },
   "source": [
    "## Conclusão geral\n",
    "\n",
    "[Liste suas conclusões importantes nesta seção final, certifique-se de que elas cobrem todas as decisões (suposições) importantes que você tomou e que levaram à maneira como você processou e analisou os Data.]\n",
    "\n",
    "Comportamento de Uso:\n",
    "Plano Surf: Consumo mais estável e previsível, resultando em receitas mais constantes.\n",
    "Plano Ultimate: Maior liberdade no consumo de minutes e Data, gerando receitas mais voláteis.\n",
    "\n",
    "Comportamento de Consumo de Data:\n",
    "Plano Ultimate tem um uso de Data mais elevado, causando picos de receita. A variabilidade da receita é maior neste plano.\n",
    "\n",
    "Análise Estatística:\n",
    "Receita mean dos plans Surf e Ultimate é significativamente diferente, com o plano Ultimate gerando receitas mais altas e variáveis.\n",
    "\n",
    "Teste de Hipótese de Regiões:\n",
    "O teste de diferença de receita mean entre NY-NJ e outras regiões não teve resultados conclusivos devido à falta de Data.\n",
    "\n",
    "Decisões e Suposições:\n",
    "Utilizamos o teste t para amostras independentes com α = 0.05 para as comparações, e as amostras foram corretamente segmentadas."
   ]
  }
 ],
 "metadata": {
  "ExecuteTimeLog": [
   {
    "duration": 828,
    "start_time": "2021-11-16T09:21:11.304Z"
   },
   {
    "duration": 893,
    "start_time": "2021-11-16T09:21:17.728Z"
   },
   {
    "duration": 1150,
    "start_time": "2021-11-16T09:21:29.568Z"
   },
   {
    "duration": 3,
    "start_time": "2021-11-16T09:24:14.495Z"
   },
   {
    "duration": 120,
    "start_time": "2021-11-16T09:24:46.630Z"
   },
   {
    "duration": 3,
    "start_time": "2021-11-16T09:28:27.882Z"
   },
   {
    "duration": 4,
    "start_time": "2021-11-16T09:29:54.281Z"
   },
   {
    "duration": 3,
    "start_time": "2021-11-16T09:30:45.936Z"
   },
   {
    "duration": 4,
    "start_time": "2021-11-16T09:31:06.300Z"
   },
   {
    "duration": 113,
    "start_time": "2021-11-16T09:31:37.208Z"
   },
   {
    "duration": 143,
    "start_time": "2021-11-16T09:31:48.656Z"
   },
   {
    "duration": 98,
    "start_time": "2021-11-16T09:31:55.678Z"
   },
   {
    "duration": 3,
    "start_time": "2021-11-16T09:32:08.535Z"
   },
   {
    "duration": 111,
    "start_time": "2021-11-16T09:32:10.120Z"
   },
   {
    "duration": 3,
    "start_time": "2021-11-16T09:32:15.732Z"
   },
   {
    "duration": 4,
    "start_time": "2021-11-16T09:32:29.423Z"
   },
   {
    "duration": 3,
    "start_time": "2021-11-16T10:03:03.074Z"
   },
   {
    "duration": 3,
    "start_time": "2021-11-16T10:10:01.288Z"
   },
   {
    "duration": 3,
    "start_time": "2021-11-16T10:10:46.923Z"
   },
   {
    "duration": 121,
    "start_time": "2021-11-16T10:37:46.494Z"
   },
   {
    "duration": 125,
    "start_time": "2021-11-16T10:38:20.632Z"
   },
   {
    "duration": 112,
    "start_time": "2021-11-16T10:46:53.001Z"
   },
   {
    "duration": 110,
    "start_time": "2021-11-16T10:48:25.775Z"
   },
   {
    "duration": 3,
    "start_time": "2021-11-16T10:50:18.720Z"
   },
   {
    "duration": 4,
    "start_time": "2021-11-16T10:50:37.649Z"
   },
   {
    "duration": 2,
    "start_time": "2021-11-16T10:50:51.884Z"
   },
   {
    "duration": 3,
    "start_time": "2021-11-16T10:51:56.237Z"
   },
   {
    "duration": 101,
    "start_time": "2021-11-16T10:53:13.791Z"
   },
   {
    "duration": 3,
    "start_time": "2021-11-16T10:55:59.186Z"
   },
   {
    "duration": 3,
    "start_time": "2021-11-16T10:56:10.751Z"
   },
   {
    "duration": 3,
    "start_time": "2021-11-16T10:56:49.038Z"
   },
   {
    "duration": 3,
    "start_time": "2021-11-16T10:56:49.174Z"
   },
   {
    "duration": 4,
    "start_time": "2021-11-16T10:56:49.414Z"
   },
   {
    "duration": 3,
    "start_time": "2021-11-16T10:56:49.680Z"
   },
   {
    "duration": 3,
    "start_time": "2021-11-16T10:56:50.370Z"
   },
   {
    "duration": 114,
    "start_time": "2021-11-16T10:59:34.518Z"
   },
   {
    "duration": 3,
    "start_time": "2021-11-16T11:01:41.201Z"
   },
   {
    "duration": 116,
    "start_time": "2021-11-16T11:01:48.754Z"
   },
   {
    "duration": 3,
    "start_time": "2021-11-16T11:02:16.685Z"
   },
   {
    "duration": 3,
    "start_time": "2021-11-16T11:02:19.479Z"
   },
   {
    "duration": 3,
    "start_time": "2021-11-16T11:02:47.067Z"
   },
   {
    "duration": 3,
    "start_time": "2021-11-16T11:02:49.353Z"
   },
   {
    "duration": 3,
    "start_time": "2021-11-16T11:03:07.835Z"
   },
   {
    "duration": 3,
    "start_time": "2021-11-16T11:03:07.953Z"
   },
   {
    "duration": 112,
    "start_time": "2021-11-16T11:07:52.072Z"
   },
   {
    "duration": 187,
    "start_time": "2021-11-16T11:09:23.468Z"
   },
   {
    "duration": 4,
    "start_time": "2021-11-16T11:10:01.455Z"
   },
   {
    "duration": 3,
    "start_time": "2021-11-16T11:10:05.069Z"
   },
   {
    "duration": 4,
    "start_time": "2021-11-16T11:10:13.376Z"
   },
   {
    "duration": 3,
    "start_time": "2021-11-16T11:10:14.434Z"
   },
   {
    "duration": 3,
    "start_time": "2021-11-16T11:10:22.853Z"
   },
   {
    "duration": 4,
    "start_time": "2021-11-16T11:27:29.279Z"
   },
   {
    "duration": 4,
    "start_time": "2021-11-16T11:29:08.919Z"
   },
   {
    "duration": 118,
    "start_time": "2021-11-16T11:29:46.703Z"
   },
   {
    "duration": 437,
    "start_time": "2021-11-16T11:36:02.181Z"
   },
   {
    "duration": 157,
    "start_time": "2021-11-16T11:36:14.388Z"
   },
   {
    "duration": 207,
    "start_time": "2021-11-16T11:47:15.898Z"
   },
   {
    "duration": 3,
    "start_time": "2021-11-16T11:53:52.092Z"
   },
   {
    "duration": 3,
    "start_time": "2021-11-16T11:53:52.236Z"
   },
   {
    "duration": 3,
    "start_time": "2021-11-16T11:59:12.005Z"
   },
   {
    "duration": 112,
    "start_time": "2021-11-16T12:00:33.446Z"
   },
   {
    "duration": 3,
    "start_time": "2021-11-16T12:02:14.453Z"
   },
   {
    "duration": 3,
    "start_time": "2021-11-16T12:02:39.512Z"
   },
   {
    "duration": 106,
    "start_time": "2021-11-16T12:03:03.460Z"
   },
   {
    "duration": 3,
    "start_time": "2021-11-17T20:37:21.139Z"
   },
   {
    "duration": 3,
    "start_time": "2021-11-17T20:37:22.229Z"
   },
   {
    "duration": 3,
    "start_time": "2021-11-17T20:38:38.806Z"
   },
   {
    "duration": 3,
    "start_time": "2021-11-17T20:38:41.958Z"
   },
   {
    "duration": 3,
    "start_time": "2021-11-17T20:43:46.551Z"
   },
   {
    "duration": 4,
    "start_time": "2021-11-17T20:58:21.835Z"
   },
   {
    "duration": 3,
    "start_time": "2021-11-17T20:59:21.872Z"
   },
   {
    "duration": 4,
    "start_time": "2021-11-17T20:59:45.352Z"
   },
   {
    "duration": 4,
    "start_time": "2021-11-17T20:59:49.646Z"
   },
   {
    "duration": 159,
    "start_time": "2021-11-17T21:02:26.949Z"
   },
   {
    "duration": 3,
    "start_time": "2021-11-17T21:03:53.461Z"
   },
   {
    "duration": 3,
    "start_time": "2021-11-17T21:03:53.694Z"
   },
   {
    "duration": 3,
    "start_time": "2021-11-17T21:05:28.145Z"
   },
   {
    "duration": 116,
    "start_time": "2021-11-17T21:05:57.787Z"
   },
   {
    "duration": 3,
    "start_time": "2021-11-17T21:06:37.993Z"
   },
   {
    "duration": 3,
    "start_time": "2021-11-17T21:06:38.261Z"
   },
   {
    "duration": 3,
    "start_time": "2021-11-17T21:11:54.358Z"
   },
   {
    "duration": 3,
    "start_time": "2021-11-17T21:12:43.846Z"
   },
   {
    "duration": 4,
    "start_time": "2021-11-17T21:13:08.773Z"
   },
   {
    "duration": 3,
    "start_time": "2021-11-17T21:14:44.441Z"
   },
   {
    "duration": 3,
    "start_time": "2021-11-17T21:15:42.059Z"
   },
   {
    "duration": 4,
    "start_time": "2021-11-17T21:15:51.995Z"
   },
   {
    "duration": 3,
    "start_time": "2021-11-17T21:15:53.923Z"
   },
   {
    "duration": 3,
    "start_time": "2021-11-17T21:15:55.282Z"
   },
   {
    "duration": 3,
    "start_time": "2021-11-17T21:16:28.492Z"
   },
   {
    "duration": 3,
    "start_time": "2021-11-17T21:16:32.603Z"
   },
   {
    "duration": 3,
    "start_time": "2021-11-17T21:17:06.941Z"
   },
   {
    "duration": 98,
    "start_time": "2021-11-17T21:18:05.733Z"
   },
   {
    "duration": 4,
    "start_time": "2021-11-17T21:21:35.255Z"
   },
   {
    "duration": 3,
    "start_time": "2021-11-17T21:21:37.804Z"
   },
   {
    "duration": 4,
    "start_time": "2021-11-17T21:23:06.071Z"
   },
   {
    "duration": 3,
    "start_time": "2021-11-17T21:23:24.799Z"
   },
   {
    "duration": 3,
    "start_time": "2021-11-17T21:23:32.591Z"
   },
   {
    "duration": 98,
    "start_time": "2021-11-17T21:28:31.559Z"
   },
   {
    "duration": 3,
    "start_time": "2021-11-17T21:28:45.448Z"
   },
   {
    "duration": 3,
    "start_time": "2021-11-17T21:29:17.303Z"
   },
   {
    "duration": 3,
    "start_time": "2021-11-17T21:29:29.617Z"
   },
   {
    "duration": 3,
    "start_time": "2021-11-17T21:29:32.681Z"
   },
   {
    "duration": 3,
    "start_time": "2021-11-17T21:36:11.474Z"
   },
   {
    "duration": 3,
    "start_time": "2021-11-17T21:36:14.791Z"
   },
   {
    "duration": 3,
    "start_time": "2021-11-17T21:36:53.943Z"
   },
   {
    "duration": 3,
    "start_time": "2021-11-17T21:36:56.165Z"
   },
   {
    "duration": 4,
    "start_time": "2021-11-17T21:37:16.590Z"
   },
   {
    "duration": 3,
    "start_time": "2021-11-17T21:37:22.702Z"
   },
   {
    "duration": 4,
    "start_time": "2021-11-17T21:38:03.479Z"
   },
   {
    "duration": 3,
    "start_time": "2021-11-17T21:38:08.601Z"
   },
   {
    "duration": 3,
    "start_time": "2021-11-17T21:38:12.928Z"
   },
   {
    "duration": 3,
    "start_time": "2021-11-17T21:38:48.896Z"
   },
   {
    "duration": 2,
    "start_time": "2021-11-17T21:38:49.171Z"
   },
   {
    "duration": 4,
    "start_time": "2021-11-17T21:39:57.889Z"
   },
   {
    "duration": 3,
    "start_time": "2021-11-17T21:39:58.057Z"
   },
   {
    "duration": 3,
    "start_time": "2021-11-17T21:41:20.108Z"
   },
   {
    "duration": 3,
    "start_time": "2021-11-17T21:41:20.629Z"
   },
   {
    "duration": 3,
    "start_time": "2021-11-17T21:42:49.136Z"
   },
   {
    "duration": 3,
    "start_time": "2021-11-17T21:43:15.137Z"
   },
   {
    "duration": 4,
    "start_time": "2021-11-17T21:43:16.766Z"
   },
   {
    "duration": 4,
    "start_time": "2021-11-17T21:43:31.711Z"
   },
   {
    "duration": 3,
    "start_time": "2021-11-17T21:43:36.312Z"
   },
   {
    "duration": 4,
    "start_time": "2021-11-17T21:45:08.825Z"
   },
   {
    "duration": 4,
    "start_time": "2021-11-17T21:45:10.119Z"
   },
   {
    "duration": 4,
    "start_time": "2021-11-17T21:45:13.748Z"
   },
   {
    "duration": 3,
    "start_time": "2021-11-17T21:45:22.219Z"
   },
   {
    "duration": 3,
    "start_time": "2021-11-17T21:45:33.412Z"
   },
   {
    "duration": 2,
    "start_time": "2021-11-17T21:46:01.885Z"
   },
   {
    "duration": 3,
    "start_time": "2021-11-17T21:46:03.628Z"
   },
   {
    "duration": 107,
    "start_time": "2021-11-17T21:47:32.512Z"
   },
   {
    "duration": 103,
    "start_time": "2021-11-17T21:50:36.243Z"
   },
   {
    "duration": 3,
    "start_time": "2021-11-18T06:28:31.440Z"
   },
   {
    "duration": 3,
    "start_time": "2021-11-18T06:29:00.168Z"
   },
   {
    "duration": 3,
    "start_time": "2021-11-18T06:31:27.008Z"
   },
   {
    "duration": 2,
    "start_time": "2021-11-18T06:35:34.288Z"
   },
   {
    "duration": 2,
    "start_time": "2021-11-18T06:38:04.527Z"
   },
   {
    "duration": 2539,
    "start_time": "2025-04-13T22:49:41.917Z"
   },
   {
    "duration": 236,
    "start_time": "2025-04-13T22:50:08.142Z"
   },
   {
    "duration": 27,
    "start_time": "2025-04-13T22:51:10.216Z"
   },
   {
    "duration": 23,
    "start_time": "2025-04-13T22:51:16.920Z"
   },
   {
    "duration": 479,
    "start_time": "2025-04-13T22:52:16.566Z"
   },
   {
    "duration": 6,
    "start_time": "2025-04-13T22:53:53.184Z"
   },
   {
    "duration": 6,
    "start_time": "2025-04-13T23:01:16.999Z"
   },
   {
    "duration": 15,
    "start_time": "2025-04-13T23:01:27.445Z"
   },
   {
    "duration": 14,
    "start_time": "2025-04-13T23:06:16.669Z"
   },
   {
    "duration": 157,
    "start_time": "2025-04-14T08:49:22.404Z"
   },
   {
    "duration": 2536,
    "start_time": "2025-04-14T08:49:35.760Z"
   },
   {
    "duration": 229,
    "start_time": "2025-04-14T08:49:38.298Z"
   },
   {
    "duration": 24,
    "start_time": "2025-04-14T08:49:38.529Z"
   },
   {
    "duration": 5,
    "start_time": "2025-04-14T08:49:38.556Z"
   },
   {
    "duration": 6,
    "start_time": "2025-04-14T08:49:38.563Z"
   },
   {
    "duration": 6,
    "start_time": "2025-04-14T08:49:58.010Z"
   },
   {
    "duration": 5,
    "start_time": "2025-04-14T08:50:34.579Z"
   },
   {
    "duration": 12,
    "start_time": "2025-04-14T08:52:27.529Z"
   },
   {
    "duration": 8,
    "start_time": "2025-04-14T08:52:50.883Z"
   },
   {
    "duration": 11,
    "start_time": "2025-04-14T08:56:08.516Z"
   },
   {
    "duration": 7,
    "start_time": "2025-04-14T09:03:53.404Z"
   },
   {
    "duration": 20,
    "start_time": "2025-04-14T09:04:14.394Z"
   },
   {
    "duration": 13,
    "start_time": "2025-04-14T09:05:54.099Z"
   },
   {
    "duration": 6,
    "start_time": "2025-04-14T09:07:07.993Z"
   },
   {
    "duration": 5,
    "start_time": "2025-04-14T09:08:47.768Z"
   },
   {
    "duration": 21,
    "start_time": "2025-04-14T09:13:12.354Z"
   },
   {
    "duration": 12,
    "start_time": "2025-04-14T09:13:24.244Z"
   },
   {
    "duration": 5,
    "start_time": "2025-04-14T09:13:44.009Z"
   },
   {
    "duration": 13,
    "start_time": "2025-04-14T09:14:57.583Z"
   },
   {
    "duration": 10,
    "start_time": "2025-04-14T09:16:04.179Z"
   },
   {
    "duration": 13,
    "start_time": "2025-04-14T09:27:37.675Z"
   },
   {
    "duration": 74,
    "start_time": "2025-04-14T09:27:39.254Z"
   },
   {
    "duration": 5,
    "start_time": "2025-04-14T09:27:45.241Z"
   },
   {
    "duration": 17,
    "start_time": "2025-04-14T09:29:13.687Z"
   },
   {
    "duration": 14,
    "start_time": "2025-04-14T09:30:47.004Z"
   },
   {
    "duration": 11,
    "start_time": "2025-04-14T09:32:20.452Z"
   },
   {
    "duration": 5,
    "start_time": "2025-04-14T09:33:08.556Z"
   },
   {
    "duration": 106,
    "start_time": "2025-04-14T09:37:54.785Z"
   },
   {
    "duration": 51,
    "start_time": "2025-04-14T09:38:23.946Z"
   },
   {
    "duration": 40,
    "start_time": "2025-04-14T09:38:41.371Z"
   },
   {
    "duration": 57,
    "start_time": "2025-04-14T09:38:58.373Z"
   },
   {
    "duration": 15,
    "start_time": "2025-04-14T09:39:29.220Z"
   },
   {
    "duration": 13,
    "start_time": "2025-04-14T09:48:45.101Z"
   },
   {
    "duration": 392,
    "start_time": "2025-04-14T09:52:40.928Z"
   },
   {
    "duration": 413,
    "start_time": "2025-04-14T09:53:48.482Z"
   },
   {
    "duration": 467,
    "start_time": "2025-04-14T09:54:13.276Z"
   },
   {
    "duration": 420,
    "start_time": "2025-04-14T09:54:39.786Z"
   },
   {
    "duration": 172,
    "start_time": "2025-04-14T09:55:17.374Z"
   },
   {
    "duration": 444,
    "start_time": "2025-04-14T09:55:59.944Z"
   },
   {
    "duration": 16,
    "start_time": "2025-04-14T09:56:34.625Z"
   },
   {
    "duration": 9,
    "start_time": "2025-04-14T09:56:53.127Z"
   },
   {
    "duration": 95,
    "start_time": "2025-04-14T09:58:58.826Z"
   },
   {
    "duration": 51,
    "start_time": "2025-04-14T09:59:55.231Z"
   },
   {
    "duration": 167,
    "start_time": "2025-04-14T11:59:02.271Z"
   },
   {
    "duration": 21,
    "start_time": "2025-04-14T12:00:24.540Z"
   },
   {
    "duration": 19,
    "start_time": "2025-04-14T12:01:31.208Z"
   },
   {
    "duration": 5,
    "start_time": "2025-04-14T12:04:17.045Z"
   },
   {
    "duration": 2703,
    "start_time": "2025-04-16T10:40:03.096Z"
   },
   {
    "duration": 237,
    "start_time": "2025-04-16T10:40:05.802Z"
   },
   {
    "duration": 29,
    "start_time": "2025-04-16T10:40:06.043Z"
   },
   {
    "duration": 5,
    "start_time": "2025-04-16T10:40:06.074Z"
   },
   {
    "duration": 8,
    "start_time": "2025-04-16T10:40:06.081Z"
   },
   {
    "duration": 7,
    "start_time": "2025-04-16T10:40:06.090Z"
   },
   {
    "duration": 36,
    "start_time": "2025-04-16T10:40:06.098Z"
   },
   {
    "duration": 8,
    "start_time": "2025-04-16T10:40:06.135Z"
   },
   {
    "duration": 13,
    "start_time": "2025-04-16T10:40:06.146Z"
   },
   {
    "duration": 8,
    "start_time": "2025-04-16T10:40:06.161Z"
   },
   {
    "duration": 52,
    "start_time": "2025-04-16T10:40:06.172Z"
   },
   {
    "duration": 5,
    "start_time": "2025-04-16T10:40:06.227Z"
   },
   {
    "duration": 22,
    "start_time": "2025-04-16T10:40:06.234Z"
   },
   {
    "duration": 7,
    "start_time": "2025-04-16T10:40:06.259Z"
   },
   {
    "duration": 15,
    "start_time": "2025-04-16T10:40:06.268Z"
   },
   {
    "duration": 5,
    "start_time": "2025-04-16T10:40:06.285Z"
   },
   {
    "duration": 16,
    "start_time": "2025-04-16T10:40:06.325Z"
   },
   {
    "duration": 11,
    "start_time": "2025-04-16T10:40:06.344Z"
   },
   {
    "duration": 16,
    "start_time": "2025-04-16T10:40:06.358Z"
   },
   {
    "duration": 5,
    "start_time": "2025-04-16T10:40:06.376Z"
   },
   {
    "duration": 58,
    "start_time": "2025-04-16T10:40:06.384Z"
   },
   {
    "duration": 13,
    "start_time": "2025-04-16T10:40:06.444Z"
   },
   {
    "duration": 6,
    "start_time": "2025-04-16T10:40:06.459Z"
   },
   {
    "duration": 92,
    "start_time": "2025-04-16T10:40:06.467Z"
   },
   {
    "duration": 492,
    "start_time": "2025-04-16T10:40:06.561Z"
   },
   {
    "duration": 211,
    "start_time": "2025-04-16T10:40:07.055Z"
   },
   {
    "duration": 425,
    "start_time": "2025-04-16T10:40:07.268Z"
   },
   {
    "duration": 687,
    "start_time": "2025-04-16T10:40:07.694Z"
   },
   {
    "duration": 0,
    "start_time": "2025-04-16T10:40:08.384Z"
   },
   {
    "duration": 4,
    "start_time": "2025-04-16T10:40:13.194Z"
   },
   {
    "duration": 4,
    "start_time": "2025-04-16T10:40:22.964Z"
   },
   {
    "duration": 25,
    "start_time": "2025-04-16T10:41:59.707Z"
   },
   {
    "duration": 882,
    "start_time": "2025-04-16T10:43:47.645Z"
   },
   {
    "duration": 15,
    "start_time": "2025-04-16T10:43:51.406Z"
   },
   {
    "duration": 8,
    "start_time": "2025-04-16T10:43:56.954Z"
   },
   {
    "duration": 23,
    "start_time": "2025-04-16T10:44:22.248Z"
   },
   {
    "duration": 16,
    "start_time": "2025-04-16T10:45:07.422Z"
   },
   {
    "duration": 157,
    "start_time": "2025-04-16T10:46:08.609Z"
   },
   {
    "duration": 6,
    "start_time": "2025-04-16T10:47:03.707Z"
   },
   {
    "duration": 5,
    "start_time": "2025-04-16T10:47:29.944Z"
   },
   {
    "duration": 45,
    "start_time": "2025-04-16T10:48:34.748Z"
   },
   {
    "duration": 45,
    "start_time": "2025-04-16T10:49:12.836Z"
   },
   {
    "duration": 2636,
    "start_time": "2025-04-16T22:27:35.819Z"
   },
   {
    "duration": 232,
    "start_time": "2025-04-16T22:27:38.458Z"
   },
   {
    "duration": 27,
    "start_time": "2025-04-16T22:27:38.691Z"
   },
   {
    "duration": 4,
    "start_time": "2025-04-16T22:27:38.721Z"
   },
   {
    "duration": 8,
    "start_time": "2025-04-16T22:27:38.727Z"
   },
   {
    "duration": 5,
    "start_time": "2025-04-16T22:27:38.736Z"
   },
   {
    "duration": 12,
    "start_time": "2025-04-16T22:27:38.743Z"
   },
   {
    "duration": 7,
    "start_time": "2025-04-16T22:27:38.756Z"
   },
   {
    "duration": 11,
    "start_time": "2025-04-16T22:27:38.765Z"
   },
   {
    "duration": 6,
    "start_time": "2025-04-16T22:27:38.779Z"
   },
   {
    "duration": 54,
    "start_time": "2025-04-16T22:27:38.787Z"
   },
   {
    "duration": 6,
    "start_time": "2025-04-16T22:27:38.843Z"
   },
   {
    "duration": 20,
    "start_time": "2025-04-16T22:27:38.851Z"
   },
   {
    "duration": 5,
    "start_time": "2025-04-16T22:27:38.873Z"
   },
   {
    "duration": 12,
    "start_time": "2025-04-16T22:27:38.880Z"
   },
   {
    "duration": 6,
    "start_time": "2025-04-16T22:27:38.923Z"
   },
   {
    "duration": 15,
    "start_time": "2025-04-16T22:27:38.930Z"
   },
   {
    "duration": 10,
    "start_time": "2025-04-16T22:27:38.947Z"
   },
   {
    "duration": 14,
    "start_time": "2025-04-16T22:27:38.959Z"
   },
   {
    "duration": 4,
    "start_time": "2025-04-16T22:27:38.975Z"
   },
   {
    "duration": 51,
    "start_time": "2025-04-16T22:27:38.981Z"
   },
   {
    "duration": 10,
    "start_time": "2025-04-16T22:27:39.034Z"
   },
   {
    "duration": 5,
    "start_time": "2025-04-16T22:27:39.045Z"
   },
   {
    "duration": 56,
    "start_time": "2025-04-16T22:27:39.051Z"
   },
   {
    "duration": 458,
    "start_time": "2025-04-16T22:27:39.108Z"
   },
   {
    "duration": 285,
    "start_time": "2025-04-16T22:27:39.568Z"
   },
   {
    "duration": 333,
    "start_time": "2025-04-16T22:27:39.855Z"
   },
   {
    "duration": 629,
    "start_time": "2025-04-16T22:27:40.192Z"
   },
   {
    "duration": 0,
    "start_time": "2025-04-16T22:27:40.824Z"
   },
   {
    "duration": 0,
    "start_time": "2025-04-16T22:27:40.826Z"
   },
   {
    "duration": 0,
    "start_time": "2025-04-16T22:27:40.827Z"
   },
   {
    "duration": 0,
    "start_time": "2025-04-16T22:27:40.828Z"
   },
   {
    "duration": 0,
    "start_time": "2025-04-16T22:27:40.830Z"
   },
   {
    "duration": 0,
    "start_time": "2025-04-16T22:27:40.831Z"
   },
   {
    "duration": 0,
    "start_time": "2025-04-16T22:27:40.832Z"
   },
   {
    "duration": 0,
    "start_time": "2025-04-16T22:27:40.833Z"
   },
   {
    "duration": 0,
    "start_time": "2025-04-16T22:27:40.834Z"
   },
   {
    "duration": 0,
    "start_time": "2025-04-16T22:27:40.837Z"
   },
   {
    "duration": 18,
    "start_time": "2025-04-16T22:27:43.817Z"
   },
   {
    "duration": 24,
    "start_time": "2025-04-16T22:28:08.314Z"
   },
   {
    "duration": 2,
    "start_time": "2025-04-16T22:28:26.470Z"
   },
   {
    "duration": 168,
    "start_time": "2025-04-16T22:28:26.474Z"
   },
   {
    "duration": 23,
    "start_time": "2025-04-16T22:28:26.644Z"
   },
   {
    "duration": 5,
    "start_time": "2025-04-16T22:28:26.670Z"
   },
   {
    "duration": 7,
    "start_time": "2025-04-16T22:28:26.677Z"
   },
   {
    "duration": 6,
    "start_time": "2025-04-16T22:28:26.685Z"
   },
   {
    "duration": 31,
    "start_time": "2025-04-16T22:28:26.693Z"
   },
   {
    "duration": 8,
    "start_time": "2025-04-16T22:28:26.726Z"
   },
   {
    "duration": 10,
    "start_time": "2025-04-16T22:28:26.736Z"
   },
   {
    "duration": 6,
    "start_time": "2025-04-16T22:28:26.748Z"
   },
   {
    "duration": 13,
    "start_time": "2025-04-16T22:28:26.756Z"
   },
   {
    "duration": 4,
    "start_time": "2025-04-16T22:28:26.771Z"
   },
   {
    "duration": 55,
    "start_time": "2025-04-16T22:28:26.777Z"
   },
   {
    "duration": 6,
    "start_time": "2025-04-16T22:28:26.834Z"
   },
   {
    "duration": 14,
    "start_time": "2025-04-16T22:28:26.842Z"
   },
   {
    "duration": 4,
    "start_time": "2025-04-16T22:28:26.859Z"
   },
   {
    "duration": 14,
    "start_time": "2025-04-16T22:28:26.865Z"
   },
   {
    "duration": 47,
    "start_time": "2025-04-16T22:28:26.880Z"
   },
   {
    "duration": 14,
    "start_time": "2025-04-16T22:28:26.929Z"
   },
   {
    "duration": 4,
    "start_time": "2025-04-16T22:28:26.945Z"
   },
   {
    "duration": 15,
    "start_time": "2025-04-16T22:28:26.951Z"
   },
   {
    "duration": 10,
    "start_time": "2025-04-16T22:28:26.968Z"
   },
   {
    "duration": 5,
    "start_time": "2025-04-16T22:28:26.979Z"
   },
   {
    "duration": 79,
    "start_time": "2025-04-16T22:28:26.987Z"
   },
   {
    "duration": 507,
    "start_time": "2025-04-16T22:28:27.068Z"
   },
   {
    "duration": 279,
    "start_time": "2025-04-16T22:28:27.577Z"
   },
   {
    "duration": 350,
    "start_time": "2025-04-16T22:28:27.858Z"
   },
   {
    "duration": 45,
    "start_time": "2025-04-16T22:28:32.707Z"
   },
   {
    "duration": 9,
    "start_time": "2025-04-16T22:28:42.866Z"
   },
   {
    "duration": 55,
    "start_time": "2025-04-16T22:28:55.380Z"
   },
   {
    "duration": 49,
    "start_time": "2025-04-16T22:29:44.033Z"
   },
   {
    "duration": 54,
    "start_time": "2025-04-16T22:29:53.849Z"
   },
   {
    "duration": 47,
    "start_time": "2025-04-16T22:30:23.504Z"
   },
   {
    "duration": 207,
    "start_time": "2025-04-16T22:43:21.994Z"
   },
   {
    "duration": 58,
    "start_time": "2025-04-16T22:44:11.077Z"
   },
   {
    "duration": 60,
    "start_time": "2025-04-16T22:46:11.519Z"
   },
   {
    "duration": 93,
    "start_time": "2025-04-16T22:46:33.104Z"
   },
   {
    "duration": 99,
    "start_time": "2025-04-16T22:47:52.672Z"
   },
   {
    "duration": 3,
    "start_time": "2025-04-16T22:48:28.624Z"
   },
   {
    "duration": 4,
    "start_time": "2025-04-16T22:48:56.229Z"
   },
   {
    "duration": 4,
    "start_time": "2025-04-16T22:49:09.027Z"
   },
   {
    "duration": 14,
    "start_time": "2025-04-16T22:49:43.294Z"
   },
   {
    "duration": 85,
    "start_time": "2025-04-16T22:50:09.197Z"
   },
   {
    "duration": 51,
    "start_time": "2025-04-16T22:51:29.907Z"
   },
   {
    "duration": 17,
    "start_time": "2025-04-16T22:51:44.652Z"
   },
   {
    "duration": 22,
    "start_time": "2025-04-16T22:51:49.143Z"
   },
   {
    "duration": 4,
    "start_time": "2025-04-16T22:52:02.475Z"
   },
   {
    "duration": 236,
    "start_time": "2025-04-16T22:52:04.831Z"
   },
   {
    "duration": 34,
    "start_time": "2025-04-16T22:52:54.625Z"
   },
   {
    "duration": 343,
    "start_time": "2025-04-16T22:53:08.933Z"
   },
   {
    "duration": 12,
    "start_time": "2025-04-16T22:53:37.192Z"
   },
   {
    "duration": 510,
    "start_time": "2025-04-16T22:54:04.507Z"
   },
   {
    "duration": 348,
    "start_time": "2025-04-16T22:55:48.706Z"
   },
   {
    "duration": 199,
    "start_time": "2025-04-16T22:56:15.880Z"
   },
   {
    "duration": 11,
    "start_time": "2025-04-16T23:00:00.221Z"
   },
   {
    "duration": 257,
    "start_time": "2025-04-16T23:00:09.226Z"
   },
   {
    "duration": 37,
    "start_time": "2025-04-16T23:01:16.298Z"
   },
   {
    "duration": 15,
    "start_time": "2025-04-16T23:01:29.595Z"
   },
   {
    "duration": 240,
    "start_time": "2025-04-16T23:01:38.141Z"
   },
   {
    "duration": 10,
    "start_time": "2025-04-16T23:04:38.193Z"
   },
   {
    "duration": 9,
    "start_time": "2025-04-16T23:05:10.354Z"
   },
   {
    "duration": 56,
    "start_time": "2025-04-16T23:05:42.825Z"
   },
   {
    "duration": 3,
    "start_time": "2025-04-16T23:06:16.131Z"
   },
   {
    "duration": 12,
    "start_time": "2025-04-16T23:07:35.466Z"
   },
   {
    "duration": 4,
    "start_time": "2025-04-16T23:07:53.362Z"
   },
   {
    "duration": 68,
    "start_time": "2025-04-16T23:09:36.301Z"
   },
   {
    "duration": 3,
    "start_time": "2025-04-16T23:10:31.086Z"
   },
   {
    "duration": 20,
    "start_time": "2025-04-16T23:11:23.763Z"
   },
   {
    "duration": 7,
    "start_time": "2025-04-16T23:12:33.753Z"
   },
   {
    "duration": 12,
    "start_time": "2025-04-16T23:12:56.424Z"
   },
   {
    "duration": 4,
    "start_time": "2025-04-16T23:13:48.314Z"
   },
   {
    "duration": 6,
    "start_time": "2025-04-16T23:14:20.648Z"
   },
   {
    "duration": 7,
    "start_time": "2025-04-16T23:16:06.289Z"
   },
   {
    "duration": 6,
    "start_time": "2025-04-16T23:16:31.027Z"
   },
   {
    "duration": 2584,
    "start_time": "2025-04-17T11:22:49.494Z"
   },
   {
    "duration": 223,
    "start_time": "2025-04-17T11:22:52.080Z"
   },
   {
    "duration": 27,
    "start_time": "2025-04-17T11:22:52.304Z"
   },
   {
    "duration": 5,
    "start_time": "2025-04-17T11:22:52.333Z"
   },
   {
    "duration": 6,
    "start_time": "2025-04-17T11:22:52.340Z"
   },
   {
    "duration": 6,
    "start_time": "2025-04-17T11:22:52.348Z"
   },
   {
    "duration": 13,
    "start_time": "2025-04-17T11:22:52.355Z"
   },
   {
    "duration": 8,
    "start_time": "2025-04-17T11:22:52.369Z"
   },
   {
    "duration": 11,
    "start_time": "2025-04-17T11:22:52.378Z"
   },
   {
    "duration": 6,
    "start_time": "2025-04-17T11:22:52.391Z"
   },
   {
    "duration": 52,
    "start_time": "2025-04-17T11:22:52.398Z"
   },
   {
    "duration": 5,
    "start_time": "2025-04-17T11:22:52.451Z"
   },
   {
    "duration": 20,
    "start_time": "2025-04-17T11:22:52.458Z"
   },
   {
    "duration": 5,
    "start_time": "2025-04-17T11:22:52.482Z"
   },
   {
    "duration": 11,
    "start_time": "2025-04-17T11:22:52.489Z"
   },
   {
    "duration": 3,
    "start_time": "2025-04-17T11:22:52.502Z"
   },
   {
    "duration": 45,
    "start_time": "2025-04-17T11:22:52.507Z"
   },
   {
    "duration": 9,
    "start_time": "2025-04-17T11:22:52.554Z"
   },
   {
    "duration": 14,
    "start_time": "2025-04-17T11:22:52.564Z"
   },
   {
    "duration": 5,
    "start_time": "2025-04-17T11:22:52.580Z"
   },
   {
    "duration": 16,
    "start_time": "2025-04-17T11:22:52.586Z"
   },
   {
    "duration": 39,
    "start_time": "2025-04-17T11:22:52.604Z"
   },
   {
    "duration": 5,
    "start_time": "2025-04-17T11:22:52.644Z"
   },
   {
    "duration": 49,
    "start_time": "2025-04-17T11:22:52.651Z"
   },
   {
    "duration": 479,
    "start_time": "2025-04-17T11:22:52.702Z"
   },
   {
    "duration": 257,
    "start_time": "2025-04-17T11:22:53.182Z"
   },
   {
    "duration": 326,
    "start_time": "2025-04-17T11:22:53.442Z"
   },
   {
    "duration": 3,
    "start_time": "2025-04-17T11:22:53.770Z"
   },
   {
    "duration": 4,
    "start_time": "2025-04-17T11:22:53.775Z"
   },
   {
    "duration": 12,
    "start_time": "2025-04-17T11:22:53.781Z"
   },
   {
    "duration": 68,
    "start_time": "2025-04-17T11:22:53.795Z"
   },
   {
    "duration": 9,
    "start_time": "2025-04-17T11:22:53.864Z"
   },
   {
    "duration": 756,
    "start_time": "2025-04-17T11:22:53.875Z"
   },
   {
    "duration": 19,
    "start_time": "2025-04-17T11:22:54.632Z"
   },
   {
    "duration": 21,
    "start_time": "2025-04-17T11:22:54.652Z"
   },
   {
    "duration": 14,
    "start_time": "2025-04-17T11:23:34.122Z"
   },
   {
    "duration": 173,
    "start_time": "2025-04-22T22:58:30.635Z"
   },
   {
    "duration": 2456,
    "start_time": "2025-04-22T23:04:55.670Z"
   },
   {
    "duration": 206,
    "start_time": "2025-04-22T23:04:58.129Z"
   },
   {
    "duration": 24,
    "start_time": "2025-04-22T23:04:58.337Z"
   },
   {
    "duration": 4,
    "start_time": "2025-04-22T23:04:58.363Z"
   },
   {
    "duration": 8,
    "start_time": "2025-04-22T23:04:58.369Z"
   },
   {
    "duration": 5,
    "start_time": "2025-04-22T23:04:58.378Z"
   },
   {
    "duration": 13,
    "start_time": "2025-04-22T23:04:58.384Z"
   },
   {
    "duration": 6,
    "start_time": "2025-04-22T23:04:58.399Z"
   },
   {
    "duration": 10,
    "start_time": "2025-04-22T23:04:58.407Z"
   },
   {
    "duration": 6,
    "start_time": "2025-04-22T23:04:58.419Z"
   },
   {
    "duration": 15,
    "start_time": "2025-04-22T23:04:58.426Z"
   },
   {
    "duration": 4,
    "start_time": "2025-04-22T23:04:58.443Z"
   },
   {
    "duration": 57,
    "start_time": "2025-04-22T23:04:58.448Z"
   },
   {
    "duration": 5,
    "start_time": "2025-04-22T23:04:58.508Z"
   },
   {
    "duration": 12,
    "start_time": "2025-04-22T23:04:58.515Z"
   },
   {
    "duration": 4,
    "start_time": "2025-04-22T23:04:58.528Z"
   },
   {
    "duration": 21,
    "start_time": "2025-04-22T23:04:58.534Z"
   },
   {
    "duration": 34,
    "start_time": "2025-04-22T23:04:58.557Z"
   },
   {
    "duration": 14,
    "start_time": "2025-04-22T23:04:58.593Z"
   },
   {
    "duration": 4,
    "start_time": "2025-04-22T23:04:58.609Z"
   },
   {
    "duration": 16,
    "start_time": "2025-04-22T23:04:58.615Z"
   },
   {
    "duration": 10,
    "start_time": "2025-04-22T23:04:58.633Z"
   },
   {
    "duration": 7,
    "start_time": "2025-04-22T23:04:58.647Z"
   },
   {
    "duration": 105,
    "start_time": "2025-04-22T23:04:58.655Z"
   },
   {
    "duration": 453,
    "start_time": "2025-04-22T23:04:58.762Z"
   },
   {
    "duration": 257,
    "start_time": "2025-04-22T23:04:59.217Z"
   },
   {
    "duration": 326,
    "start_time": "2025-04-22T23:04:59.476Z"
   },
   {
    "duration": 4,
    "start_time": "2025-04-22T23:04:59.804Z"
   },
   {
    "duration": 4,
    "start_time": "2025-04-22T23:04:59.810Z"
   },
   {
    "duration": 12,
    "start_time": "2025-04-22T23:04:59.816Z"
   },
   {
    "duration": 67,
    "start_time": "2025-04-22T23:04:59.829Z"
   },
   {
    "duration": 12,
    "start_time": "2025-04-22T23:04:59.898Z"
   },
   {
    "duration": 798,
    "start_time": "2025-04-22T23:04:59.912Z"
   },
   {
    "duration": 16,
    "start_time": "2025-04-22T23:05:00.712Z"
   },
   {
    "duration": 16,
    "start_time": "2025-04-22T23:05:06.077Z"
   },
   {
    "duration": 668,
    "start_time": "2025-04-22T23:05:07.359Z"
   },
   {
    "duration": 18,
    "start_time": "2025-04-22T23:06:00.283Z"
   },
   {
    "duration": 39,
    "start_time": "2025-04-22T23:06:03.279Z"
   },
   {
    "duration": 367,
    "start_time": "2025-04-22T23:07:06.416Z"
   },
   {
    "duration": 247,
    "start_time": "2025-04-22T23:09:08.808Z"
   },
   {
    "duration": 8,
    "start_time": "2025-04-22T23:11:08.595Z"
   },
   {
    "duration": 5,
    "start_time": "2025-04-22T23:11:26.975Z"
   },
   {
    "duration": 41,
    "start_time": "2025-04-22T23:11:44.733Z"
   },
   {
    "duration": 9,
    "start_time": "2025-04-22T23:12:40.986Z"
   },
   {
    "duration": 4,
    "start_time": "2025-04-22T23:12:55.170Z"
   },
   {
    "duration": 44,
    "start_time": "2025-04-22T23:13:17.166Z"
   },
   {
    "duration": 7,
    "start_time": "2025-04-22T23:14:19.432Z"
   },
   {
    "duration": 2540,
    "start_time": "2025-04-23T00:12:03.385Z"
   },
   {
    "duration": 378,
    "start_time": "2025-04-23T00:12:05.927Z"
   },
   {
    "duration": 25,
    "start_time": "2025-04-23T00:12:06.307Z"
   },
   {
    "duration": 4,
    "start_time": "2025-04-23T00:12:06.335Z"
   },
   {
    "duration": 8,
    "start_time": "2025-04-23T00:12:06.341Z"
   },
   {
    "duration": 5,
    "start_time": "2025-04-23T00:12:06.351Z"
   },
   {
    "duration": 11,
    "start_time": "2025-04-23T00:12:06.358Z"
   },
   {
    "duration": 7,
    "start_time": "2025-04-23T00:12:06.371Z"
   },
   {
    "duration": 10,
    "start_time": "2025-04-23T00:12:06.380Z"
   },
   {
    "duration": 6,
    "start_time": "2025-04-23T00:12:06.393Z"
   },
   {
    "duration": 57,
    "start_time": "2025-04-23T00:12:06.400Z"
   },
   {
    "duration": 4,
    "start_time": "2025-04-23T00:12:06.459Z"
   },
   {
    "duration": 20,
    "start_time": "2025-04-23T00:12:06.465Z"
   },
   {
    "duration": 6,
    "start_time": "2025-04-23T00:12:06.486Z"
   },
   {
    "duration": 11,
    "start_time": "2025-04-23T00:12:06.493Z"
   },
   {
    "duration": 4,
    "start_time": "2025-04-23T00:12:06.506Z"
   },
   {
    "duration": 16,
    "start_time": "2025-04-23T00:12:06.543Z"
   },
   {
    "duration": 11,
    "start_time": "2025-04-23T00:12:06.560Z"
   },
   {
    "duration": 13,
    "start_time": "2025-04-23T00:12:06.573Z"
   },
   {
    "duration": 5,
    "start_time": "2025-04-23T00:12:06.588Z"
   },
   {
    "duration": 49,
    "start_time": "2025-04-23T00:12:06.594Z"
   },
   {
    "duration": 10,
    "start_time": "2025-04-23T00:12:06.645Z"
   },
   {
    "duration": 4,
    "start_time": "2025-04-23T00:12:06.657Z"
   },
   {
    "duration": 71,
    "start_time": "2025-04-23T00:12:06.663Z"
   },
   {
    "duration": 446,
    "start_time": "2025-04-23T00:12:06.736Z"
   },
   {
    "duration": 253,
    "start_time": "2025-04-23T00:12:07.184Z"
   },
   {
    "duration": 319,
    "start_time": "2025-04-23T00:12:07.442Z"
   },
   {
    "duration": 5,
    "start_time": "2025-04-23T00:12:07.765Z"
   },
   {
    "duration": 4,
    "start_time": "2025-04-23T00:12:07.772Z"
   },
   {
    "duration": 13,
    "start_time": "2025-04-23T00:12:07.778Z"
   },
   {
    "duration": 72,
    "start_time": "2025-04-23T00:12:07.792Z"
   },
   {
    "duration": 9,
    "start_time": "2025-04-23T00:12:07.865Z"
   },
   {
    "duration": 763,
    "start_time": "2025-04-23T00:12:07.875Z"
   },
   {
    "duration": 16,
    "start_time": "2025-04-23T00:12:08.639Z"
   },
   {
    "duration": 41,
    "start_time": "2025-04-23T00:12:08.656Z"
   },
   {
    "duration": 783,
    "start_time": "2025-04-23T00:12:08.700Z"
   },
   {
    "duration": 0,
    "start_time": "2025-04-23T00:12:09.484Z"
   },
   {
    "duration": 0,
    "start_time": "2025-04-23T00:12:09.485Z"
   },
   {
    "duration": 0,
    "start_time": "2025-04-23T00:12:09.487Z"
   },
   {
    "duration": 0,
    "start_time": "2025-04-23T00:12:09.488Z"
   },
   {
    "duration": 0,
    "start_time": "2025-04-23T00:12:09.489Z"
   },
   {
    "duration": 0,
    "start_time": "2025-04-23T00:12:09.491Z"
   },
   {
    "duration": 0,
    "start_time": "2025-04-23T00:12:09.492Z"
   },
   {
    "duration": 0,
    "start_time": "2025-04-23T00:12:09.493Z"
   },
   {
    "duration": 0,
    "start_time": "2025-04-23T00:12:09.496Z"
   },
   {
    "duration": 0,
    "start_time": "2025-04-23T00:12:09.497Z"
   },
   {
    "duration": 0,
    "start_time": "2025-04-23T00:12:09.499Z"
   },
   {
    "duration": 1,
    "start_time": "2025-04-23T00:12:09.500Z"
   },
   {
    "duration": 0,
    "start_time": "2025-04-23T00:12:09.502Z"
   },
   {
    "duration": 0,
    "start_time": "2025-04-23T00:12:09.503Z"
   },
   {
    "duration": 0,
    "start_time": "2025-04-23T00:12:09.505Z"
   },
   {
    "duration": 0,
    "start_time": "2025-04-23T00:12:09.507Z"
   },
   {
    "duration": 0,
    "start_time": "2025-04-23T00:12:09.542Z"
   },
   {
    "duration": 0,
    "start_time": "2025-04-23T00:12:09.544Z"
   },
   {
    "duration": 98,
    "start_time": "2025-04-23T00:13:00.205Z"
   },
   {
    "duration": 191,
    "start_time": "2025-04-23T00:13:00.523Z"
   },
   {
    "duration": 24,
    "start_time": "2025-04-23T00:13:01.218Z"
   },
   {
    "duration": 170,
    "start_time": "2025-04-23T00:13:01.412Z"
   },
   {
    "duration": 25,
    "start_time": "2025-04-23T00:13:02.426Z"
   },
   {
    "duration": 268,
    "start_time": "2025-04-23T00:13:02.628Z"
   },
   {
    "duration": 8,
    "start_time": "2025-04-23T00:13:04.130Z"
   },
   {
    "duration": 322,
    "start_time": "2025-04-23T00:13:04.335Z"
   },
   {
    "duration": 75,
    "start_time": "2025-04-23T00:13:05.616Z"
   },
   {
    "duration": 9,
    "start_time": "2025-04-23T00:13:05.982Z"
   },
   {
    "duration": 9,
    "start_time": "2025-04-23T00:13:06.451Z"
   },
   {
    "duration": 5,
    "start_time": "2025-04-23T00:13:07.272Z"
   },
   {
    "duration": 40,
    "start_time": "2025-04-23T00:13:07.681Z"
   },
   {
    "duration": 244,
    "start_time": "2025-04-23T00:13:08.044Z"
   },
   {
    "duration": 19,
    "start_time": "2025-04-23T00:19:30.187Z"
   },
   {
    "duration": 3,
    "start_time": "2025-04-23T00:19:56.037Z"
   },
   {
    "duration": 172,
    "start_time": "2025-04-23T00:19:56.042Z"
   },
   {
    "duration": 23,
    "start_time": "2025-04-23T00:19:56.215Z"
   },
   {
    "duration": 5,
    "start_time": "2025-04-23T00:19:56.240Z"
   },
   {
    "duration": 5,
    "start_time": "2025-04-23T00:19:56.248Z"
   },
   {
    "duration": 5,
    "start_time": "2025-04-23T00:19:56.255Z"
   },
   {
    "duration": 11,
    "start_time": "2025-04-23T00:19:56.262Z"
   },
   {
    "duration": 7,
    "start_time": "2025-04-23T00:19:56.275Z"
   },
   {
    "duration": 11,
    "start_time": "2025-04-23T00:19:56.283Z"
   },
   {
    "duration": 7,
    "start_time": "2025-04-23T00:19:56.295Z"
   },
   {
    "duration": 53,
    "start_time": "2025-04-23T00:19:56.303Z"
   },
   {
    "duration": 4,
    "start_time": "2025-04-23T00:19:56.358Z"
   },
   {
    "duration": 19,
    "start_time": "2025-04-23T00:19:56.364Z"
   },
   {
    "duration": 6,
    "start_time": "2025-04-23T00:19:56.387Z"
   },
   {
    "duration": 12,
    "start_time": "2025-04-23T00:19:56.394Z"
   },
   {
    "duration": 37,
    "start_time": "2025-04-23T00:19:56.407Z"
   },
   {
    "duration": 13,
    "start_time": "2025-04-23T00:19:56.446Z"
   },
   {
    "duration": 8,
    "start_time": "2025-04-23T00:19:56.461Z"
   },
   {
    "duration": 14,
    "start_time": "2025-04-23T00:19:56.471Z"
   },
   {
    "duration": 4,
    "start_time": "2025-04-23T00:19:56.486Z"
   },
   {
    "duration": 50,
    "start_time": "2025-04-23T00:19:56.492Z"
   },
   {
    "duration": 11,
    "start_time": "2025-04-23T00:19:56.544Z"
   },
   {
    "duration": 4,
    "start_time": "2025-04-23T00:19:56.557Z"
   },
   {
    "duration": 59,
    "start_time": "2025-04-23T00:19:56.563Z"
   },
   {
    "duration": 556,
    "start_time": "2025-04-23T00:19:56.623Z"
   },
   {
    "duration": 304,
    "start_time": "2025-04-23T00:19:57.181Z"
   },
   {
    "duration": 365,
    "start_time": "2025-04-23T00:19:57.487Z"
   },
   {
    "duration": 4,
    "start_time": "2025-04-23T00:19:57.853Z"
   },
   {
    "duration": 4,
    "start_time": "2025-04-23T00:19:57.859Z"
   },
   {
    "duration": 12,
    "start_time": "2025-04-23T00:19:57.865Z"
   },
   {
    "duration": 66,
    "start_time": "2025-04-23T00:19:57.878Z"
   },
   {
    "duration": 10,
    "start_time": "2025-04-23T00:19:57.945Z"
   },
   {
    "duration": 800,
    "start_time": "2025-04-23T00:19:57.957Z"
   },
   {
    "duration": 16,
    "start_time": "2025-04-23T00:19:58.758Z"
   },
   {
    "duration": 39,
    "start_time": "2025-04-23T00:19:58.775Z"
   },
   {
    "duration": 86,
    "start_time": "2025-04-23T00:19:58.815Z"
   },
   {
    "duration": 0,
    "start_time": "2025-04-23T00:19:58.903Z"
   },
   {
    "duration": 0,
    "start_time": "2025-04-23T00:19:58.904Z"
   },
   {
    "duration": 0,
    "start_time": "2025-04-23T00:19:58.906Z"
   },
   {
    "duration": 0,
    "start_time": "2025-04-23T00:19:58.908Z"
   },
   {
    "duration": 0,
    "start_time": "2025-04-23T00:19:58.909Z"
   },
   {
    "duration": 0,
    "start_time": "2025-04-23T00:19:58.911Z"
   },
   {
    "duration": 0,
    "start_time": "2025-04-23T00:19:58.912Z"
   },
   {
    "duration": 74,
    "start_time": "2025-04-23T00:20:12.707Z"
   },
   {
    "duration": 2,
    "start_time": "2025-04-23T00:22:20.067Z"
   },
   {
    "duration": 163,
    "start_time": "2025-04-23T00:22:20.072Z"
   },
   {
    "duration": 28,
    "start_time": "2025-04-23T00:22:20.237Z"
   },
   {
    "duration": 5,
    "start_time": "2025-04-23T00:22:20.267Z"
   },
   {
    "duration": 6,
    "start_time": "2025-04-23T00:22:20.276Z"
   },
   {
    "duration": 6,
    "start_time": "2025-04-23T00:22:20.283Z"
   },
   {
    "duration": 12,
    "start_time": "2025-04-23T00:22:20.290Z"
   },
   {
    "duration": 7,
    "start_time": "2025-04-23T00:22:20.303Z"
   },
   {
    "duration": 40,
    "start_time": "2025-04-23T00:22:20.312Z"
   },
   {
    "duration": 7,
    "start_time": "2025-04-23T00:22:20.354Z"
   },
   {
    "duration": 15,
    "start_time": "2025-04-23T00:22:20.363Z"
   },
   {
    "duration": 4,
    "start_time": "2025-04-23T00:22:20.380Z"
   },
   {
    "duration": 19,
    "start_time": "2025-04-23T00:22:20.386Z"
   },
   {
    "duration": 35,
    "start_time": "2025-04-23T00:22:20.408Z"
   },
   {
    "duration": 13,
    "start_time": "2025-04-23T00:22:20.445Z"
   },
   {
    "duration": 3,
    "start_time": "2025-04-23T00:22:20.460Z"
   },
   {
    "duration": 13,
    "start_time": "2025-04-23T00:22:20.465Z"
   },
   {
    "duration": 9,
    "start_time": "2025-04-23T00:22:20.479Z"
   },
   {
    "duration": 15,
    "start_time": "2025-04-23T00:22:20.490Z"
   },
   {
    "duration": 38,
    "start_time": "2025-04-23T00:22:20.506Z"
   },
   {
    "duration": 18,
    "start_time": "2025-04-23T00:22:20.545Z"
   },
   {
    "duration": 11,
    "start_time": "2025-04-23T00:22:20.565Z"
   },
   {
    "duration": 4,
    "start_time": "2025-04-23T00:22:20.578Z"
   },
   {
    "duration": 60,
    "start_time": "2025-04-23T00:22:20.583Z"
   },
   {
    "duration": 451,
    "start_time": "2025-04-23T00:22:20.645Z"
   },
   {
    "duration": 293,
    "start_time": "2025-04-23T00:22:21.097Z"
   },
   {
    "duration": 363,
    "start_time": "2025-04-23T00:22:21.392Z"
   },
   {
    "duration": 4,
    "start_time": "2025-04-23T00:22:21.758Z"
   },
   {
    "duration": 5,
    "start_time": "2025-04-23T00:22:21.763Z"
   },
   {
    "duration": 12,
    "start_time": "2025-04-23T00:22:21.769Z"
   },
   {
    "duration": 72,
    "start_time": "2025-04-23T00:22:21.783Z"
   },
   {
    "duration": 9,
    "start_time": "2025-04-23T00:22:21.857Z"
   },
   {
    "duration": 907,
    "start_time": "2025-04-23T00:22:21.868Z"
   },
   {
    "duration": 16,
    "start_time": "2025-04-23T00:22:22.777Z"
   },
   {
    "duration": 12,
    "start_time": "2025-04-23T00:22:24.827Z"
   },
   {
    "duration": 25,
    "start_time": "2025-04-23T00:29:14.749Z"
   },
   {
    "duration": 24,
    "start_time": "2025-04-23T00:29:15.746Z"
   },
   {
    "duration": 43,
    "start_time": "2025-04-23T00:29:16.348Z"
   },
   {
    "duration": 3,
    "start_time": "2025-04-23T00:29:23.426Z"
   },
   {
    "duration": 173,
    "start_time": "2025-04-23T00:29:23.983Z"
   },
   {
    "duration": 23,
    "start_time": "2025-04-23T00:29:24.159Z"
   },
   {
    "duration": 5,
    "start_time": "2025-04-23T00:29:24.183Z"
   },
   {
    "duration": 6,
    "start_time": "2025-04-23T00:29:24.873Z"
   },
   {
    "duration": 5,
    "start_time": "2025-04-23T00:29:25.530Z"
   },
   {
    "duration": 12,
    "start_time": "2025-04-23T00:29:25.878Z"
   },
   {
    "duration": 8,
    "start_time": "2025-04-23T00:29:26.061Z"
   },
   {
    "duration": 10,
    "start_time": "2025-04-23T00:29:26.779Z"
   },
   {
    "duration": 7,
    "start_time": "2025-04-23T00:29:27.400Z"
   },
   {
    "duration": 16,
    "start_time": "2025-04-23T00:29:27.773Z"
   },
   {
    "duration": 5,
    "start_time": "2025-04-23T00:29:27.967Z"
   },
   {
    "duration": 18,
    "start_time": "2025-04-23T00:29:29.105Z"
   },
   {
    "duration": 6,
    "start_time": "2025-04-23T00:29:29.684Z"
   },
   {
    "duration": 13,
    "start_time": "2025-04-23T00:29:30.093Z"
   },
   {
    "duration": 5,
    "start_time": "2025-04-23T00:29:30.266Z"
   },
   {
    "duration": 13,
    "start_time": "2025-04-23T00:29:31.254Z"
   },
   {
    "duration": 11,
    "start_time": "2025-04-23T00:29:32.630Z"
   },
   {
    "duration": 14,
    "start_time": "2025-04-23T00:29:33.154Z"
   },
   {
    "duration": 5,
    "start_time": "2025-04-23T00:29:33.447Z"
   },
   {
    "duration": 16,
    "start_time": "2025-04-23T00:29:34.701Z"
   },
   {
    "duration": 11,
    "start_time": "2025-04-23T00:29:35.591Z"
   },
   {
    "duration": 5,
    "start_time": "2025-04-23T00:29:37.003Z"
   },
   {
    "duration": 50,
    "start_time": "2025-04-23T00:29:37.539Z"
   },
   {
    "duration": 439,
    "start_time": "2025-04-23T00:29:37.591Z"
   },
   {
    "duration": 298,
    "start_time": "2025-04-23T00:29:38.031Z"
   },
   {
    "duration": 363,
    "start_time": "2025-04-23T00:29:38.331Z"
   },
   {
    "duration": 4,
    "start_time": "2025-04-23T00:29:38.696Z"
   },
   {
    "duration": 4,
    "start_time": "2025-04-23T00:29:38.702Z"
   },
   {
    "duration": 12,
    "start_time": "2025-04-23T00:29:38.708Z"
   },
   {
    "duration": 49,
    "start_time": "2025-04-23T00:29:39.328Z"
   },
   {
    "duration": 11,
    "start_time": "2025-04-23T00:29:40.376Z"
   },
   {
    "duration": 790,
    "start_time": "2025-04-23T00:29:41.755Z"
   },
   {
    "duration": 17,
    "start_time": "2025-04-23T00:29:42.547Z"
   },
   {
    "duration": 13,
    "start_time": "2025-04-23T00:29:43.272Z"
   },
   {
    "duration": 39,
    "start_time": "2025-04-23T00:29:44.073Z"
   },
   {
    "duration": 94,
    "start_time": "2025-04-23T00:29:59.276Z"
   },
   {
    "duration": 24,
    "start_time": "2025-04-23T00:29:59.969Z"
   },
   {
    "duration": 23,
    "start_time": "2025-04-23T00:30:01.500Z"
   },
   {
    "duration": 43,
    "start_time": "2025-04-23T00:30:01.968Z"
   },
   {
    "duration": 25,
    "start_time": "2025-04-23T00:30:03.815Z"
   },
   {
    "duration": 231,
    "start_time": "2025-04-23T00:30:04.154Z"
   },
   {
    "duration": 8,
    "start_time": "2025-04-23T00:30:06.222Z"
   },
   {
    "duration": 333,
    "start_time": "2025-04-23T00:30:06.635Z"
   },
   {
    "duration": 78,
    "start_time": "2025-04-23T00:30:10.277Z"
   },
   {
    "duration": 19,
    "start_time": "2025-04-23T00:30:11.028Z"
   },
   {
    "duration": 47,
    "start_time": "2025-04-23T00:30:11.725Z"
   },
   {
    "duration": 2501,
    "start_time": "2025-04-28T22:47:06.437Z"
   },
   {
    "duration": 211,
    "start_time": "2025-04-28T22:47:08.941Z"
   },
   {
    "duration": 25,
    "start_time": "2025-04-28T22:47:09.154Z"
   },
   {
    "duration": 5,
    "start_time": "2025-04-28T22:47:09.181Z"
   },
   {
    "duration": 7,
    "start_time": "2025-04-28T22:47:09.187Z"
   },
   {
    "duration": 18,
    "start_time": "2025-04-28T22:47:09.195Z"
   },
   {
    "duration": 12,
    "start_time": "2025-04-28T22:47:09.215Z"
   },
   {
    "duration": 8,
    "start_time": "2025-04-28T22:47:09.228Z"
   },
   {
    "duration": 11,
    "start_time": "2025-04-28T22:47:09.238Z"
   },
   {
    "duration": 5,
    "start_time": "2025-04-28T22:47:09.253Z"
   },
   {
    "duration": 14,
    "start_time": "2025-04-28T22:47:09.260Z"
   },
   {
    "duration": 5,
    "start_time": "2025-04-28T22:47:09.311Z"
   },
   {
    "duration": 20,
    "start_time": "2025-04-28T22:47:09.317Z"
   },
   {
    "duration": 5,
    "start_time": "2025-04-28T22:47:09.339Z"
   },
   {
    "duration": 12,
    "start_time": "2025-04-28T22:47:09.346Z"
   },
   {
    "duration": 3,
    "start_time": "2025-04-28T22:47:09.359Z"
   },
   {
    "duration": 12,
    "start_time": "2025-04-28T22:47:09.364Z"
   },
   {
    "duration": 41,
    "start_time": "2025-04-28T22:47:09.378Z"
   },
   {
    "duration": 14,
    "start_time": "2025-04-28T22:47:09.420Z"
   },
   {
    "duration": 4,
    "start_time": "2025-04-28T22:47:09.435Z"
   },
   {
    "duration": 17,
    "start_time": "2025-04-28T22:47:09.440Z"
   },
   {
    "duration": 10,
    "start_time": "2025-04-28T22:47:09.459Z"
   },
   {
    "duration": 5,
    "start_time": "2025-04-28T22:47:09.470Z"
   },
   {
    "duration": 68,
    "start_time": "2025-04-28T22:47:09.511Z"
   },
   {
    "duration": 498,
    "start_time": "2025-04-28T22:47:09.581Z"
   },
   {
    "duration": 203,
    "start_time": "2025-04-28T22:47:10.081Z"
   },
   {
    "duration": 351,
    "start_time": "2025-04-28T22:47:10.285Z"
   },
   {
    "duration": 4,
    "start_time": "2025-04-28T22:47:10.640Z"
   },
   {
    "duration": 4,
    "start_time": "2025-04-28T22:47:10.646Z"
   },
   {
    "duration": 13,
    "start_time": "2025-04-28T22:47:10.652Z"
   },
   {
    "duration": 71,
    "start_time": "2025-04-28T22:47:10.667Z"
   },
   {
    "duration": 9,
    "start_time": "2025-04-28T22:47:10.739Z"
   },
   {
    "duration": 681,
    "start_time": "2025-04-28T22:47:10.750Z"
   },
   {
    "duration": 14,
    "start_time": "2025-04-28T22:47:11.433Z"
   },
   {
    "duration": 13,
    "start_time": "2025-04-28T22:47:11.449Z"
   },
   {
    "duration": 96,
    "start_time": "2025-04-28T22:47:11.463Z"
   },
   {
    "duration": 213,
    "start_time": "2025-04-28T22:48:05.753Z"
   },
   {
    "duration": 5,
    "start_time": "2025-04-28T22:48:32.025Z"
   },
   {
    "duration": 4,
    "start_time": "2025-04-28T22:49:50.553Z"
   },
   {
    "duration": 6,
    "start_time": "2025-04-28T22:50:52.768Z"
   },
   {
    "duration": 4,
    "start_time": "2025-04-28T22:51:07.961Z"
   },
   {
    "duration": 11,
    "start_time": "2025-04-28T22:51:42.903Z"
   },
   {
    "duration": 4,
    "start_time": "2025-04-28T22:51:53.280Z"
   },
   {
    "duration": 5,
    "start_time": "2025-04-28T22:52:20.998Z"
   },
   {
    "duration": 4,
    "start_time": "2025-04-28T22:52:27.630Z"
   },
   {
    "duration": 567,
    "start_time": "2025-04-28T22:53:28.271Z"
   },
   {
    "duration": 83,
    "start_time": "2025-04-28T22:54:11.153Z"
   },
   {
    "duration": 5,
    "start_time": "2025-04-28T22:54:27.859Z"
   },
   {
    "duration": 76,
    "start_time": "2025-04-28T22:55:07.673Z"
   },
   {
    "duration": 72,
    "start_time": "2025-04-28T22:56:19.554Z"
   },
   {
    "duration": 43,
    "start_time": "2025-04-28T22:57:32.792Z"
   },
   {
    "duration": 43,
    "start_time": "2025-04-28T22:57:41.585Z"
   },
   {
    "duration": 9,
    "start_time": "2025-04-28T22:59:17.178Z"
   },
   {
    "duration": 40,
    "start_time": "2025-04-28T22:59:25.113Z"
   },
   {
    "duration": 41,
    "start_time": "2025-04-28T23:00:39.453Z"
   },
   {
    "duration": 3,
    "start_time": "2025-04-28T23:00:56.233Z"
   },
   {
    "duration": 169,
    "start_time": "2025-04-28T23:00:56.238Z"
   },
   {
    "duration": 22,
    "start_time": "2025-04-28T23:00:56.409Z"
   },
   {
    "duration": 7,
    "start_time": "2025-04-28T23:00:56.433Z"
   },
   {
    "duration": 6,
    "start_time": "2025-04-28T23:00:56.442Z"
   },
   {
    "duration": 6,
    "start_time": "2025-04-28T23:00:56.449Z"
   },
   {
    "duration": 11,
    "start_time": "2025-04-28T23:00:56.457Z"
   },
   {
    "duration": 7,
    "start_time": "2025-04-28T23:00:56.469Z"
   },
   {
    "duration": 9,
    "start_time": "2025-04-28T23:00:56.511Z"
   },
   {
    "duration": 6,
    "start_time": "2025-04-28T23:00:56.522Z"
   },
   {
    "duration": 15,
    "start_time": "2025-04-28T23:00:56.532Z"
   },
   {
    "duration": 4,
    "start_time": "2025-04-28T23:00:56.548Z"
   },
   {
    "duration": 18,
    "start_time": "2025-04-28T23:00:56.554Z"
   },
   {
    "duration": 5,
    "start_time": "2025-04-28T23:00:56.574Z"
   },
   {
    "duration": 12,
    "start_time": "2025-04-28T23:00:56.612Z"
   },
   {
    "duration": 4,
    "start_time": "2025-04-28T23:00:56.626Z"
   },
   {
    "duration": 12,
    "start_time": "2025-04-28T23:00:56.632Z"
   },
   {
    "duration": 9,
    "start_time": "2025-04-28T23:00:56.646Z"
   },
   {
    "duration": 13,
    "start_time": "2025-04-28T23:00:56.657Z"
   },
   {
    "duration": 4,
    "start_time": "2025-04-28T23:00:56.671Z"
   },
   {
    "duration": 48,
    "start_time": "2025-04-28T23:00:56.676Z"
   },
   {
    "duration": 10,
    "start_time": "2025-04-28T23:00:56.725Z"
   },
   {
    "duration": 5,
    "start_time": "2025-04-28T23:00:56.737Z"
   },
   {
    "duration": 52,
    "start_time": "2025-04-28T23:00:56.743Z"
   },
   {
    "duration": 508,
    "start_time": "2025-04-28T23:00:56.797Z"
   },
   {
    "duration": 271,
    "start_time": "2025-04-28T23:00:57.307Z"
   },
   {
    "duration": 344,
    "start_time": "2025-04-28T23:00:57.580Z"
   },
   {
    "duration": 5,
    "start_time": "2025-04-28T23:00:57.926Z"
   },
   {
    "duration": 4,
    "start_time": "2025-04-28T23:00:57.934Z"
   },
   {
    "duration": 12,
    "start_time": "2025-04-28T23:00:57.940Z"
   },
   {
    "duration": 72,
    "start_time": "2025-04-28T23:00:57.954Z"
   },
   {
    "duration": 11,
    "start_time": "2025-04-28T23:00:58.029Z"
   },
   {
    "duration": 842,
    "start_time": "2025-04-28T23:00:58.041Z"
   },
   {
    "duration": 16,
    "start_time": "2025-04-28T23:00:58.884Z"
   },
   {
    "duration": 24,
    "start_time": "2025-04-28T23:00:58.901Z"
   },
   {
    "duration": 39,
    "start_time": "2025-04-28T23:00:58.926Z"
   },
   {
    "duration": 63,
    "start_time": "2025-04-28T23:00:58.967Z"
   },
   {
    "duration": 0,
    "start_time": "2025-04-28T23:00:59.032Z"
   },
   {
    "duration": 0,
    "start_time": "2025-04-28T23:00:59.034Z"
   },
   {
    "duration": 0,
    "start_time": "2025-04-28T23:00:59.035Z"
   },
   {
    "duration": 0,
    "start_time": "2025-04-28T23:00:59.036Z"
   },
   {
    "duration": 0,
    "start_time": "2025-04-28T23:00:59.038Z"
   },
   {
    "duration": 0,
    "start_time": "2025-04-28T23:00:59.039Z"
   },
   {
    "duration": 0,
    "start_time": "2025-04-28T23:00:59.041Z"
   },
   {
    "duration": 0,
    "start_time": "2025-04-28T23:00:59.042Z"
   },
   {
    "duration": 0,
    "start_time": "2025-04-28T23:00:59.044Z"
   },
   {
    "duration": 0,
    "start_time": "2025-04-28T23:00:59.045Z"
   },
   {
    "duration": 75,
    "start_time": "2025-04-28T23:01:02.659Z"
   },
   {
    "duration": 75,
    "start_time": "2025-04-28T23:01:55.640Z"
   },
   {
    "duration": 91,
    "start_time": "2025-04-28T23:03:38.193Z"
   },
   {
    "duration": 5,
    "start_time": "2025-04-28T23:05:41.795Z"
   },
   {
    "duration": 5,
    "start_time": "2025-04-28T23:05:44.362Z"
   },
   {
    "duration": 76,
    "start_time": "2025-04-28T23:06:26.249Z"
   },
   {
    "duration": 71,
    "start_time": "2025-04-28T23:07:08.098Z"
   },
   {
    "duration": 6,
    "start_time": "2025-04-28T23:07:22.800Z"
   },
   {
    "duration": 6,
    "start_time": "2025-04-28T23:07:30.601Z"
   },
   {
    "duration": 3,
    "start_time": "2025-04-28T23:09:01.823Z"
   },
   {
    "duration": 8,
    "start_time": "2025-04-28T23:09:09.843Z"
   },
   {
    "duration": 5,
    "start_time": "2025-04-28T23:10:23.593Z"
   },
   {
    "duration": 20,
    "start_time": "2025-04-28T23:11:15.816Z"
   },
   {
    "duration": 24,
    "start_time": "2025-04-28T23:12:40.602Z"
   },
   {
    "duration": 17,
    "start_time": "2025-04-28T23:14:06.844Z"
   },
   {
    "duration": 8,
    "start_time": "2025-04-28T23:14:23.107Z"
   },
   {
    "duration": 6,
    "start_time": "2025-04-28T23:15:31.701Z"
   },
   {
    "duration": 5,
    "start_time": "2025-04-28T23:15:31.761Z"
   },
   {
    "duration": 10,
    "start_time": "2025-04-28T23:16:42.759Z"
   },
   {
    "duration": 10,
    "start_time": "2025-04-28T23:17:15.303Z"
   },
   {
    "duration": 5,
    "start_time": "2025-04-28T23:17:15.351Z"
   },
   {
    "duration": 47,
    "start_time": "2025-04-28T23:18:51.224Z"
   },
   {
    "duration": 17,
    "start_time": "2025-04-28T23:19:28.228Z"
   },
   {
    "duration": 8,
    "start_time": "2025-04-28T23:19:43.948Z"
   },
   {
    "duration": 7,
    "start_time": "2025-04-28T23:19:50.038Z"
   },
   {
    "duration": 5,
    "start_time": "2025-04-28T23:19:56.619Z"
   },
   {
    "duration": 39,
    "start_time": "2025-04-28T23:19:59.179Z"
   },
   {
    "duration": 249,
    "start_time": "2025-04-28T23:20:04.034Z"
   },
   {
    "duration": 6,
    "start_time": "2025-04-28T23:20:21.780Z"
   },
   {
    "duration": 9,
    "start_time": "2025-04-28T23:20:25.162Z"
   },
   {
    "duration": 4,
    "start_time": "2025-04-28T23:20:26.529Z"
   },
   {
    "duration": 20,
    "start_time": "2025-04-28T23:20:32.449Z"
   },
   {
    "duration": 6,
    "start_time": "2025-04-28T23:20:47.658Z"
   },
   {
    "duration": 2534,
    "start_time": "2025-04-29T20:12:51.385Z"
   },
   {
    "duration": 213,
    "start_time": "2025-04-29T20:12:53.921Z"
   },
   {
    "duration": 24,
    "start_time": "2025-04-29T20:12:54.136Z"
   },
   {
    "duration": 5,
    "start_time": "2025-04-29T20:12:54.162Z"
   },
   {
    "duration": 7,
    "start_time": "2025-04-29T20:12:54.170Z"
   },
   {
    "duration": 6,
    "start_time": "2025-04-29T20:12:54.179Z"
   },
   {
    "duration": 12,
    "start_time": "2025-04-29T20:12:54.187Z"
   },
   {
    "duration": 8,
    "start_time": "2025-04-29T20:12:54.201Z"
   },
   {
    "duration": 10,
    "start_time": "2025-04-29T20:12:54.211Z"
   },
   {
    "duration": 6,
    "start_time": "2025-04-29T20:12:54.223Z"
   },
   {
    "duration": 56,
    "start_time": "2025-04-29T20:12:54.230Z"
   },
   {
    "duration": 4,
    "start_time": "2025-04-29T20:12:54.288Z"
   },
   {
    "duration": 21,
    "start_time": "2025-04-29T20:12:54.294Z"
   },
   {
    "duration": 5,
    "start_time": "2025-04-29T20:12:54.319Z"
   },
   {
    "duration": 12,
    "start_time": "2025-04-29T20:12:54.325Z"
   },
   {
    "duration": 33,
    "start_time": "2025-04-29T20:12:54.339Z"
   },
   {
    "duration": 14,
    "start_time": "2025-04-29T20:12:54.374Z"
   },
   {
    "duration": 9,
    "start_time": "2025-04-29T20:12:54.390Z"
   },
   {
    "duration": 14,
    "start_time": "2025-04-29T20:12:54.400Z"
   },
   {
    "duration": 5,
    "start_time": "2025-04-29T20:12:54.416Z"
   },
   {
    "duration": 51,
    "start_time": "2025-04-29T20:12:54.422Z"
   },
   {
    "duration": 12,
    "start_time": "2025-04-29T20:12:54.475Z"
   },
   {
    "duration": 5,
    "start_time": "2025-04-29T20:12:54.488Z"
   },
   {
    "duration": 69,
    "start_time": "2025-04-29T20:12:54.495Z"
   },
   {
    "duration": 449,
    "start_time": "2025-04-29T20:12:54.566Z"
   },
   {
    "duration": 253,
    "start_time": "2025-04-29T20:12:55.017Z"
   },
   {
    "duration": 329,
    "start_time": "2025-04-29T20:12:55.272Z"
   },
   {
    "duration": 3,
    "start_time": "2025-04-29T20:12:55.603Z"
   },
   {
    "duration": 4,
    "start_time": "2025-04-29T20:12:55.608Z"
   },
   {
    "duration": 12,
    "start_time": "2025-04-29T20:12:55.614Z"
   },
   {
    "duration": 64,
    "start_time": "2025-04-29T20:12:55.627Z"
   },
   {
    "duration": 9,
    "start_time": "2025-04-29T20:12:55.693Z"
   },
   {
    "duration": 774,
    "start_time": "2025-04-29T20:12:55.704Z"
   },
   {
    "duration": 15,
    "start_time": "2025-04-29T20:12:56.480Z"
   },
   {
    "duration": 14,
    "start_time": "2025-04-29T20:12:56.498Z"
   },
   {
    "duration": 59,
    "start_time": "2025-04-29T20:12:56.513Z"
   },
   {
    "duration": 630,
    "start_time": "2025-04-29T20:12:56.574Z"
   },
   {
    "duration": 0,
    "start_time": "2025-04-29T20:12:57.207Z"
   },
   {
    "duration": 0,
    "start_time": "2025-04-29T20:12:57.208Z"
   },
   {
    "duration": 0,
    "start_time": "2025-04-29T20:12:57.210Z"
   },
   {
    "duration": 0,
    "start_time": "2025-04-29T20:12:57.212Z"
   },
   {
    "duration": 0,
    "start_time": "2025-04-29T20:12:57.213Z"
   },
   {
    "duration": 0,
    "start_time": "2025-04-29T20:12:57.215Z"
   },
   {
    "duration": 0,
    "start_time": "2025-04-29T20:12:57.216Z"
   },
   {
    "duration": 0,
    "start_time": "2025-04-29T20:12:57.218Z"
   },
   {
    "duration": 0,
    "start_time": "2025-04-29T20:12:57.220Z"
   },
   {
    "duration": 0,
    "start_time": "2025-04-29T20:12:57.221Z"
   },
   {
    "duration": 0,
    "start_time": "2025-04-29T20:12:57.222Z"
   },
   {
    "duration": 0,
    "start_time": "2025-04-29T20:12:57.224Z"
   },
   {
    "duration": 0,
    "start_time": "2025-04-29T20:12:57.225Z"
   },
   {
    "duration": 0,
    "start_time": "2025-04-29T20:12:57.227Z"
   },
   {
    "duration": 1,
    "start_time": "2025-04-29T20:12:57.228Z"
   },
   {
    "duration": 0,
    "start_time": "2025-04-29T20:12:57.230Z"
   },
   {
    "duration": 0,
    "start_time": "2025-04-29T20:12:57.270Z"
   },
   {
    "duration": 0,
    "start_time": "2025-04-29T20:12:57.271Z"
   },
   {
    "duration": 0,
    "start_time": "2025-04-29T20:12:57.272Z"
   },
   {
    "duration": 0,
    "start_time": "2025-04-29T20:12:57.273Z"
   },
   {
    "duration": 0,
    "start_time": "2025-04-29T20:12:57.274Z"
   },
   {
    "duration": 0,
    "start_time": "2025-04-29T20:12:57.275Z"
   },
   {
    "duration": 0,
    "start_time": "2025-04-29T20:12:57.276Z"
   },
   {
    "duration": 0,
    "start_time": "2025-04-29T20:12:57.277Z"
   },
   {
    "duration": 0,
    "start_time": "2025-04-29T20:12:57.278Z"
   },
   {
    "duration": 0,
    "start_time": "2025-04-29T20:12:57.279Z"
   },
   {
    "duration": 10,
    "start_time": "2025-04-29T20:13:25.242Z"
   },
   {
    "duration": 4,
    "start_time": "2025-04-29T20:13:25.679Z"
   },
   {
    "duration": 42,
    "start_time": "2025-04-29T20:13:25.863Z"
   },
   {
    "duration": 211,
    "start_time": "2025-04-29T20:13:27.114Z"
   },
   {
    "duration": 0,
    "start_time": "2025-04-29T20:13:27.327Z"
   },
   {
    "duration": 200,
    "start_time": "2025-04-29T20:13:27.695Z"
   },
   {
    "duration": 170,
    "start_time": "2025-04-29T20:13:27.902Z"
   },
   {
    "duration": 26,
    "start_time": "2025-04-29T20:13:28.747Z"
   },
   {
    "duration": 263,
    "start_time": "2025-04-29T20:13:28.962Z"
   },
   {
    "duration": 9,
    "start_time": "2025-04-29T20:13:30.053Z"
   },
   {
    "duration": 328,
    "start_time": "2025-04-29T20:13:30.078Z"
   },
   {
    "duration": 4,
    "start_time": "2025-04-29T20:13:30.408Z"
   },
   {
    "duration": 7,
    "start_time": "2025-04-29T20:13:30.423Z"
   },
   {
    "duration": 11,
    "start_time": "2025-04-29T20:13:30.615Z"
   },
   {
    "duration": 10,
    "start_time": "2025-04-29T20:13:30.795Z"
   },
   {
    "duration": 43,
    "start_time": "2025-04-29T20:13:30.970Z"
   },
   {
    "duration": 18,
    "start_time": "2025-04-29T20:13:31.486Z"
   },
   {
    "duration": 9,
    "start_time": "2025-04-29T20:13:32.853Z"
   },
   {
    "duration": 8,
    "start_time": "2025-04-29T20:13:33.285Z"
   },
   {
    "duration": 5,
    "start_time": "2025-04-29T20:13:33.921Z"
   },
   {
    "duration": 40,
    "start_time": "2025-04-29T20:13:34.327Z"
   },
   {
    "duration": 249,
    "start_time": "2025-04-29T20:13:34.747Z"
   },
   {
    "duration": 13,
    "start_time": "2025-04-29T20:18:30.351Z"
   },
   {
    "duration": 13,
    "start_time": "2025-04-29T20:19:04.216Z"
   },
   {
    "duration": 158,
    "start_time": "2025-05-01T10:40:23.988Z"
   },
   {
    "duration": 2486,
    "start_time": "2025-05-01T10:40:29.568Z"
   },
   {
    "duration": 220,
    "start_time": "2025-05-01T10:40:32.057Z"
   },
   {
    "duration": 26,
    "start_time": "2025-05-01T10:40:32.279Z"
   },
   {
    "duration": 4,
    "start_time": "2025-05-01T10:40:32.308Z"
   },
   {
    "duration": 7,
    "start_time": "2025-05-01T10:40:32.314Z"
   },
   {
    "duration": 5,
    "start_time": "2025-05-01T10:40:32.324Z"
   },
   {
    "duration": 12,
    "start_time": "2025-05-01T10:40:32.330Z"
   },
   {
    "duration": 7,
    "start_time": "2025-05-01T10:40:32.343Z"
   },
   {
    "duration": 44,
    "start_time": "2025-05-01T10:40:32.351Z"
   },
   {
    "duration": 6,
    "start_time": "2025-05-01T10:40:32.398Z"
   },
   {
    "duration": 15,
    "start_time": "2025-05-01T10:40:32.406Z"
   },
   {
    "duration": 4,
    "start_time": "2025-05-01T10:40:32.424Z"
   },
   {
    "duration": 19,
    "start_time": "2025-05-01T10:40:32.430Z"
   },
   {
    "duration": 38,
    "start_time": "2025-05-01T10:40:32.451Z"
   },
   {
    "duration": 11,
    "start_time": "2025-05-01T10:40:32.491Z"
   },
   {
    "duration": 4,
    "start_time": "2025-05-01T10:40:32.504Z"
   },
   {
    "duration": 13,
    "start_time": "2025-05-01T10:40:32.510Z"
   },
   {
    "duration": 8,
    "start_time": "2025-05-01T10:40:32.525Z"
   },
   {
    "duration": 13,
    "start_time": "2025-05-01T10:40:32.536Z"
   },
   {
    "duration": 37,
    "start_time": "2025-05-01T10:40:32.550Z"
   },
   {
    "duration": 17,
    "start_time": "2025-05-01T10:40:32.589Z"
   },
   {
    "duration": 10,
    "start_time": "2025-05-01T10:40:32.607Z"
   },
   {
    "duration": 4,
    "start_time": "2025-05-01T10:40:32.620Z"
   },
   {
    "duration": 66,
    "start_time": "2025-05-01T10:40:32.625Z"
   },
   {
    "duration": 445,
    "start_time": "2025-05-01T10:40:32.693Z"
   },
   {
    "duration": 253,
    "start_time": "2025-05-01T10:40:33.140Z"
   },
   {
    "duration": 8,
    "start_time": "2025-05-01T10:40:33.395Z"
   },
   {
    "duration": 7,
    "start_time": "2025-05-01T10:43:16.947Z"
   },
   {
    "duration": 16,
    "start_time": "2025-05-01T10:45:45.337Z"
   },
   {
    "duration": 3,
    "start_time": "2025-05-01T10:46:23.069Z"
   },
   {
    "duration": 171,
    "start_time": "2025-05-01T10:46:23.074Z"
   },
   {
    "duration": 24,
    "start_time": "2025-05-01T10:46:23.247Z"
   },
   {
    "duration": 4,
    "start_time": "2025-05-01T10:46:23.273Z"
   },
   {
    "duration": 6,
    "start_time": "2025-05-01T10:46:23.286Z"
   },
   {
    "duration": 6,
    "start_time": "2025-05-01T10:46:23.294Z"
   },
   {
    "duration": 11,
    "start_time": "2025-05-01T10:46:23.302Z"
   },
   {
    "duration": 6,
    "start_time": "2025-05-01T10:46:23.315Z"
   },
   {
    "duration": 9,
    "start_time": "2025-05-01T10:46:23.322Z"
   },
   {
    "duration": 6,
    "start_time": "2025-05-01T10:46:23.333Z"
   },
   {
    "duration": 58,
    "start_time": "2025-05-01T10:46:23.343Z"
   },
   {
    "duration": 5,
    "start_time": "2025-05-01T10:46:23.402Z"
   },
   {
    "duration": 19,
    "start_time": "2025-05-01T10:46:23.408Z"
   },
   {
    "duration": 5,
    "start_time": "2025-05-01T10:46:23.428Z"
   },
   {
    "duration": 11,
    "start_time": "2025-05-01T10:46:23.435Z"
   },
   {
    "duration": 4,
    "start_time": "2025-05-01T10:46:23.448Z"
   },
   {
    "duration": 42,
    "start_time": "2025-05-01T10:46:23.453Z"
   },
   {
    "duration": 10,
    "start_time": "2025-05-01T10:46:23.497Z"
   },
   {
    "duration": 14,
    "start_time": "2025-05-01T10:46:23.508Z"
   },
   {
    "duration": 4,
    "start_time": "2025-05-01T10:46:23.523Z"
   },
   {
    "duration": 17,
    "start_time": "2025-05-01T10:46:23.528Z"
   },
   {
    "duration": 10,
    "start_time": "2025-05-01T10:46:23.546Z"
   },
   {
    "duration": 4,
    "start_time": "2025-05-01T10:46:23.587Z"
   },
   {
    "duration": 54,
    "start_time": "2025-05-01T10:46:23.593Z"
   },
   {
    "duration": 391,
    "start_time": "2025-05-01T10:46:23.649Z"
   },
   {
    "duration": 245,
    "start_time": "2025-05-01T10:46:24.042Z"
   },
   {
    "duration": 361,
    "start_time": "2025-05-01T10:46:24.289Z"
   },
   {
    "duration": 316,
    "start_time": "2025-05-01T10:46:46.133Z"
   },
   {
    "duration": 4,
    "start_time": "2025-05-01T10:47:29.160Z"
   },
   {
    "duration": 3,
    "start_time": "2025-05-01T10:47:46.735Z"
   },
   {
    "duration": 21,
    "start_time": "2025-05-01T10:49:52.067Z"
   },
   {
    "duration": 4,
    "start_time": "2025-05-01T10:51:14.733Z"
   },
   {
    "duration": 19,
    "start_time": "2025-05-01T10:51:16.933Z"
   },
   {
    "duration": 8,
    "start_time": "2025-05-01T10:54:43.583Z"
   },
   {
    "duration": 6,
    "start_time": "2025-05-01T11:01:20.585Z"
   },
   {
    "duration": 834,
    "start_time": "2025-05-01T11:02:24.637Z"
   },
   {
    "duration": 57,
    "start_time": "2025-05-01T11:03:49.163Z"
   },
   {
    "duration": 7,
    "start_time": "2025-05-01T11:06:20.348Z"
   },
   {
    "duration": 20,
    "start_time": "2025-05-01T11:09:54.214Z"
   },
   {
    "duration": 18,
    "start_time": "2025-05-01T11:10:24.745Z"
   },
   {
    "duration": 8,
    "start_time": "2025-05-01T11:10:33.266Z"
   },
   {
    "duration": 15,
    "start_time": "2025-05-01T11:13:02.259Z"
   },
   {
    "duration": 203,
    "start_time": "2025-05-01T11:17:32.914Z"
   },
   {
    "duration": 19,
    "start_time": "2025-05-01T11:18:07.710Z"
   },
   {
    "duration": 8,
    "start_time": "2025-05-01T11:18:14.679Z"
   },
   {
    "duration": 8,
    "start_time": "2025-05-01T11:18:17.867Z"
   },
   {
    "duration": 8,
    "start_time": "2025-05-01T11:18:23.260Z"
   },
   {
    "duration": 19,
    "start_time": "2025-05-01T11:18:29.357Z"
   },
   {
    "duration": 12,
    "start_time": "2025-05-01T11:22:20.337Z"
   },
   {
    "duration": 12,
    "start_time": "2025-05-01T11:25:08.651Z"
   },
   {
    "duration": 14,
    "start_time": "2025-05-01T11:25:46.085Z"
   },
   {
    "duration": 12,
    "start_time": "2025-05-01T11:29:12.124Z"
   },
   {
    "duration": 14,
    "start_time": "2025-05-01T11:31:38.703Z"
   },
   {
    "duration": 16,
    "start_time": "2025-05-01T11:33:46.878Z"
   },
   {
    "duration": 44,
    "start_time": "2025-05-01T11:35:16.387Z"
   },
   {
    "duration": 16,
    "start_time": "2025-05-01T11:35:47.206Z"
   },
   {
    "duration": 20,
    "start_time": "2025-05-01T11:40:30.824Z"
   },
   {
    "duration": 3,
    "start_time": "2025-05-01T11:43:34.288Z"
   },
   {
    "duration": 16,
    "start_time": "2025-05-01T11:44:00.003Z"
   },
   {
    "duration": 2,
    "start_time": "2025-05-01T11:45:50.574Z"
   },
   {
    "duration": 153,
    "start_time": "2025-05-01T11:47:29.721Z"
   },
   {
    "duration": 42,
    "start_time": "2025-05-01T11:47:50.171Z"
   },
   {
    "duration": 392,
    "start_time": "2025-05-01T11:48:06.315Z"
   },
   {
    "duration": 41,
    "start_time": "2025-05-01T11:48:18.628Z"
   },
   {
    "duration": 9,
    "start_time": "2025-05-01T11:48:27.272Z"
   },
   {
    "duration": 280,
    "start_time": "2025-05-01T11:48:38.062Z"
   },
   {
    "duration": 498,
    "start_time": "2025-05-01T11:48:46.577Z"
   },
   {
    "duration": 44,
    "start_time": "2025-05-01T11:49:44.530Z"
   },
   {
    "duration": 110,
    "start_time": "2025-05-01T11:49:58.279Z"
   },
   {
    "duration": 40,
    "start_time": "2025-05-01T11:50:18.314Z"
   },
   {
    "duration": 26,
    "start_time": "2025-05-01T11:51:36.456Z"
   },
   {
    "duration": 22,
    "start_time": "2025-05-01T11:51:40.320Z"
   },
   {
    "duration": 9,
    "start_time": "2025-05-01T11:52:00.371Z"
   },
   {
    "duration": 3,
    "start_time": "2025-05-01T11:52:10.065Z"
   },
   {
    "duration": 9,
    "start_time": "2025-05-01T11:52:11.305Z"
   },
   {
    "duration": 12,
    "start_time": "2025-05-01T11:52:16.379Z"
   },
   {
    "duration": 122,
    "start_time": "2025-05-01T11:52:18.569Z"
   },
   {
    "duration": 23,
    "start_time": "2025-05-01T11:53:04.741Z"
   },
   {
    "duration": 27,
    "start_time": "2025-05-01T11:53:13.036Z"
   },
   {
    "duration": 8,
    "start_time": "2025-05-01T11:53:48.233Z"
   },
   {
    "duration": 43,
    "start_time": "2025-05-01T11:54:03.725Z"
   },
   {
    "duration": 266,
    "start_time": "2025-05-01T11:54:43.877Z"
   },
   {
    "duration": 7,
    "start_time": "2025-05-01T11:56:27.423Z"
   },
   {
    "duration": 9,
    "start_time": "2025-05-01T11:56:48.794Z"
   },
   {
    "duration": 5,
    "start_time": "2025-05-01T11:56:55.206Z"
   },
   {
    "duration": 21,
    "start_time": "2025-05-01T11:57:10.229Z"
   },
   {
    "duration": 21,
    "start_time": "2025-05-01T11:57:17.062Z"
   },
   {
    "duration": 6,
    "start_time": "2025-05-01T11:57:47.344Z"
   },
   {
    "duration": 2525,
    "start_time": "2025-05-01T21:18:31.688Z"
   },
   {
    "duration": 210,
    "start_time": "2025-05-01T21:18:34.216Z"
   },
   {
    "duration": 24,
    "start_time": "2025-05-01T21:18:34.428Z"
   },
   {
    "duration": 5,
    "start_time": "2025-05-01T21:18:34.453Z"
   },
   {
    "duration": 6,
    "start_time": "2025-05-01T21:18:34.461Z"
   },
   {
    "duration": 5,
    "start_time": "2025-05-01T21:18:34.486Z"
   },
   {
    "duration": 11,
    "start_time": "2025-05-01T21:18:34.492Z"
   },
   {
    "duration": 7,
    "start_time": "2025-05-01T21:18:34.505Z"
   },
   {
    "duration": 10,
    "start_time": "2025-05-01T21:18:34.515Z"
   },
   {
    "duration": 6,
    "start_time": "2025-05-01T21:18:34.526Z"
   },
   {
    "duration": 15,
    "start_time": "2025-05-01T21:18:34.534Z"
   },
   {
    "duration": 37,
    "start_time": "2025-05-01T21:18:34.550Z"
   },
   {
    "duration": 22,
    "start_time": "2025-05-01T21:18:34.588Z"
   },
   {
    "duration": 5,
    "start_time": "2025-05-01T21:18:34.614Z"
   },
   {
    "duration": 11,
    "start_time": "2025-05-01T21:18:34.621Z"
   },
   {
    "duration": 3,
    "start_time": "2025-05-01T21:18:34.634Z"
   },
   {
    "duration": 12,
    "start_time": "2025-05-01T21:18:34.639Z"
   },
   {
    "duration": 41,
    "start_time": "2025-05-01T21:18:34.653Z"
   },
   {
    "duration": 13,
    "start_time": "2025-05-01T21:18:34.696Z"
   },
   {
    "duration": 4,
    "start_time": "2025-05-01T21:18:34.711Z"
   },
   {
    "duration": 17,
    "start_time": "2025-05-01T21:18:34.717Z"
   },
   {
    "duration": 11,
    "start_time": "2025-05-01T21:18:34.736Z"
   },
   {
    "duration": 42,
    "start_time": "2025-05-01T21:18:34.748Z"
   },
   {
    "duration": 62,
    "start_time": "2025-05-01T21:18:34.794Z"
   },
   {
    "duration": 441,
    "start_time": "2025-05-01T21:18:34.858Z"
   },
   {
    "duration": 250,
    "start_time": "2025-05-01T21:18:35.301Z"
   },
   {
    "duration": 318,
    "start_time": "2025-05-01T21:18:35.553Z"
   },
   {
    "duration": 4,
    "start_time": "2025-05-01T21:18:35.873Z"
   },
   {
    "duration": 24,
    "start_time": "2025-05-01T21:18:35.878Z"
   },
   {
    "duration": 7,
    "start_time": "2025-05-01T21:18:35.903Z"
   },
   {
    "duration": 15,
    "start_time": "2025-05-01T21:18:35.911Z"
   },
   {
    "duration": 12,
    "start_time": "2025-05-01T21:18:35.928Z"
   },
   {
    "duration": 47,
    "start_time": "2025-05-01T21:18:35.942Z"
   },
   {
    "duration": 15,
    "start_time": "2025-05-01T21:18:35.991Z"
   },
   {
    "duration": 15,
    "start_time": "2025-05-01T21:18:36.008Z"
   },
   {
    "duration": 417,
    "start_time": "2025-05-01T21:18:36.024Z"
   },
   {
    "duration": 8,
    "start_time": "2025-05-01T21:18:36.443Z"
   },
   {
    "duration": 519,
    "start_time": "2025-05-01T21:18:36.453Z"
   },
   {
    "duration": 376,
    "start_time": "2025-05-01T21:18:36.974Z"
   },
   {
    "duration": 0,
    "start_time": "2025-05-01T21:18:37.352Z"
   },
   {
    "duration": 0,
    "start_time": "2025-05-01T21:18:37.354Z"
   },
   {
    "duration": 0,
    "start_time": "2025-05-01T21:18:37.356Z"
   },
   {
    "duration": 0,
    "start_time": "2025-05-01T21:18:37.357Z"
   },
   {
    "duration": 0,
    "start_time": "2025-05-01T21:18:37.359Z"
   },
   {
    "duration": 0,
    "start_time": "2025-05-01T21:18:37.360Z"
   },
   {
    "duration": 0,
    "start_time": "2025-05-01T21:18:37.361Z"
   },
   {
    "duration": 0,
    "start_time": "2025-05-01T21:18:37.362Z"
   },
   {
    "duration": 0,
    "start_time": "2025-05-01T21:18:37.365Z"
   },
   {
    "duration": 0,
    "start_time": "2025-05-01T21:18:37.386Z"
   },
   {
    "duration": 0,
    "start_time": "2025-05-01T21:18:37.387Z"
   },
   {
    "duration": 1,
    "start_time": "2025-05-01T21:18:37.388Z"
   },
   {
    "duration": 13,
    "start_time": "2025-05-01T21:18:43.613Z"
   },
   {
    "duration": 4,
    "start_time": "2025-05-01T21:18:43.668Z"
   },
   {
    "duration": 4,
    "start_time": "2025-05-01T21:18:51.819Z"
   },
   {
    "duration": 7,
    "start_time": "2025-05-01T21:20:17.686Z"
   },
   {
    "duration": 2548,
    "start_time": "2025-05-03T05:09:27.890Z"
   },
   {
    "duration": 211,
    "start_time": "2025-05-03T05:09:30.441Z"
   },
   {
    "duration": 25,
    "start_time": "2025-05-03T05:09:30.653Z"
   },
   {
    "duration": 5,
    "start_time": "2025-05-03T05:09:30.679Z"
   },
   {
    "duration": 6,
    "start_time": "2025-05-03T05:09:30.687Z"
   },
   {
    "duration": 5,
    "start_time": "2025-05-03T05:09:30.695Z"
   },
   {
    "duration": 26,
    "start_time": "2025-05-03T05:09:30.702Z"
   },
   {
    "duration": 6,
    "start_time": "2025-05-03T05:09:30.730Z"
   },
   {
    "duration": 10,
    "start_time": "2025-05-03T05:09:30.737Z"
   },
   {
    "duration": 6,
    "start_time": "2025-05-03T05:09:30.749Z"
   },
   {
    "duration": 16,
    "start_time": "2025-05-03T05:09:30.756Z"
   },
   {
    "duration": 5,
    "start_time": "2025-05-03T05:09:30.774Z"
   },
   {
    "duration": 62,
    "start_time": "2025-05-03T05:09:30.780Z"
   },
   {
    "duration": 7,
    "start_time": "2025-05-03T05:09:30.845Z"
   },
   {
    "duration": 12,
    "start_time": "2025-05-03T05:09:30.854Z"
   },
   {
    "duration": 4,
    "start_time": "2025-05-03T05:09:30.867Z"
   },
   {
    "duration": 14,
    "start_time": "2025-05-03T05:09:30.872Z"
   },
   {
    "duration": 38,
    "start_time": "2025-05-03T05:09:30.888Z"
   },
   {
    "duration": 15,
    "start_time": "2025-05-03T05:09:30.928Z"
   },
   {
    "duration": 4,
    "start_time": "2025-05-03T05:09:30.944Z"
   },
   {
    "duration": 17,
    "start_time": "2025-05-03T05:09:30.950Z"
   },
   {
    "duration": 10,
    "start_time": "2025-05-03T05:09:30.968Z"
   },
   {
    "duration": 4,
    "start_time": "2025-05-03T05:09:30.980Z"
   },
   {
    "duration": 91,
    "start_time": "2025-05-03T05:09:30.985Z"
   },
   {
    "duration": 461,
    "start_time": "2025-05-03T05:09:31.077Z"
   },
   {
    "duration": 247,
    "start_time": "2025-05-03T05:09:31.539Z"
   },
   {
    "duration": 326,
    "start_time": "2025-05-03T05:09:31.788Z"
   },
   {
    "duration": 4,
    "start_time": "2025-05-03T05:09:32.116Z"
   },
   {
    "duration": 19,
    "start_time": "2025-05-03T05:09:32.122Z"
   },
   {
    "duration": 8,
    "start_time": "2025-05-03T05:09:32.143Z"
   },
   {
    "duration": 15,
    "start_time": "2025-05-03T05:09:32.152Z"
   },
   {
    "duration": 13,
    "start_time": "2025-05-03T05:09:32.168Z"
   },
   {
    "duration": 50,
    "start_time": "2025-05-03T05:09:32.182Z"
   },
   {
    "duration": 20,
    "start_time": "2025-05-03T05:09:32.233Z"
   },
   {
    "duration": 16,
    "start_time": "2025-05-03T05:09:32.255Z"
   },
   {
    "duration": 388,
    "start_time": "2025-05-03T05:09:32.274Z"
   },
   {
    "duration": 11,
    "start_time": "2025-05-03T05:09:32.664Z"
   },
   {
    "duration": 535,
    "start_time": "2025-05-03T05:09:32.677Z"
   },
   {
    "duration": 354,
    "start_time": "2025-05-03T05:09:35.514Z"
   },
   {
    "duration": 39,
    "start_time": "2025-05-03T05:15:07.460Z"
   },
   {
    "duration": 9,
    "start_time": "2025-05-03T05:17:47.070Z"
   },
   {
    "duration": 4,
    "start_time": "2025-05-03T05:18:18.893Z"
   },
   {
    "duration": 5,
    "start_time": "2025-05-03T05:19:39.617Z"
   },
   {
    "duration": 5,
    "start_time": "2025-05-03T05:21:48.348Z"
   },
   {
    "duration": 5,
    "start_time": "2025-05-03T05:23:22.686Z"
   },
   {
    "duration": 21,
    "start_time": "2025-05-03T05:24:30.403Z"
   },
   {
    "duration": 20,
    "start_time": "2025-05-03T05:24:52.935Z"
   },
   {
    "duration": 3,
    "start_time": "2025-05-03T05:25:31.846Z"
   },
   {
    "duration": 7,
    "start_time": "2025-05-03T05:25:44.538Z"
   },
   {
    "duration": 2617,
    "start_time": "2025-05-03T09:14:40.629Z"
   },
   {
    "duration": 218,
    "start_time": "2025-05-03T09:14:43.248Z"
   },
   {
    "duration": 25,
    "start_time": "2025-05-03T09:14:43.468Z"
   },
   {
    "duration": 4,
    "start_time": "2025-05-03T09:14:43.495Z"
   },
   {
    "duration": 6,
    "start_time": "2025-05-03T09:14:43.502Z"
   },
   {
    "duration": 11,
    "start_time": "2025-05-03T09:14:43.509Z"
   },
   {
    "duration": 12,
    "start_time": "2025-05-03T09:14:43.521Z"
   },
   {
    "duration": 7,
    "start_time": "2025-05-03T09:14:43.534Z"
   },
   {
    "duration": 11,
    "start_time": "2025-05-03T09:14:43.543Z"
   },
   {
    "duration": 5,
    "start_time": "2025-05-03T09:14:43.556Z"
   },
   {
    "duration": 15,
    "start_time": "2025-05-03T09:14:43.563Z"
   },
   {
    "duration": 5,
    "start_time": "2025-05-03T09:14:43.579Z"
   },
   {
    "duration": 53,
    "start_time": "2025-05-03T09:14:43.585Z"
   },
   {
    "duration": 6,
    "start_time": "2025-05-03T09:14:43.641Z"
   },
   {
    "duration": 12,
    "start_time": "2025-05-03T09:14:43.649Z"
   },
   {
    "duration": 4,
    "start_time": "2025-05-03T09:14:43.663Z"
   },
   {
    "duration": 13,
    "start_time": "2025-05-03T09:14:43.669Z"
   },
   {
    "duration": 41,
    "start_time": "2025-05-03T09:14:43.683Z"
   },
   {
    "duration": 13,
    "start_time": "2025-05-03T09:14:43.726Z"
   },
   {
    "duration": 4,
    "start_time": "2025-05-03T09:14:43.740Z"
   },
   {
    "duration": 17,
    "start_time": "2025-05-03T09:14:43.746Z"
   },
   {
    "duration": 10,
    "start_time": "2025-05-03T09:14:43.764Z"
   },
   {
    "duration": 4,
    "start_time": "2025-05-03T09:14:43.776Z"
   },
   {
    "duration": 91,
    "start_time": "2025-05-03T09:14:43.782Z"
   },
   {
    "duration": 448,
    "start_time": "2025-05-03T09:14:43.874Z"
   },
   {
    "duration": 247,
    "start_time": "2025-05-03T09:14:44.324Z"
   },
   {
    "duration": 317,
    "start_time": "2025-05-03T09:14:44.574Z"
   },
   {
    "duration": 4,
    "start_time": "2025-05-03T09:14:44.893Z"
   },
   {
    "duration": 32,
    "start_time": "2025-05-03T09:14:44.899Z"
   },
   {
    "duration": 8,
    "start_time": "2025-05-03T09:14:44.934Z"
   },
   {
    "duration": 16,
    "start_time": "2025-05-03T09:14:44.943Z"
   },
   {
    "duration": 13,
    "start_time": "2025-05-03T09:14:44.961Z"
   },
   {
    "duration": 14,
    "start_time": "2025-05-03T09:14:44.976Z"
   },
   {
    "duration": 16,
    "start_time": "2025-05-03T09:14:45.019Z"
   },
   {
    "duration": 15,
    "start_time": "2025-05-03T09:14:45.036Z"
   },
   {
    "duration": 401,
    "start_time": "2025-05-03T09:14:45.052Z"
   },
   {
    "duration": 9,
    "start_time": "2025-05-03T09:14:45.456Z"
   },
   {
    "duration": 521,
    "start_time": "2025-05-03T09:14:45.467Z"
   },
   {
    "duration": 371,
    "start_time": "2025-05-03T09:14:45.990Z"
   },
   {
    "duration": 0,
    "start_time": "2025-05-03T09:14:46.364Z"
   },
   {
    "duration": 0,
    "start_time": "2025-05-03T09:14:46.365Z"
   },
   {
    "duration": 0,
    "start_time": "2025-05-03T09:14:46.366Z"
   },
   {
    "duration": 0,
    "start_time": "2025-05-03T09:14:46.368Z"
   },
   {
    "duration": 0,
    "start_time": "2025-05-03T09:14:46.368Z"
   },
   {
    "duration": 0,
    "start_time": "2025-05-03T09:14:46.370Z"
   },
   {
    "duration": 0,
    "start_time": "2025-05-03T09:14:46.371Z"
   },
   {
    "duration": 0,
    "start_time": "2025-05-03T09:14:46.372Z"
   },
   {
    "duration": 0,
    "start_time": "2025-05-03T09:14:46.373Z"
   },
   {
    "duration": 0,
    "start_time": "2025-05-03T09:14:46.375Z"
   },
   {
    "duration": 0,
    "start_time": "2025-05-03T09:14:46.376Z"
   },
   {
    "duration": 0,
    "start_time": "2025-05-03T09:14:46.377Z"
   },
   {
    "duration": 0,
    "start_time": "2025-05-03T09:14:46.379Z"
   },
   {
    "duration": 0,
    "start_time": "2025-05-03T09:14:46.381Z"
   },
   {
    "duration": 0,
    "start_time": "2025-05-03T09:14:46.382Z"
   },
   {
    "duration": 0,
    "start_time": "2025-05-03T09:14:46.383Z"
   },
   {
    "duration": 0,
    "start_time": "2025-05-03T09:14:46.420Z"
   },
   {
    "duration": 118,
    "start_time": "2025-05-03T09:14:54.616Z"
   },
   {
    "duration": 9,
    "start_time": "2025-05-03T09:14:55.439Z"
   },
   {
    "duration": 298,
    "start_time": "2025-05-03T09:14:55.630Z"
   },
   {
    "duration": 4,
    "start_time": "2025-05-03T09:14:56.919Z"
   },
   {
    "duration": 10,
    "start_time": "2025-05-03T09:14:57.153Z"
   },
   {
    "duration": 12,
    "start_time": "2025-05-03T09:14:57.352Z"
   },
   {
    "duration": 11,
    "start_time": "2025-05-03T09:14:57.572Z"
   },
   {
    "duration": 40,
    "start_time": "2025-05-03T09:14:57.848Z"
   },
   {
    "duration": 22,
    "start_time": "2025-05-03T09:14:58.537Z"
   },
   {
    "duration": 9,
    "start_time": "2025-05-03T09:14:59.194Z"
   },
   {
    "duration": 251,
    "start_time": "2025-05-03T09:14:59.517Z"
   },
   {
    "duration": 7,
    "start_time": "2025-05-03T09:15:01.581Z"
   },
   {
    "duration": 201,
    "start_time": "2025-05-03T09:15:06.844Z"
   },
   {
    "duration": 40,
    "start_time": "2025-05-03T09:15:07.147Z"
   },
   {
    "duration": 17,
    "start_time": "2025-05-03T09:15:08.506Z"
   },
   {
    "duration": 133,
    "start_time": "2025-05-03T09:15:09.294Z"
   },
   {
    "duration": 41,
    "start_time": "2025-05-03T09:15:09.901Z"
   },
   {
    "duration": 3231,
    "start_time": "2025-05-08T03:43:37.149Z"
   },
   {
    "duration": 280,
    "start_time": "2025-05-08T03:43:40.383Z"
   },
   {
    "duration": 24,
    "start_time": "2025-05-08T03:43:40.665Z"
   },
   {
    "duration": 9,
    "start_time": "2025-05-08T03:43:40.690Z"
   },
   {
    "duration": 8,
    "start_time": "2025-05-08T03:43:40.703Z"
   },
   {
    "duration": 6,
    "start_time": "2025-05-08T03:43:40.713Z"
   },
   {
    "duration": 18,
    "start_time": "2025-05-08T03:43:40.721Z"
   },
   {
    "duration": 10,
    "start_time": "2025-05-08T03:43:40.740Z"
   },
   {
    "duration": 9,
    "start_time": "2025-05-08T03:43:40.752Z"
   },
   {
    "duration": 34,
    "start_time": "2025-05-08T03:43:40.763Z"
   },
   {
    "duration": 35,
    "start_time": "2025-05-08T03:43:40.799Z"
   },
   {
    "duration": 5,
    "start_time": "2025-05-08T03:43:40.836Z"
   },
   {
    "duration": 28,
    "start_time": "2025-05-08T03:43:40.843Z"
   },
   {
    "duration": 7,
    "start_time": "2025-05-08T03:43:40.875Z"
   },
   {
    "duration": 21,
    "start_time": "2025-05-08T03:43:40.884Z"
   },
   {
    "duration": 5,
    "start_time": "2025-05-08T03:43:40.907Z"
   },
   {
    "duration": 25,
    "start_time": "2025-05-08T03:43:40.915Z"
   },
   {
    "duration": 12,
    "start_time": "2025-05-08T03:43:40.942Z"
   },
   {
    "duration": 34,
    "start_time": "2025-05-08T03:43:40.955Z"
   },
   {
    "duration": 5,
    "start_time": "2025-05-08T03:43:40.992Z"
   },
   {
    "duration": 43,
    "start_time": "2025-05-08T03:43:40.999Z"
   },
   {
    "duration": 14,
    "start_time": "2025-05-08T03:43:41.044Z"
   },
   {
    "duration": 5,
    "start_time": "2025-05-08T03:43:41.061Z"
   },
   {
    "duration": 82,
    "start_time": "2025-05-08T03:43:41.067Z"
   },
   {
    "duration": 637,
    "start_time": "2025-05-08T03:43:41.151Z"
   },
   {
    "duration": 370,
    "start_time": "2025-05-08T03:43:41.789Z"
   },
   {
    "duration": 453,
    "start_time": "2025-05-08T03:43:42.161Z"
   },
   {
    "duration": 5,
    "start_time": "2025-05-08T03:43:42.615Z"
   },
   {
    "duration": 24,
    "start_time": "2025-05-08T03:43:42.622Z"
   },
   {
    "duration": 8,
    "start_time": "2025-05-08T03:43:42.648Z"
   },
   {
    "duration": 53,
    "start_time": "2025-05-08T03:43:42.657Z"
   },
   {
    "duration": 25,
    "start_time": "2025-05-08T03:43:42.712Z"
   },
   {
    "duration": 18,
    "start_time": "2025-05-08T03:43:42.739Z"
   },
   {
    "duration": 18,
    "start_time": "2025-05-08T03:43:42.761Z"
   },
   {
    "duration": 37,
    "start_time": "2025-05-08T03:43:42.780Z"
   },
   {
    "duration": 438,
    "start_time": "2025-05-08T03:43:42.820Z"
   },
   {
    "duration": 11,
    "start_time": "2025-05-08T03:43:43.260Z"
   },
   {
    "duration": 584,
    "start_time": "2025-05-08T03:43:43.274Z"
   },
   {
    "duration": 480,
    "start_time": "2025-05-08T03:43:43.860Z"
   },
   {
    "duration": 0,
    "start_time": "2025-05-08T03:43:44.342Z"
   },
   {
    "duration": 0,
    "start_time": "2025-05-08T03:43:44.343Z"
   },
   {
    "duration": 0,
    "start_time": "2025-05-08T03:43:44.345Z"
   },
   {
    "duration": 0,
    "start_time": "2025-05-08T03:43:44.346Z"
   },
   {
    "duration": 0,
    "start_time": "2025-05-08T03:43:44.348Z"
   },
   {
    "duration": 0,
    "start_time": "2025-05-08T03:43:44.349Z"
   },
   {
    "duration": 0,
    "start_time": "2025-05-08T03:43:44.351Z"
   },
   {
    "duration": 0,
    "start_time": "2025-05-08T03:43:44.352Z"
   },
   {
    "duration": 0,
    "start_time": "2025-05-08T03:43:44.354Z"
   },
   {
    "duration": 0,
    "start_time": "2025-05-08T03:43:44.355Z"
   },
   {
    "duration": 0,
    "start_time": "2025-05-08T03:43:44.357Z"
   },
   {
    "duration": 0,
    "start_time": "2025-05-08T03:43:44.358Z"
   },
   {
    "duration": 53,
    "start_time": "2025-05-08T03:44:17.177Z"
   },
   {
    "duration": 616,
    "start_time": "2025-05-08T03:46:50.053Z"
   },
   {
    "duration": 26,
    "start_time": "2025-05-08T03:47:04.463Z"
   },
   {
    "duration": 81,
    "start_time": "2025-05-08T03:47:56.447Z"
   },
   {
    "duration": 8,
    "start_time": "2025-05-08T03:48:59.944Z"
   },
   {
    "duration": 63,
    "start_time": "2025-05-08T03:49:42.692Z"
   },
   {
    "duration": 9,
    "start_time": "2025-05-08T03:49:54.851Z"
   },
   {
    "duration": 6,
    "start_time": "2025-05-08T03:50:14.117Z"
   }
  ],
  "colab": {
   "provenance": []
  },
  "kernelspec": {
   "display_name": "Python 3 (ipykernel)",
   "language": "python",
   "name": "python3"
  },
  "language_info": {
   "codemirror_mode": {
    "name": "ipython",
    "version": 3
   },
   "file_extension": ".py",
   "mimetype": "text/x-python",
   "name": "python",
   "nbconvert_exporter": "python",
   "pygments_lexer": "ipython3",
   "version": "3.9.23"
  },
  "toc": {
   "base_numbering": 1,
   "nav_menu": {},
   "number_sections": true,
   "sideBar": true,
   "skip_h1_title": false,
   "title_cell": "Table of Contents",
   "title_sidebar": "Contents",
   "toc_cell": false,
   "toc_position": {
    "height": "calc(100% - 180px)",
    "left": "10px",
    "top": "150px",
    "width": "178.931px"
   },
   "toc_section_display": true,
   "toc_window_display": true
  }
 },
 "nbformat": 4,
 "nbformat_minor": 4
}
